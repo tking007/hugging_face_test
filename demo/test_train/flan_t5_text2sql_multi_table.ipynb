{
 "cells": [
  {
   "cell_type": "code",
   "execution_count": 1,
   "id": "0e97815e-9ab4-4d96-873d-4638bc3577c3",
   "metadata": {
    "ExecuteTime": {
     "end_time": "2023-10-19T09:12:42.585579400Z",
     "start_time": "2023-10-19T09:12:25.896123500Z"
    }
   },
   "outputs": [],
   "source": [
    "from typing import Dict, Any, List\n",
    "from datasets import load_dataset, concatenate_datasets\n",
    "import evaluate\n",
    "import json\n",
    "import re\n",
    "import pandas as pd\n",
    "from transformers import AutoTokenizer\n",
    "from transformers import AutoModelForSeq2SeqLM\n",
    "from transformers import DataCollatorForSeq2Seq\n",
    "from transformers import Seq2SeqTrainingArguments, Seq2SeqTrainer"
   ]
  },
  {
   "cell_type": "markdown",
   "id": "6af6e81d-f0cd-4cdf-98fa-c8b827382277",
   "metadata": {},
   "source": [
    "# Prepare Data"
   ]
  },
  {
   "cell_type": "code",
   "execution_count": 2,
   "id": "76dc86ff-cb06-4c4d-bc53-30776c4444fb",
   "metadata": {
    "ExecuteTime": {
     "end_time": "2023-10-19T09:12:53.910872800Z",
     "start_time": "2023-10-19T09:12:42.595160900Z"
    }
   },
   "outputs": [
    {
     "data": {
      "text/plain": "Downloading (…)okenizer_config.json:   0%|          | 0.00/2.54k [00:00<?, ?B/s]",
      "application/vnd.jupyter.widget-view+json": {
       "version_major": 2,
       "version_minor": 0,
       "model_id": "a3135c8a789d46b8a7b199e9e8172c85"
      }
     },
     "metadata": {},
     "output_type": "display_data"
    },
    {
     "data": {
      "text/plain": "Downloading spiece.model:   0%|          | 0.00/792k [00:00<?, ?B/s]",
      "application/vnd.jupyter.widget-view+json": {
       "version_major": 2,
       "version_minor": 0,
       "model_id": "37371f5bbe914d12a1d1bae0a1941d75"
      }
     },
     "metadata": {},
     "output_type": "display_data"
    },
    {
     "data": {
      "text/plain": "Downloading (…)/main/tokenizer.json:   0%|          | 0.00/2.42M [00:00<?, ?B/s]",
      "application/vnd.jupyter.widget-view+json": {
       "version_major": 2,
       "version_minor": 0,
       "model_id": "c25e0eb7992b4cd991288ac1758d3f19"
      }
     },
     "metadata": {},
     "output_type": "display_data"
    },
    {
     "data": {
      "text/plain": "Downloading (…)cial_tokens_map.json:   0%|          | 0.00/2.20k [00:00<?, ?B/s]",
      "application/vnd.jupyter.widget-view+json": {
       "version_major": 2,
       "version_minor": 0,
       "model_id": "8680d5b37956416f8075695beb128ff3"
      }
     },
     "metadata": {},
     "output_type": "display_data"
    },
    {
     "data": {
      "text/plain": "1"
     },
     "execution_count": 2,
     "metadata": {},
     "output_type": "execute_result"
    }
   ],
   "source": [
    "tokenizer = AutoTokenizer.from_pretrained(\"google/flan-t5-base\")\n",
    "tokenizer.add_tokens([\"<\"])"
   ]
  },
  {
   "cell_type": "markdown",
   "id": "6c63d55e-5274-481b-908c-1d47409899d9",
   "metadata": {},
   "source": [
    "## Spider"
   ]
  },
  {
   "cell_type": "code",
   "execution_count": 10,
   "id": "e835d2aa-6a52-4f9a-ba79-96524471f6bb",
   "metadata": {
    "ExecuteTime": {
     "end_time": "2023-10-19T09:21:46.524016200Z",
     "start_time": "2023-10-19T09:21:46.499919700Z"
    }
   },
   "outputs": [],
   "source": [
    "# prepare table for cosql and sparc\n",
    "with open(\"CSpider/tables.json\") as json_file:\n",
    "    json_data = json.load(json_file)\n",
    "    \n",
    "database = dict()\n",
    "\n",
    "for db in json_data:\n",
    "    database[db[\"db_id\"]] = dict()\n",
    "    for table in db[\"table_names_original\"]:\n",
    "        database[db[\"db_id\"]][table] = []\n",
    "    for column in db[\"column_names_original\"]:\n",
    "        table_id = column[0]\n",
    "        col_name = column[1]\n",
    "        if table_id != -1:\n",
    "            database[db[\"db_id\"]][db[\"table_names_original\"][table_id]].append(col_name)"
   ]
  },
  {
   "cell_type": "code",
   "execution_count": 7,
   "id": "f9cd9929-b1fe-4e0d-afcf-e154f34dbda6",
   "metadata": {
    "ExecuteTime": {
     "end_time": "2023-10-19T09:19:53.967485800Z",
     "start_time": "2023-10-19T09:16:14.893023100Z"
    }
   },
   "outputs": [
    {
     "data": {
      "text/plain": "Downloading builder script:   0%|          | 0.00/3.94k [00:00<?, ?B/s]",
      "application/vnd.jupyter.widget-view+json": {
       "version_major": 2,
       "version_minor": 0,
       "model_id": "30ab8a85d550424885371ed12c890e13"
      }
     },
     "metadata": {},
     "output_type": "display_data"
    },
    {
     "data": {
      "text/plain": "Downloading metadata:   0%|          | 0.00/1.97k [00:00<?, ?B/s]",
      "application/vnd.jupyter.widget-view+json": {
       "version_major": 2,
       "version_minor": 0,
       "model_id": "25bc1c9e17e247ffbf896e82ab2929f5"
      }
     },
     "metadata": {},
     "output_type": "display_data"
    },
    {
     "data": {
      "text/plain": "Downloading readme:   0%|          | 0.00/4.69k [00:00<?, ?B/s]",
      "application/vnd.jupyter.widget-view+json": {
       "version_major": 2,
       "version_minor": 0,
       "model_id": "2cd0266bc7394c05bc33344dcc6cb147"
      }
     },
     "metadata": {},
     "output_type": "display_data"
    },
    {
     "name": "stdout",
     "output_type": "stream",
     "text": [
      "Downloading and preparing dataset spider/spider to C:/Users/汽车/.cache/huggingface/datasets/spider/spider/1.0.0/4e5143d825a3895451569c8b9b55432b91a4bc2d04d390376c950837f4680daa...\n"
     ]
    },
    {
     "data": {
      "text/plain": "Downloading data:   0%|          | 0.00/99.7M [00:00<?, ?B/s]",
      "application/vnd.jupyter.widget-view+json": {
       "version_major": 2,
       "version_minor": 0,
       "model_id": "666f584a22c84cc586b784ef93e538a8"
      }
     },
     "metadata": {},
     "output_type": "display_data"
    },
    {
     "data": {
      "text/plain": "Generating train split:   0%|          | 0/7000 [00:00<?, ? examples/s]",
      "application/vnd.jupyter.widget-view+json": {
       "version_major": 2,
       "version_minor": 0,
       "model_id": "1ddbb6bcd86247b69d3329a1bd7efb2d"
      }
     },
     "metadata": {},
     "output_type": "display_data"
    },
    {
     "data": {
      "text/plain": "Generating validation split:   0%|          | 0/1034 [00:00<?, ? examples/s]",
      "application/vnd.jupyter.widget-view+json": {
       "version_major": 2,
       "version_minor": 0,
       "model_id": "c47fae01f7504788aa22c807a5b2ac75"
      }
     },
     "metadata": {},
     "output_type": "display_data"
    },
    {
     "name": "stdout",
     "output_type": "stream",
     "text": [
      "Dataset spider downloaded and prepared to C:/Users/汽车/.cache/huggingface/datasets/spider/spider/1.0.0/4e5143d825a3895451569c8b9b55432b91a4bc2d04d390376c950837f4680daa. Subsequent calls will reuse this data.\n"
     ]
    },
    {
     "data": {
      "text/plain": "  0%|          | 0/2 [00:00<?, ?it/s]",
      "application/vnd.jupyter.widget-view+json": {
       "version_major": 2,
       "version_minor": 0,
       "model_id": "5a3e951fdec347cf939dcf716b2bc39c"
      }
     },
     "metadata": {},
     "output_type": "display_data"
    }
   ],
   "source": [
    "spider = load_dataset(\"spider\")"
   ]
  },
  {
   "cell_type": "code",
   "execution_count": 5,
   "id": "1ba4f9e8-75fe-482c-ba36-90cdf7636ecf",
   "metadata": {},
   "outputs": [
    {
     "data": {
      "text/plain": [
       "DatasetDict({\n",
       "    train: Dataset({\n",
       "        features: ['db_id', 'query', 'question', 'query_toks', 'query_toks_no_value', 'question_toks'],\n",
       "        num_rows: 7000\n",
       "    })\n",
       "    validation: Dataset({\n",
       "        features: ['db_id', 'query', 'question', 'query_toks', 'query_toks_no_value', 'question_toks'],\n",
       "        num_rows: 1034\n",
       "    })\n",
       "})"
      ]
     },
     "execution_count": 5,
     "metadata": {},
     "output_type": "execute_result"
    }
   ],
   "source": [
    "spider"
   ]
  },
  {
   "cell_type": "code",
   "execution_count": 11,
   "id": "d6ae543c-646c-463c-a5e1-7be7d3ca0d52",
   "metadata": {
    "ExecuteTime": {
     "end_time": "2023-10-19T09:21:52.616183900Z",
     "start_time": "2023-10-19T09:21:52.584379300Z"
    }
   },
   "outputs": [],
   "source": [
    "def db_id_to_table(db_id):\n",
    "    global database\n",
    "    db = database[db_id]\n",
    "    table = [f\"{table}({','.join(db[table])})\" for table in db]\n",
    "    table = \", \".join(table)\n",
    "    return table"
   ]
  },
  {
   "cell_type": "code",
   "execution_count": 12,
   "id": "ddd6a4f3-ad3c-4a87-8f7f-adb609b6807f",
   "metadata": {
    "ExecuteTime": {
     "end_time": "2023-10-19T09:21:55.089585100Z",
     "start_time": "2023-10-19T09:21:55.074205400Z"
    }
   },
   "outputs": [],
   "source": [
    "def clean_text(text):\n",
    "    text = text.replace(\"\\xa0\", \" \").strip()\n",
    "    text = re.sub(r'\\s+', ' ', text)\n",
    "    return text\n",
    "\n",
    "def clean_query(query):\n",
    "    query = clean_text(query).replace(\" , \", \", \")\n",
    "    if query[-1] == \";\":\n",
    "        query = query[:-1]\n",
    "    return query\n",
    "\n",
    "def get_prompt(tables, question):\n",
    "    question = clean_text(question)\n",
    "    prompt = f\"\"\"convert question and table into SQL query. tables: {tables}. question: {question}\"\"\"\n",
    "    return prompt"
   ]
  },
  {
   "cell_type": "code",
   "execution_count": 13,
   "id": "3169be0e-7871-418e-ae82-ce9c1a74e40f",
   "metadata": {
    "ExecuteTime": {
     "end_time": "2023-10-19T09:21:57.384127600Z",
     "start_time": "2023-10-19T09:21:57.366537600Z"
    }
   },
   "outputs": [],
   "source": [
    "def spider_preprocess_function(examples):\n",
    "    tables = db_id_to_table(examples[\"db_id\"])\n",
    "    examples[\"query\"] = clean_query(examples[\"query\"])\n",
    "    examples[\"prompt\"] = get_prompt(tables, examples[\"question\"])\n",
    "    return examples\n",
    "\n",
    "def spider_tokenize(examples):\n",
    "    return tokenizer(examples[\"prompt\"], text_target=examples[\"query\"], max_length=tokenizer.model_max_length, truncation=True)"
   ]
  },
  {
   "cell_type": "code",
   "execution_count": 14,
   "id": "1debf018-cc35-4f06-bded-b2339e654f5c",
   "metadata": {
    "ExecuteTime": {
     "end_time": "2023-10-19T09:22:00.775509Z",
     "start_time": "2023-10-19T09:21:59.005544800Z"
    }
   },
   "outputs": [
    {
     "data": {
      "text/plain": "Map:   0%|          | 0/7000 [00:00<?, ? examples/s]",
      "application/vnd.jupyter.widget-view+json": {
       "version_major": 2,
       "version_minor": 0,
       "model_id": "34d1d337c247413fb006676f5f792295"
      }
     },
     "metadata": {},
     "output_type": "display_data"
    },
    {
     "data": {
      "text/plain": "Map:   0%|          | 0/1034 [00:00<?, ? examples/s]",
      "application/vnd.jupyter.widget-view+json": {
       "version_major": 2,
       "version_minor": 0,
       "model_id": "9cbcce1fd2ac4686a9d6fe40b8e8828a"
      }
     },
     "metadata": {},
     "output_type": "display_data"
    }
   ],
   "source": [
    "spider_train = spider[\"train\"].map(spider_preprocess_function, remove_columns=['db_id', 'question', 'query_toks', 'query_toks_no_value', 'question_toks'])\n",
    "spider_val = spider[\"validation\"].map(spider_preprocess_function, remove_columns=['db_id', 'question', 'query_toks', 'query_toks_no_value', 'question_toks'])"
   ]
  },
  {
   "cell_type": "code",
   "execution_count": 15,
   "id": "3905c93e-ace7-4839-a74e-766f15d22f16",
   "metadata": {
    "ExecuteTime": {
     "end_time": "2023-10-19T09:22:06.767047900Z",
     "start_time": "2023-10-19T09:22:06.754102700Z"
    }
   },
   "outputs": [
    {
     "data": {
      "text/plain": "{'query': 'select count(*) from concert where stadium_id = (select stadium_id from stadium order by capacity desc limit 1)',\n 'prompt': 'convert question and table into SQL query. tables: stadium(Stadium_ID,Location,Name,Capacity,Highest,Lowest,Average), singer(Singer_ID,Name,Country,Song_Name,Song_release_year,Age,Is_male), concert(concert_ID,concert_Name,Theme,Stadium_ID,Year), singer_in_concert(concert_ID,Singer_ID). question: Find the number of concerts happened in the stadium with the highest capacity .'}"
     },
     "execution_count": 15,
     "metadata": {},
     "output_type": "execute_result"
    }
   ],
   "source": [
    "spider_val[43]"
   ]
  },
  {
   "cell_type": "code",
   "execution_count": 16,
   "id": "c5a6c05c-dc02-4f32-af19-9287c9a93fb4",
   "metadata": {
    "ExecuteTime": {
     "end_time": "2023-10-19T09:22:15.324199600Z",
     "start_time": "2023-10-19T09:22:09.944314200Z"
    }
   },
   "outputs": [
    {
     "data": {
      "text/plain": "Map:   0%|          | 0/7000 [00:00<?, ? examples/s]",
      "application/vnd.jupyter.widget-view+json": {
       "version_major": 2,
       "version_minor": 0,
       "model_id": "b76d56b1210743f8bd6c7d31ad248079"
      }
     },
     "metadata": {},
     "output_type": "display_data"
    },
    {
     "data": {
      "text/plain": "Map:   0%|          | 0/1034 [00:00<?, ? examples/s]",
      "application/vnd.jupyter.widget-view+json": {
       "version_major": 2,
       "version_minor": 0,
       "model_id": "08abe9f9ae2945d69260bc5995dd6a72"
      }
     },
     "metadata": {},
     "output_type": "display_data"
    }
   ],
   "source": [
    "spider_train = spider_train.map(spider_tokenize, remove_columns=['prompt', 'query'])\n",
    "spider_val = spider_val.map(spider_tokenize, remove_columns=['prompt', 'query'])"
   ]
  },
  {
   "cell_type": "markdown",
   "id": "803da0d9-a848-4242-b858-e46f8e1786c9",
   "metadata": {},
   "source": [
    "# CoSQL & SPARC"
   ]
  },
  {
   "cell_type": "code",
   "execution_count": 17,
   "id": "806eb6ab-8e0c-419c-9261-92b9a52a265a",
   "metadata": {
    "ExecuteTime": {
     "end_time": "2023-10-19T09:22:20.964253800Z",
     "start_time": "2023-10-19T09:22:20.946414900Z"
    }
   },
   "outputs": [],
   "source": [
    "# prepare table for cosql and sparc\n",
    "# with open(\"/mnt/c/Users/Jui/Projects/data/cosql_dataset/tables.json\") as json_file:\n",
    "#     json_data = json.load(json_file)\n",
    "    \n",
    "# database = dict()\n",
    "\n",
    "# for db in json_data:\n",
    "#     database[db[\"db_id\"]] = dict()\n",
    "#     for table in db[\"table_names_original\"]:\n",
    "#         database[db[\"db_id\"]][table] = []\n",
    "#     for column in db[\"column_names_original\"]:\n",
    "#         table_id = column[0]\n",
    "#         col_name = column[1]\n",
    "#         if table_id != -1:\n",
    "#             database[db[\"db_id\"]][db[\"table_names_original\"][table_id]].append(col_name)"
   ]
  },
  {
   "cell_type": "code",
   "execution_count": 18,
   "id": "8790b00f-ecf0-4fc7-9c68-24a69e7e5995",
   "metadata": {
    "ExecuteTime": {
     "end_time": "2023-10-19T09:22:22.115815400Z",
     "start_time": "2023-10-19T09:22:22.034485800Z"
    }
   },
   "outputs": [
    {
     "ename": "FileNotFoundError",
     "evalue": "[Errno 2] No such file or directory: '/mnt/c/Users/Jui/Projects/data/cosql_dataset/sql_state_tracking/cosql_dev.json'",
     "output_type": "error",
     "traceback": [
      "\u001B[1;31m---------------------------------------------------------------------------\u001B[0m",
      "\u001B[1;31mFileNotFoundError\u001B[0m                         Traceback (most recent call last)",
      "Cell \u001B[1;32mIn[18], line 23\u001B[0m\n\u001B[0;32m     20\u001B[0m     \u001B[38;5;28;01mreturn\u001B[39;00m df\n\u001B[0;32m     22\u001B[0m \u001B[38;5;66;03m# cosql\u001B[39;00m\n\u001B[1;32m---> 23\u001B[0m \u001B[43mjson_path_to_dataframe\u001B[49m\u001B[43m(\u001B[49m\u001B[38;5;124;43m\"\u001B[39;49m\u001B[38;5;124;43m/mnt/c/Users/Jui/Projects/data/cosql_dataset/sql_state_tracking/cosql_dev.json\u001B[39;49m\u001B[38;5;124;43m\"\u001B[39;49m\u001B[43m)\u001B[49m\u001B[38;5;241m.\u001B[39mto_csv(\u001B[38;5;124m\"\u001B[39m\u001B[38;5;124mcosql_dev.csv\u001B[39m\u001B[38;5;124m\"\u001B[39m, index\u001B[38;5;241m=\u001B[39m\u001B[38;5;28;01mFalse\u001B[39;00m)\n\u001B[0;32m     24\u001B[0m json_path_to_dataframe(\u001B[38;5;124m\"\u001B[39m\u001B[38;5;124m/mnt/c/Users/Jui/Projects/data/cosql_dataset/sql_state_tracking/cosql_train.json\u001B[39m\u001B[38;5;124m\"\u001B[39m)\u001B[38;5;241m.\u001B[39mto_csv(\u001B[38;5;124m\"\u001B[39m\u001B[38;5;124mcosql_train.csv\u001B[39m\u001B[38;5;124m\"\u001B[39m, index\u001B[38;5;241m=\u001B[39m\u001B[38;5;28;01mFalse\u001B[39;00m)\n\u001B[0;32m     26\u001B[0m \u001B[38;5;66;03m# sparc\u001B[39;00m\n",
      "Cell \u001B[1;32mIn[18], line 3\u001B[0m, in \u001B[0;36mjson_path_to_dataframe\u001B[1;34m(path)\u001B[0m\n\u001B[0;32m      2\u001B[0m \u001B[38;5;28;01mdef\u001B[39;00m \u001B[38;5;21mjson_path_to_dataframe\u001B[39m(path):\n\u001B[1;32m----> 3\u001B[0m     \u001B[38;5;28;01mwith\u001B[39;00m \u001B[38;5;28;43mopen\u001B[39;49m\u001B[43m(\u001B[49m\u001B[43mpath\u001B[49m\u001B[43m)\u001B[49m \u001B[38;5;28;01mas\u001B[39;00m json_file:\n\u001B[0;32m      4\u001B[0m         json_data \u001B[38;5;241m=\u001B[39m json\u001B[38;5;241m.\u001B[39mload(json_file)\n\u001B[0;32m      6\u001B[0m     df \u001B[38;5;241m=\u001B[39m pd\u001B[38;5;241m.\u001B[39mDataFrame(columns\u001B[38;5;241m=\u001B[39m[\u001B[38;5;124m\"\u001B[39m\u001B[38;5;124mprompt\u001B[39m\u001B[38;5;124m\"\u001B[39m, \u001B[38;5;124m\"\u001B[39m\u001B[38;5;124mquery\u001B[39m\u001B[38;5;124m\"\u001B[39m])\n",
      "File \u001B[1;32mD:\\python\\lib\\site-packages\\IPython\\core\\interactiveshell.py:284\u001B[0m, in \u001B[0;36m_modified_open\u001B[1;34m(file, *args, **kwargs)\u001B[0m\n\u001B[0;32m    277\u001B[0m \u001B[38;5;28;01mif\u001B[39;00m file \u001B[38;5;129;01min\u001B[39;00m {\u001B[38;5;241m0\u001B[39m, \u001B[38;5;241m1\u001B[39m, \u001B[38;5;241m2\u001B[39m}:\n\u001B[0;32m    278\u001B[0m     \u001B[38;5;28;01mraise\u001B[39;00m \u001B[38;5;167;01mValueError\u001B[39;00m(\n\u001B[0;32m    279\u001B[0m         \u001B[38;5;124mf\u001B[39m\u001B[38;5;124m\"\u001B[39m\u001B[38;5;124mIPython won\u001B[39m\u001B[38;5;124m'\u001B[39m\u001B[38;5;124mt let you open fd=\u001B[39m\u001B[38;5;132;01m{\u001B[39;00mfile\u001B[38;5;132;01m}\u001B[39;00m\u001B[38;5;124m by default \u001B[39m\u001B[38;5;124m\"\u001B[39m\n\u001B[0;32m    280\u001B[0m         \u001B[38;5;124m\"\u001B[39m\u001B[38;5;124mas it is likely to crash IPython. If you know what you are doing, \u001B[39m\u001B[38;5;124m\"\u001B[39m\n\u001B[0;32m    281\u001B[0m         \u001B[38;5;124m\"\u001B[39m\u001B[38;5;124myou can use builtins\u001B[39m\u001B[38;5;124m'\u001B[39m\u001B[38;5;124m open.\u001B[39m\u001B[38;5;124m\"\u001B[39m\n\u001B[0;32m    282\u001B[0m     )\n\u001B[1;32m--> 284\u001B[0m \u001B[38;5;28;01mreturn\u001B[39;00m \u001B[43mio_open\u001B[49m\u001B[43m(\u001B[49m\u001B[43mfile\u001B[49m\u001B[43m,\u001B[49m\u001B[43m \u001B[49m\u001B[38;5;241;43m*\u001B[39;49m\u001B[43margs\u001B[49m\u001B[43m,\u001B[49m\u001B[43m \u001B[49m\u001B[38;5;241;43m*\u001B[39;49m\u001B[38;5;241;43m*\u001B[39;49m\u001B[43mkwargs\u001B[49m\u001B[43m)\u001B[49m\n",
      "\u001B[1;31mFileNotFoundError\u001B[0m: [Errno 2] No such file or directory: '/mnt/c/Users/Jui/Projects/data/cosql_dataset/sql_state_tracking/cosql_dev.json'"
     ]
    }
   ],
   "source": [
    "# prepare data\n",
    "def json_path_to_dataframe(path):\n",
    "    with open(path) as json_file:\n",
    "        json_data = json.load(json_file)\n",
    "        \n",
    "    df = pd.DataFrame(columns=[\"prompt\", \"query\"])\n",
    "\n",
    "    for row in json_data:\n",
    "        question = row[\"final\"][\"utterance\"]\n",
    "        query = row[\"final\"][\"query\"]\n",
    "\n",
    "        tables = db_id_to_table(row[\"database_id\"])\n",
    "        query = clean_query(query)\n",
    "        prompt = get_prompt(tables, question)\n",
    "\n",
    "        df = pd.concat([df, pd.DataFrame({\n",
    "            \"prompt\": [prompt],\n",
    "            \"query\": [query]\n",
    "        })], axis=0, ignore_index=True)\n",
    "    return df\n",
    "\n",
    "# cosql\n",
    "json_path_to_dataframe(\"/mnt/c/Users/Jui/Projects/data/cosql_dataset/sql_state_tracking/cosql_dev.json\").to_csv(\"cosql_dev.csv\", index=False)\n",
    "json_path_to_dataframe(\"/mnt/c/Users/Jui/Projects/data/cosql_dataset/sql_state_tracking/cosql_train.json\").to_csv(\"cosql_train.csv\", index=False)\n",
    "\n",
    "# sparc\n",
    "json_path_to_dataframe(\"/mnt/c/Users/Jui/Projects/data/sparc/dev.json\").to_csv(\"sparc_dev.csv\", index=False)\n",
    "json_path_to_dataframe(\"/mnt/c/Users/Jui/Projects/data/sparc/train.json\").to_csv(\"sparc_train.csv\", index=False)"
   ]
  },
  {
   "cell_type": "code",
   "execution_count": 19,
   "id": "e9c2b1d8-96c1-4056-8a89-8b54224aa4c7",
   "metadata": {
    "ExecuteTime": {
     "end_time": "2023-10-19T09:22:30.888125Z",
     "start_time": "2023-10-19T09:22:29.127795800Z"
    }
   },
   "outputs": [
    {
     "ename": "FileNotFoundError",
     "evalue": "Unable to find 'D:\\cspider_test\\hugging_face_test\\cosql_dev.csv' at D:\\cspider_test\\hugging_face_test",
     "output_type": "error",
     "traceback": [
      "\u001B[1;31m---------------------------------------------------------------------------\u001B[0m",
      "\u001B[1;31mFileNotFoundError\u001B[0m                         Traceback (most recent call last)",
      "Cell \u001B[1;32mIn[19], line 1\u001B[0m\n\u001B[1;32m----> 1\u001B[0m cosql \u001B[38;5;241m=\u001B[39m \u001B[43mload_dataset\u001B[49m\u001B[43m(\u001B[49m\u001B[38;5;124;43m\"\u001B[39;49m\u001B[38;5;124;43mcsv\u001B[39;49m\u001B[38;5;124;43m\"\u001B[39;49m\u001B[43m,\u001B[49m\u001B[43m \u001B[49m\u001B[43mdata_files\u001B[49m\u001B[38;5;241;43m=\u001B[39;49m\u001B[43m{\u001B[49m\u001B[38;5;124;43m\"\u001B[39;49m\u001B[38;5;124;43mdev\u001B[39;49m\u001B[38;5;124;43m\"\u001B[39;49m\u001B[43m:\u001B[49m\u001B[43m \u001B[49m\u001B[38;5;124;43m\"\u001B[39;49m\u001B[38;5;124;43mcosql_dev.csv\u001B[39;49m\u001B[38;5;124;43m\"\u001B[39;49m\u001B[43m,\u001B[49m\u001B[43m \u001B[49m\u001B[38;5;124;43m\"\u001B[39;49m\u001B[38;5;124;43mtrain\u001B[39;49m\u001B[38;5;124;43m\"\u001B[39;49m\u001B[43m:\u001B[49m\u001B[43m \u001B[49m\u001B[38;5;124;43m\"\u001B[39;49m\u001B[38;5;124;43mcosql_train.csv\u001B[39;49m\u001B[38;5;124;43m\"\u001B[39;49m\u001B[43m}\u001B[49m\u001B[43m)\u001B[49m\n\u001B[0;32m      2\u001B[0m sparc \u001B[38;5;241m=\u001B[39m load_dataset(\u001B[38;5;124m\"\u001B[39m\u001B[38;5;124mcsv\u001B[39m\u001B[38;5;124m\"\u001B[39m, data_files\u001B[38;5;241m=\u001B[39m{\u001B[38;5;124m\"\u001B[39m\u001B[38;5;124mdev\u001B[39m\u001B[38;5;124m\"\u001B[39m: \u001B[38;5;124m\"\u001B[39m\u001B[38;5;124msparc_dev.csv\u001B[39m\u001B[38;5;124m\"\u001B[39m, \u001B[38;5;124m\"\u001B[39m\u001B[38;5;124mtrain\u001B[39m\u001B[38;5;124m\"\u001B[39m: \u001B[38;5;124m\"\u001B[39m\u001B[38;5;124msparc_train.csv\u001B[39m\u001B[38;5;124m\"\u001B[39m})\n",
      "File \u001B[1;32mD:\\python\\lib\\site-packages\\datasets\\load.py:1773\u001B[0m, in \u001B[0;36mload_dataset\u001B[1;34m(path, name, data_dir, data_files, split, cache_dir, features, download_config, download_mode, verification_mode, ignore_verifications, keep_in_memory, save_infos, revision, use_auth_token, task, streaming, num_proc, storage_options, **config_kwargs)\u001B[0m\n\u001B[0;32m   1768\u001B[0m verification_mode \u001B[38;5;241m=\u001B[39m VerificationMode(\n\u001B[0;32m   1769\u001B[0m     (verification_mode \u001B[38;5;129;01mor\u001B[39;00m VerificationMode\u001B[38;5;241m.\u001B[39mBASIC_CHECKS) \u001B[38;5;28;01mif\u001B[39;00m \u001B[38;5;129;01mnot\u001B[39;00m save_infos \u001B[38;5;28;01melse\u001B[39;00m VerificationMode\u001B[38;5;241m.\u001B[39mALL_CHECKS\n\u001B[0;32m   1770\u001B[0m )\n\u001B[0;32m   1772\u001B[0m \u001B[38;5;66;03m# Create a dataset builder\u001B[39;00m\n\u001B[1;32m-> 1773\u001B[0m builder_instance \u001B[38;5;241m=\u001B[39m \u001B[43mload_dataset_builder\u001B[49m\u001B[43m(\u001B[49m\n\u001B[0;32m   1774\u001B[0m \u001B[43m    \u001B[49m\u001B[43mpath\u001B[49m\u001B[38;5;241;43m=\u001B[39;49m\u001B[43mpath\u001B[49m\u001B[43m,\u001B[49m\n\u001B[0;32m   1775\u001B[0m \u001B[43m    \u001B[49m\u001B[43mname\u001B[49m\u001B[38;5;241;43m=\u001B[39;49m\u001B[43mname\u001B[49m\u001B[43m,\u001B[49m\n\u001B[0;32m   1776\u001B[0m \u001B[43m    \u001B[49m\u001B[43mdata_dir\u001B[49m\u001B[38;5;241;43m=\u001B[39;49m\u001B[43mdata_dir\u001B[49m\u001B[43m,\u001B[49m\n\u001B[0;32m   1777\u001B[0m \u001B[43m    \u001B[49m\u001B[43mdata_files\u001B[49m\u001B[38;5;241;43m=\u001B[39;49m\u001B[43mdata_files\u001B[49m\u001B[43m,\u001B[49m\n\u001B[0;32m   1778\u001B[0m \u001B[43m    \u001B[49m\u001B[43mcache_dir\u001B[49m\u001B[38;5;241;43m=\u001B[39;49m\u001B[43mcache_dir\u001B[49m\u001B[43m,\u001B[49m\n\u001B[0;32m   1779\u001B[0m \u001B[43m    \u001B[49m\u001B[43mfeatures\u001B[49m\u001B[38;5;241;43m=\u001B[39;49m\u001B[43mfeatures\u001B[49m\u001B[43m,\u001B[49m\n\u001B[0;32m   1780\u001B[0m \u001B[43m    \u001B[49m\u001B[43mdownload_config\u001B[49m\u001B[38;5;241;43m=\u001B[39;49m\u001B[43mdownload_config\u001B[49m\u001B[43m,\u001B[49m\n\u001B[0;32m   1781\u001B[0m \u001B[43m    \u001B[49m\u001B[43mdownload_mode\u001B[49m\u001B[38;5;241;43m=\u001B[39;49m\u001B[43mdownload_mode\u001B[49m\u001B[43m,\u001B[49m\n\u001B[0;32m   1782\u001B[0m \u001B[43m    \u001B[49m\u001B[43mrevision\u001B[49m\u001B[38;5;241;43m=\u001B[39;49m\u001B[43mrevision\u001B[49m\u001B[43m,\u001B[49m\n\u001B[0;32m   1783\u001B[0m \u001B[43m    \u001B[49m\u001B[43muse_auth_token\u001B[49m\u001B[38;5;241;43m=\u001B[39;49m\u001B[43muse_auth_token\u001B[49m\u001B[43m,\u001B[49m\n\u001B[0;32m   1784\u001B[0m \u001B[43m    \u001B[49m\u001B[43mstorage_options\u001B[49m\u001B[38;5;241;43m=\u001B[39;49m\u001B[43mstorage_options\u001B[49m\u001B[43m,\u001B[49m\n\u001B[0;32m   1785\u001B[0m \u001B[43m    \u001B[49m\u001B[38;5;241;43m*\u001B[39;49m\u001B[38;5;241;43m*\u001B[39;49m\u001B[43mconfig_kwargs\u001B[49m\u001B[43m,\u001B[49m\n\u001B[0;32m   1786\u001B[0m \u001B[43m\u001B[49m\u001B[43m)\u001B[49m\n\u001B[0;32m   1788\u001B[0m \u001B[38;5;66;03m# Return iterable dataset in case of streaming\u001B[39;00m\n\u001B[0;32m   1789\u001B[0m \u001B[38;5;28;01mif\u001B[39;00m streaming:\n",
      "File \u001B[1;32mD:\\python\\lib\\site-packages\\datasets\\load.py:1502\u001B[0m, in \u001B[0;36mload_dataset_builder\u001B[1;34m(path, name, data_dir, data_files, cache_dir, features, download_config, download_mode, revision, use_auth_token, storage_options, **config_kwargs)\u001B[0m\n\u001B[0;32m   1500\u001B[0m     download_config \u001B[38;5;241m=\u001B[39m download_config\u001B[38;5;241m.\u001B[39mcopy() \u001B[38;5;28;01mif\u001B[39;00m download_config \u001B[38;5;28;01melse\u001B[39;00m DownloadConfig()\n\u001B[0;32m   1501\u001B[0m     download_config\u001B[38;5;241m.\u001B[39muse_auth_token \u001B[38;5;241m=\u001B[39m use_auth_token\n\u001B[1;32m-> 1502\u001B[0m dataset_module \u001B[38;5;241m=\u001B[39m \u001B[43mdataset_module_factory\u001B[49m\u001B[43m(\u001B[49m\n\u001B[0;32m   1503\u001B[0m \u001B[43m    \u001B[49m\u001B[43mpath\u001B[49m\u001B[43m,\u001B[49m\n\u001B[0;32m   1504\u001B[0m \u001B[43m    \u001B[49m\u001B[43mrevision\u001B[49m\u001B[38;5;241;43m=\u001B[39;49m\u001B[43mrevision\u001B[49m\u001B[43m,\u001B[49m\n\u001B[0;32m   1505\u001B[0m \u001B[43m    \u001B[49m\u001B[43mdownload_config\u001B[49m\u001B[38;5;241;43m=\u001B[39;49m\u001B[43mdownload_config\u001B[49m\u001B[43m,\u001B[49m\n\u001B[0;32m   1506\u001B[0m \u001B[43m    \u001B[49m\u001B[43mdownload_mode\u001B[49m\u001B[38;5;241;43m=\u001B[39;49m\u001B[43mdownload_mode\u001B[49m\u001B[43m,\u001B[49m\n\u001B[0;32m   1507\u001B[0m \u001B[43m    \u001B[49m\u001B[43mdata_dir\u001B[49m\u001B[38;5;241;43m=\u001B[39;49m\u001B[43mdata_dir\u001B[49m\u001B[43m,\u001B[49m\n\u001B[0;32m   1508\u001B[0m \u001B[43m    \u001B[49m\u001B[43mdata_files\u001B[49m\u001B[38;5;241;43m=\u001B[39;49m\u001B[43mdata_files\u001B[49m\u001B[43m,\u001B[49m\n\u001B[0;32m   1509\u001B[0m \u001B[43m\u001B[49m\u001B[43m)\u001B[49m\n\u001B[0;32m   1511\u001B[0m \u001B[38;5;66;03m# Get dataset builder class from the processing script\u001B[39;00m\n\u001B[0;32m   1512\u001B[0m builder_cls \u001B[38;5;241m=\u001B[39m import_main_class(dataset_module\u001B[38;5;241m.\u001B[39mmodule_path)\n",
      "File \u001B[1;32mD:\\python\\lib\\site-packages\\datasets\\load.py:1131\u001B[0m, in \u001B[0;36mdataset_module_factory\u001B[1;34m(path, revision, download_config, download_mode, dynamic_modules_path, data_dir, data_files, **download_kwargs)\u001B[0m\n\u001B[0;32m   1114\u001B[0m \u001B[38;5;66;03m# We have several ways to get a dataset builder:\u001B[39;00m\n\u001B[0;32m   1115\u001B[0m \u001B[38;5;66;03m#\u001B[39;00m\n\u001B[0;32m   1116\u001B[0m \u001B[38;5;66;03m# - if path is the name of a packaged dataset module\u001B[39;00m\n\u001B[1;32m   (...)\u001B[0m\n\u001B[0;32m   1128\u001B[0m \n\u001B[0;32m   1129\u001B[0m \u001B[38;5;66;03m# Try packaged\u001B[39;00m\n\u001B[0;32m   1130\u001B[0m \u001B[38;5;28;01mif\u001B[39;00m path \u001B[38;5;129;01min\u001B[39;00m _PACKAGED_DATASETS_MODULES:\n\u001B[1;32m-> 1131\u001B[0m     \u001B[38;5;28;01mreturn\u001B[39;00m \u001B[43mPackagedDatasetModuleFactory\u001B[49m\u001B[43m(\u001B[49m\n\u001B[0;32m   1132\u001B[0m \u001B[43m        \u001B[49m\u001B[43mpath\u001B[49m\u001B[43m,\u001B[49m\n\u001B[0;32m   1133\u001B[0m \u001B[43m        \u001B[49m\u001B[43mdata_dir\u001B[49m\u001B[38;5;241;43m=\u001B[39;49m\u001B[43mdata_dir\u001B[49m\u001B[43m,\u001B[49m\n\u001B[0;32m   1134\u001B[0m \u001B[43m        \u001B[49m\u001B[43mdata_files\u001B[49m\u001B[38;5;241;43m=\u001B[39;49m\u001B[43mdata_files\u001B[49m\u001B[43m,\u001B[49m\n\u001B[0;32m   1135\u001B[0m \u001B[43m        \u001B[49m\u001B[43mdownload_config\u001B[49m\u001B[38;5;241;43m=\u001B[39;49m\u001B[43mdownload_config\u001B[49m\u001B[43m,\u001B[49m\n\u001B[0;32m   1136\u001B[0m \u001B[43m        \u001B[49m\u001B[43mdownload_mode\u001B[49m\u001B[38;5;241;43m=\u001B[39;49m\u001B[43mdownload_mode\u001B[49m\u001B[43m,\u001B[49m\n\u001B[0;32m   1137\u001B[0m \u001B[43m    \u001B[49m\u001B[43m)\u001B[49m\u001B[38;5;241;43m.\u001B[39;49m\u001B[43mget_module\u001B[49m\u001B[43m(\u001B[49m\u001B[43m)\u001B[49m\n\u001B[0;32m   1138\u001B[0m \u001B[38;5;66;03m# Try locally\u001B[39;00m\n\u001B[0;32m   1139\u001B[0m \u001B[38;5;28;01melif\u001B[39;00m path\u001B[38;5;241m.\u001B[39mendswith(filename):\n",
      "File \u001B[1;32mD:\\python\\lib\\site-packages\\datasets\\load.py:712\u001B[0m, in \u001B[0;36mPackagedDatasetModuleFactory.get_module\u001B[1;34m(self)\u001B[0m\n\u001B[0;32m    706\u001B[0m base_path \u001B[38;5;241m=\u001B[39m (\n\u001B[0;32m    707\u001B[0m     \u001B[38;5;28mstr\u001B[39m(Path(\u001B[38;5;28mself\u001B[39m\u001B[38;5;241m.\u001B[39mdata_dir)\u001B[38;5;241m.\u001B[39mexpanduser()\u001B[38;5;241m.\u001B[39mresolve()) \u001B[38;5;28;01mif\u001B[39;00m \u001B[38;5;28mself\u001B[39m\u001B[38;5;241m.\u001B[39mdata_dir \u001B[38;5;129;01mis\u001B[39;00m \u001B[38;5;129;01mnot\u001B[39;00m \u001B[38;5;28;01mNone\u001B[39;00m \u001B[38;5;28;01melse\u001B[39;00m \u001B[38;5;28mstr\u001B[39m(Path()\u001B[38;5;241m.\u001B[39mresolve())\n\u001B[0;32m    708\u001B[0m )\n\u001B[0;32m    709\u001B[0m patterns \u001B[38;5;241m=\u001B[39m (\n\u001B[0;32m    710\u001B[0m     sanitize_patterns(\u001B[38;5;28mself\u001B[39m\u001B[38;5;241m.\u001B[39mdata_files) \u001B[38;5;28;01mif\u001B[39;00m \u001B[38;5;28mself\u001B[39m\u001B[38;5;241m.\u001B[39mdata_files \u001B[38;5;129;01mis\u001B[39;00m \u001B[38;5;129;01mnot\u001B[39;00m \u001B[38;5;28;01mNone\u001B[39;00m \u001B[38;5;28;01melse\u001B[39;00m get_data_patterns_locally(base_path)\n\u001B[0;32m    711\u001B[0m )\n\u001B[1;32m--> 712\u001B[0m data_files \u001B[38;5;241m=\u001B[39m \u001B[43mDataFilesDict\u001B[49m\u001B[38;5;241;43m.\u001B[39;49m\u001B[43mfrom_local_or_remote\u001B[49m\u001B[43m(\u001B[49m\n\u001B[0;32m    713\u001B[0m \u001B[43m    \u001B[49m\u001B[43mpatterns\u001B[49m\u001B[43m,\u001B[49m\n\u001B[0;32m    714\u001B[0m \u001B[43m    \u001B[49m\u001B[43muse_auth_token\u001B[49m\u001B[38;5;241;43m=\u001B[39;49m\u001B[38;5;28;43mself\u001B[39;49m\u001B[38;5;241;43m.\u001B[39;49m\u001B[43mdownload_config\u001B[49m\u001B[38;5;241;43m.\u001B[39;49m\u001B[43muse_auth_token\u001B[49m\u001B[43m,\u001B[49m\n\u001B[0;32m    715\u001B[0m \u001B[43m    \u001B[49m\u001B[43mbase_path\u001B[49m\u001B[38;5;241;43m=\u001B[39;49m\u001B[43mbase_path\u001B[49m\u001B[43m,\u001B[49m\n\u001B[0;32m    716\u001B[0m \u001B[43m\u001B[49m\u001B[43m)\u001B[49m\n\u001B[0;32m    717\u001B[0m \u001B[38;5;28;01mif\u001B[39;00m \u001B[38;5;28mself\u001B[39m\u001B[38;5;241m.\u001B[39mdata_files \u001B[38;5;129;01mis\u001B[39;00m \u001B[38;5;28;01mNone\u001B[39;00m \u001B[38;5;129;01mand\u001B[39;00m \u001B[38;5;28mself\u001B[39m\u001B[38;5;241m.\u001B[39mname \u001B[38;5;129;01min\u001B[39;00m _MODULE_SUPPORTS_METADATA \u001B[38;5;129;01mand\u001B[39;00m patterns \u001B[38;5;241m!=\u001B[39m DEFAULT_PATTERNS_ALL:\n\u001B[0;32m    718\u001B[0m     \u001B[38;5;28;01mtry\u001B[39;00m:\n",
      "File \u001B[1;32mD:\\python\\lib\\site-packages\\datasets\\data_files.py:779\u001B[0m, in \u001B[0;36mDataFilesDict.from_local_or_remote\u001B[1;34m(cls, patterns, base_path, allowed_extensions, use_auth_token)\u001B[0m\n\u001B[0;32m    776\u001B[0m out \u001B[38;5;241m=\u001B[39m \u001B[38;5;28mcls\u001B[39m()\n\u001B[0;32m    777\u001B[0m \u001B[38;5;28;01mfor\u001B[39;00m key, patterns_for_key \u001B[38;5;129;01min\u001B[39;00m patterns\u001B[38;5;241m.\u001B[39mitems():\n\u001B[0;32m    778\u001B[0m     out[key] \u001B[38;5;241m=\u001B[39m (\n\u001B[1;32m--> 779\u001B[0m         \u001B[43mDataFilesList\u001B[49m\u001B[38;5;241;43m.\u001B[39;49m\u001B[43mfrom_local_or_remote\u001B[49m\u001B[43m(\u001B[49m\n\u001B[0;32m    780\u001B[0m \u001B[43m            \u001B[49m\u001B[43mpatterns_for_key\u001B[49m\u001B[43m,\u001B[49m\n\u001B[0;32m    781\u001B[0m \u001B[43m            \u001B[49m\u001B[43mbase_path\u001B[49m\u001B[38;5;241;43m=\u001B[39;49m\u001B[43mbase_path\u001B[49m\u001B[43m,\u001B[49m\n\u001B[0;32m    782\u001B[0m \u001B[43m            \u001B[49m\u001B[43mallowed_extensions\u001B[49m\u001B[38;5;241;43m=\u001B[39;49m\u001B[43mallowed_extensions\u001B[49m\u001B[43m,\u001B[49m\n\u001B[0;32m    783\u001B[0m \u001B[43m            \u001B[49m\u001B[43muse_auth_token\u001B[49m\u001B[38;5;241;43m=\u001B[39;49m\u001B[43muse_auth_token\u001B[49m\u001B[43m,\u001B[49m\n\u001B[0;32m    784\u001B[0m \u001B[43m        \u001B[49m\u001B[43m)\u001B[49m\n\u001B[0;32m    785\u001B[0m         \u001B[38;5;28;01mif\u001B[39;00m \u001B[38;5;129;01mnot\u001B[39;00m \u001B[38;5;28misinstance\u001B[39m(patterns_for_key, DataFilesList)\n\u001B[0;32m    786\u001B[0m         \u001B[38;5;28;01melse\u001B[39;00m patterns_for_key\n\u001B[0;32m    787\u001B[0m     )\n\u001B[0;32m    788\u001B[0m \u001B[38;5;28;01mreturn\u001B[39;00m out\n",
      "File \u001B[1;32mD:\\python\\lib\\site-packages\\datasets\\data_files.py:747\u001B[0m, in \u001B[0;36mDataFilesList.from_local_or_remote\u001B[1;34m(cls, patterns, base_path, allowed_extensions, use_auth_token)\u001B[0m\n\u001B[0;32m    738\u001B[0m \u001B[38;5;129m@classmethod\u001B[39m\n\u001B[0;32m    739\u001B[0m \u001B[38;5;28;01mdef\u001B[39;00m \u001B[38;5;21mfrom_local_or_remote\u001B[39m(\n\u001B[0;32m    740\u001B[0m     \u001B[38;5;28mcls\u001B[39m,\n\u001B[1;32m   (...)\u001B[0m\n\u001B[0;32m    744\u001B[0m     use_auth_token: Optional[Union[\u001B[38;5;28mbool\u001B[39m, \u001B[38;5;28mstr\u001B[39m]] \u001B[38;5;241m=\u001B[39m \u001B[38;5;28;01mNone\u001B[39;00m,\n\u001B[0;32m    745\u001B[0m ) \u001B[38;5;241m-\u001B[39m\u001B[38;5;241m>\u001B[39m \u001B[38;5;124m\"\u001B[39m\u001B[38;5;124mDataFilesList\u001B[39m\u001B[38;5;124m\"\u001B[39m:\n\u001B[0;32m    746\u001B[0m     base_path \u001B[38;5;241m=\u001B[39m base_path \u001B[38;5;28;01mif\u001B[39;00m base_path \u001B[38;5;129;01mis\u001B[39;00m \u001B[38;5;129;01mnot\u001B[39;00m \u001B[38;5;28;01mNone\u001B[39;00m \u001B[38;5;28;01melse\u001B[39;00m \u001B[38;5;28mstr\u001B[39m(Path()\u001B[38;5;241m.\u001B[39mresolve())\n\u001B[1;32m--> 747\u001B[0m     data_files \u001B[38;5;241m=\u001B[39m \u001B[43mresolve_patterns_locally_or_by_urls\u001B[49m\u001B[43m(\u001B[49m\u001B[43mbase_path\u001B[49m\u001B[43m,\u001B[49m\u001B[43m \u001B[49m\u001B[43mpatterns\u001B[49m\u001B[43m,\u001B[49m\u001B[43m \u001B[49m\u001B[43mallowed_extensions\u001B[49m\u001B[43m)\u001B[49m\n\u001B[0;32m    748\u001B[0m     origin_metadata \u001B[38;5;241m=\u001B[39m _get_origin_metadata_locally_or_by_urls(data_files, use_auth_token\u001B[38;5;241m=\u001B[39muse_auth_token)\n\u001B[0;32m    749\u001B[0m     \u001B[38;5;28;01mreturn\u001B[39;00m \u001B[38;5;28mcls\u001B[39m(data_files, origin_metadata)\n",
      "File \u001B[1;32mD:\\python\\lib\\site-packages\\datasets\\data_files.py:347\u001B[0m, in \u001B[0;36mresolve_patterns_locally_or_by_urls\u001B[1;34m(base_path, patterns, allowed_extensions)\u001B[0m\n\u001B[0;32m    345\u001B[0m         data_files\u001B[38;5;241m.\u001B[39mappend(Url(pattern))\n\u001B[0;32m    346\u001B[0m     \u001B[38;5;28;01melse\u001B[39;00m:\n\u001B[1;32m--> 347\u001B[0m         \u001B[38;5;28;01mfor\u001B[39;00m path \u001B[38;5;129;01min\u001B[39;00m \u001B[43m_resolve_single_pattern_locally\u001B[49m\u001B[43m(\u001B[49m\u001B[43mbase_path\u001B[49m\u001B[43m,\u001B[49m\u001B[43m \u001B[49m\u001B[43mpattern\u001B[49m\u001B[43m,\u001B[49m\u001B[43m \u001B[49m\u001B[43mallowed_extensions\u001B[49m\u001B[43m)\u001B[49m:\n\u001B[0;32m    348\u001B[0m             data_files\u001B[38;5;241m.\u001B[39mappend(path)\n\u001B[0;32m    350\u001B[0m \u001B[38;5;28;01mif\u001B[39;00m \u001B[38;5;129;01mnot\u001B[39;00m data_files:\n",
      "File \u001B[1;32mD:\\python\\lib\\site-packages\\datasets\\data_files.py:291\u001B[0m, in \u001B[0;36m_resolve_single_pattern_locally\u001B[1;34m(base_path, pattern, allowed_extensions)\u001B[0m\n\u001B[0;32m    289\u001B[0m     \u001B[38;5;28;01mif\u001B[39;00m allowed_extensions \u001B[38;5;129;01mis\u001B[39;00m \u001B[38;5;129;01mnot\u001B[39;00m \u001B[38;5;28;01mNone\u001B[39;00m:\n\u001B[0;32m    290\u001B[0m         error_msg \u001B[38;5;241m+\u001B[39m\u001B[38;5;241m=\u001B[39m \u001B[38;5;124mf\u001B[39m\u001B[38;5;124m\"\u001B[39m\u001B[38;5;124m with any supported extension \u001B[39m\u001B[38;5;132;01m{\u001B[39;00m\u001B[38;5;28mlist\u001B[39m(allowed_extensions)\u001B[38;5;132;01m}\u001B[39;00m\u001B[38;5;124m\"\u001B[39m\n\u001B[1;32m--> 291\u001B[0m     \u001B[38;5;28;01mraise\u001B[39;00m \u001B[38;5;167;01mFileNotFoundError\u001B[39;00m(error_msg)\n\u001B[0;32m    292\u001B[0m \u001B[38;5;28;01mreturn\u001B[39;00m \u001B[38;5;28msorted\u001B[39m(out)\n",
      "\u001B[1;31mFileNotFoundError\u001B[0m: Unable to find 'D:\\cspider_test\\hugging_face_test\\cosql_dev.csv' at D:\\cspider_test\\hugging_face_test"
     ]
    }
   ],
   "source": [
    "cosql = load_dataset(\"csv\", data_files={\"dev\": \"cosql_dev.csv\", \"train\": \"cosql_train.csv\"})\n",
    "sparc = load_dataset(\"csv\", data_files={\"dev\": \"sparc_dev.csv\", \"train\": \"sparc_train.csv\"})"
   ]
  },
  {
   "cell_type": "code",
   "execution_count": null,
   "id": "085c5d61-8451-4613-bef3-96c12250042f",
   "metadata": {
    "ExecuteTime": {
     "end_time": "2023-10-19T09:22:30.899171200Z",
     "start_time": "2023-10-19T09:22:30.888125Z"
    }
   },
   "outputs": [],
   "source": [
    "cosql"
   ]
  },
  {
   "cell_type": "code",
   "execution_count": 20,
   "id": "04f5b8d1-52e7-4bdf-8d84-34413cdf4da2",
   "metadata": {
    "ExecuteTime": {
     "end_time": "2023-10-19T09:22:32.000398600Z",
     "start_time": "2023-10-19T09:22:31.936620900Z"
    }
   },
   "outputs": [
    {
     "ename": "NameError",
     "evalue": "name 'cosql' is not defined",
     "output_type": "error",
     "traceback": [
      "\u001B[1;31m---------------------------------------------------------------------------\u001B[0m",
      "\u001B[1;31mNameError\u001B[0m                                 Traceback (most recent call last)",
      "Cell \u001B[1;32mIn[20], line 1\u001B[0m\n\u001B[1;32m----> 1\u001B[0m \u001B[43mcosql\u001B[49m[\u001B[38;5;124m\"\u001B[39m\u001B[38;5;124mdev\u001B[39m\u001B[38;5;124m\"\u001B[39m][\u001B[38;5;241m32\u001B[39m]\n",
      "\u001B[1;31mNameError\u001B[0m: name 'cosql' is not defined"
     ]
    }
   ],
   "source": [
    "cosql[\"dev\"][32]"
   ]
  },
  {
   "cell_type": "code",
   "execution_count": 21,
   "id": "0e3e8452-e557-4888-bb96-2d7df5f3edcd",
   "metadata": {
    "ExecuteTime": {
     "end_time": "2023-10-19T09:22:33.102493700Z",
     "start_time": "2023-10-19T09:22:33.049082800Z"
    }
   },
   "outputs": [
    {
     "ename": "NameError",
     "evalue": "name 'sparc' is not defined",
     "output_type": "error",
     "traceback": [
      "\u001B[1;31m---------------------------------------------------------------------------\u001B[0m",
      "\u001B[1;31mNameError\u001B[0m                                 Traceback (most recent call last)",
      "Cell \u001B[1;32mIn[21], line 1\u001B[0m\n\u001B[1;32m----> 1\u001B[0m \u001B[43msparc\u001B[49m\n",
      "\u001B[1;31mNameError\u001B[0m: name 'sparc' is not defined"
     ]
    }
   ],
   "source": [
    "sparc"
   ]
  },
  {
   "cell_type": "code",
   "execution_count": 22,
   "id": "f239def6-8bc9-4bfe-ab6b-5d33c332271a",
   "metadata": {
    "ExecuteTime": {
     "end_time": "2023-10-19T09:22:34.037023600Z",
     "start_time": "2023-10-19T09:22:33.966359500Z"
    }
   },
   "outputs": [
    {
     "ename": "NameError",
     "evalue": "name 'sparc' is not defined",
     "output_type": "error",
     "traceback": [
      "\u001B[1;31m---------------------------------------------------------------------------\u001B[0m",
      "\u001B[1;31mNameError\u001B[0m                                 Traceback (most recent call last)",
      "Cell \u001B[1;32mIn[22], line 1\u001B[0m\n\u001B[1;32m----> 1\u001B[0m \u001B[43msparc\u001B[49m[\u001B[38;5;124m\"\u001B[39m\u001B[38;5;124mdev\u001B[39m\u001B[38;5;124m\"\u001B[39m][\u001B[38;5;241m0\u001B[39m]\n",
      "\u001B[1;31mNameError\u001B[0m: name 'sparc' is not defined"
     ]
    }
   ],
   "source": [
    "sparc[\"dev\"][0]"
   ]
  },
  {
   "cell_type": "code",
   "execution_count": 23,
   "id": "c909b4be-3253-40e1-a091-a2c83837992c",
   "metadata": {
    "ExecuteTime": {
     "end_time": "2023-10-19T09:22:34.713919100Z",
     "start_time": "2023-10-19T09:22:34.679030600Z"
    }
   },
   "outputs": [],
   "source": [
    "def general_tokenize(examples):\n",
    "    return tokenizer(examples[\"prompt\"], text_target=examples[\"query\"], max_length=tokenizer.model_max_length, truncation=True)"
   ]
  },
  {
   "cell_type": "code",
   "execution_count": 24,
   "id": "fe066278-a2c5-4da6-9d85-4a0b094ccb59",
   "metadata": {
    "ExecuteTime": {
     "end_time": "2023-10-19T09:22:35.375267200Z",
     "start_time": "2023-10-19T09:22:35.284223900Z"
    }
   },
   "outputs": [
    {
     "ename": "NameError",
     "evalue": "name 'cosql' is not defined",
     "output_type": "error",
     "traceback": [
      "\u001B[1;31m---------------------------------------------------------------------------\u001B[0m",
      "\u001B[1;31mNameError\u001B[0m                                 Traceback (most recent call last)",
      "Cell \u001B[1;32mIn[24], line 1\u001B[0m\n\u001B[1;32m----> 1\u001B[0m cosql_train \u001B[38;5;241m=\u001B[39m \u001B[43mcosql\u001B[49m[\u001B[38;5;124m\"\u001B[39m\u001B[38;5;124mtrain\u001B[39m\u001B[38;5;124m\"\u001B[39m]\u001B[38;5;241m.\u001B[39mmap(general_tokenize, remove_columns\u001B[38;5;241m=\u001B[39m[\u001B[38;5;124m'\u001B[39m\u001B[38;5;124mprompt\u001B[39m\u001B[38;5;124m'\u001B[39m, \u001B[38;5;124m'\u001B[39m\u001B[38;5;124mquery\u001B[39m\u001B[38;5;124m'\u001B[39m])\n\u001B[0;32m      2\u001B[0m cosql_val \u001B[38;5;241m=\u001B[39m cosql[\u001B[38;5;124m\"\u001B[39m\u001B[38;5;124mdev\u001B[39m\u001B[38;5;124m\"\u001B[39m]\u001B[38;5;241m.\u001B[39mmap(general_tokenize, remove_columns\u001B[38;5;241m=\u001B[39m[\u001B[38;5;124m'\u001B[39m\u001B[38;5;124mprompt\u001B[39m\u001B[38;5;124m'\u001B[39m, \u001B[38;5;124m'\u001B[39m\u001B[38;5;124mquery\u001B[39m\u001B[38;5;124m'\u001B[39m])\n\u001B[0;32m      4\u001B[0m sparc_train \u001B[38;5;241m=\u001B[39m sparc[\u001B[38;5;124m\"\u001B[39m\u001B[38;5;124mtrain\u001B[39m\u001B[38;5;124m\"\u001B[39m]\u001B[38;5;241m.\u001B[39mmap(general_tokenize, remove_columns\u001B[38;5;241m=\u001B[39m[\u001B[38;5;124m'\u001B[39m\u001B[38;5;124mprompt\u001B[39m\u001B[38;5;124m'\u001B[39m, \u001B[38;5;124m'\u001B[39m\u001B[38;5;124mquery\u001B[39m\u001B[38;5;124m'\u001B[39m])\n",
      "\u001B[1;31mNameError\u001B[0m: name 'cosql' is not defined"
     ]
    }
   ],
   "source": [
    "cosql_train = cosql[\"train\"].map(general_tokenize, remove_columns=['prompt', 'query'])\n",
    "cosql_val = cosql[\"dev\"].map(general_tokenize, remove_columns=['prompt', 'query'])\n",
    "\n",
    "sparc_train = sparc[\"train\"].map(general_tokenize, remove_columns=['prompt', 'query'])\n",
    "sparc_val = sparc[\"dev\"].map(general_tokenize, remove_columns=['prompt', 'query'])"
   ]
  },
  {
   "cell_type": "markdown",
   "id": "036df6d9-325c-4a4f-aafd-a56428f7b36a",
   "metadata": {},
   "source": [
    "## Mixed"
   ]
  },
  {
   "cell_type": "code",
   "execution_count": 25,
   "id": "bfc4f20f-5b3b-4faa-b156-088ca0ca8bac",
   "metadata": {
    "id": "QEAiP56ylOSZ",
    "ExecuteTime": {
     "end_time": "2023-10-19T09:22:37.136329500Z",
     "start_time": "2023-10-19T09:22:37.113985500Z"
    }
   },
   "outputs": [],
   "source": [
    "from datasets import concatenate_datasets"
   ]
  },
  {
   "cell_type": "code",
   "execution_count": 26,
   "id": "da945d6d-a09c-4c1f-bd84-5015ab43f03c",
   "metadata": {
    "id": "WdlmhFH-k8pE",
    "ExecuteTime": {
     "end_time": "2023-10-19T09:22:37.793155600Z",
     "start_time": "2023-10-19T09:22:37.723989800Z"
    }
   },
   "outputs": [
    {
     "ename": "NameError",
     "evalue": "name 'cosql_train' is not defined",
     "output_type": "error",
     "traceback": [
      "\u001B[1;31m---------------------------------------------------------------------------\u001B[0m",
      "\u001B[1;31mNameError\u001B[0m                                 Traceback (most recent call last)",
      "Cell \u001B[1;32mIn[26], line 1\u001B[0m\n\u001B[1;32m----> 1\u001B[0m train_dataset \u001B[38;5;241m=\u001B[39m concatenate_datasets([spider_train, \u001B[43mcosql_train\u001B[49m, sparc_train])\n\u001B[0;32m      2\u001B[0m val_dataset \u001B[38;5;241m=\u001B[39m concatenate_datasets([spider_val, cosql_val, sparc_val])\n",
      "\u001B[1;31mNameError\u001B[0m: name 'cosql_train' is not defined"
     ]
    }
   ],
   "source": [
    "train_dataset = concatenate_datasets([spider_train, cosql_train, sparc_train])\n",
    "val_dataset = concatenate_datasets([spider_val, cosql_val, sparc_val])"
   ]
  },
  {
   "cell_type": "code",
   "execution_count": 27,
   "id": "9ec22dbe-9352-4fab-a060-59651dc98943",
   "metadata": {
    "ExecuteTime": {
     "end_time": "2023-10-19T09:22:38.064758200Z",
     "start_time": "2023-10-19T09:22:38.004269300Z"
    }
   },
   "outputs": [
    {
     "ename": "NameError",
     "evalue": "name 'train_dataset' is not defined",
     "output_type": "error",
     "traceback": [
      "\u001B[1;31m---------------------------------------------------------------------------\u001B[0m",
      "\u001B[1;31mNameError\u001B[0m                                 Traceback (most recent call last)",
      "Cell \u001B[1;32mIn[27], line 1\u001B[0m\n\u001B[1;32m----> 1\u001B[0m \u001B[43mtrain_dataset\u001B[49m\n",
      "\u001B[1;31mNameError\u001B[0m: name 'train_dataset' is not defined"
     ]
    }
   ],
   "source": [
    "train_dataset"
   ]
  },
  {
   "cell_type": "code",
   "execution_count": 28,
   "id": "b430feec-67c5-4230-bfd3-e9c18026953b",
   "metadata": {
    "ExecuteTime": {
     "end_time": "2023-10-19T09:22:38.724156700Z",
     "start_time": "2023-10-19T09:22:38.676465900Z"
    }
   },
   "outputs": [
    {
     "ename": "NameError",
     "evalue": "name 'val_dataset' is not defined",
     "output_type": "error",
     "traceback": [
      "\u001B[1;31m---------------------------------------------------------------------------\u001B[0m",
      "\u001B[1;31mNameError\u001B[0m                                 Traceback (most recent call last)",
      "Cell \u001B[1;32mIn[28], line 1\u001B[0m\n\u001B[1;32m----> 1\u001B[0m \u001B[43mval_dataset\u001B[49m\n",
      "\u001B[1;31mNameError\u001B[0m: name 'val_dataset' is not defined"
     ]
    }
   ],
   "source": [
    "val_dataset"
   ]
  },
  {
   "cell_type": "markdown",
   "id": "2207ff09-1c58-4f88-90f3-a43eaabd48fc",
   "metadata": {},
   "source": [
    "## Training"
   ]
  },
  {
   "cell_type": "code",
   "execution_count": 29,
   "id": "6dbd790d-821c-4ca8-b97f-08f18c808061",
   "metadata": {
    "ExecuteTime": {
     "end_time": "2023-10-19T09:22:40.224066100Z",
     "start_time": "2023-10-19T09:22:40.179086500Z"
    }
   },
   "outputs": [
    {
     "data": {
      "text/plain": "32101"
     },
     "execution_count": 29,
     "metadata": {},
     "output_type": "execute_result"
    }
   ],
   "source": [
    "len(tokenizer)"
   ]
  },
  {
   "cell_type": "code",
   "execution_count": null,
   "id": "6ce01a82-0cb5-48a9-8cf1-c3996ab021f4",
   "metadata": {
    "is_executing": true,
    "ExecuteTime": {
     "start_time": "2023-10-19T09:22:40.784242Z"
    }
   },
   "outputs": [
    {
     "data": {
      "text/plain": "Downloading (…)lve/main/config.json:   0%|          | 0.00/1.40k [00:00<?, ?B/s]",
      "application/vnd.jupyter.widget-view+json": {
       "version_major": 2,
       "version_minor": 0,
       "model_id": "4a43191fe2624c6c971f1d307612c507"
      }
     },
     "metadata": {},
     "output_type": "display_data"
    },
    {
     "data": {
      "text/plain": "Downloading model.safetensors:   0%|          | 0.00/990M [00:00<?, ?B/s]",
      "application/vnd.jupyter.widget-view+json": {
       "version_major": 2,
       "version_minor": 0,
       "model_id": "25cdce4a376f404b9191e6fd43b95769"
      }
     },
     "metadata": {},
     "output_type": "display_data"
    }
   ],
   "source": [
    "# declare model\n",
    "model = AutoModelForSeq2SeqLM.from_pretrained(\"google/flan-t5-base\")\n",
    "model.resize_token_embeddings(len(tokenizer))\n",
    "model = model.cuda()"
   ]
  },
  {
   "cell_type": "code",
   "execution_count": null,
   "id": "3c01de80-958b-4985-aba8-7af161cdbc42",
   "metadata": {
    "is_executing": true
   },
   "outputs": [],
   "source": [
    "model.get_memory_footprint()"
   ]
  },
  {
   "cell_type": "code",
   "execution_count": null,
   "id": "da5fa751-43b1-4c39-9b4d-c0310e6bfaf0",
   "metadata": {
    "is_executing": true
   },
   "outputs": [],
   "source": [
    "# declare data collator\n",
    "data_collator = DataCollatorForSeq2Seq(tokenizer=tokenizer, model=model)"
   ]
  },
  {
   "cell_type": "code",
   "execution_count": null,
   "id": "6cadb9ae-9474-4fb6-8750-ec641a1adff5",
   "metadata": {
    "is_executing": true
   },
   "outputs": [],
   "source": [
    "# declare training arguments\n",
    "training_args = Seq2SeqTrainingArguments(\n",
    "    output_dir=\"./model\",\n",
    "    evaluation_strategy=\"steps\",\n",
    "    eval_steps=381,\n",
    "    logging_steps=381,\n",
    "    save_strategy=\"steps\",\n",
    "    save_steps=381,\n",
    "    learning_rate=1e-4,\n",
    "    per_device_train_batch_size=4,\n",
    "    per_device_eval_batch_size=4,\n",
    "    gradient_accumulation_steps=8,\n",
    "    # gradient_checkpointing=True,\n",
    "    # warmup_ratio=0.01,\n",
    "    # weight_decay=0.01,\n",
    "    save_total_limit=2,\n",
    "    num_train_epochs=10,\n",
    "    # fp16=True,\n",
    "    # bf16=True, \n",
    "    # predict_with_generate=True,\n",
    "    # generation_max_length=512,\n",
    "    # generation_num_beams=None,\n",
    "    # lr_scheduler_type=\"cosine\",\n",
    "    # dataloader_num_workers=2,\n",
    "    greater_is_better=False,\n",
    "    # metric_for_best_model=\"eval_loss\",\n",
    ")"
   ]
  },
  {
   "cell_type": "code",
   "execution_count": null,
   "id": "7917f9d5-9831-4166-876d-974376bd6bc5",
   "metadata": {
    "is_executing": true
   },
   "outputs": [],
   "source": [
    "# import numpy as np\n",
    "\n",
    "\n",
    "# def compute_metrics(eval_pred):\n",
    "#     predictions, labels = eval_pred\n",
    "#     # Decode generated summaries into text\n",
    "#     decoded_preds = tokenizer.batch_decode(predictions, skip_special_tokens=True)\n",
    "#     # Replace -100 in the labels as we can't decode them\n",
    "#     labels = np.where(labels != -100, labels, tokenizer.pad_token_id)\n",
    "#     # Decode reference summaries into text\n",
    "#     decoded_labels = tokenizer.batch_decode(labels, skip_special_tokens=True)\n",
    "#     # ROUGE expects a newline after each sentence\n",
    "#     decoded_preds = [\"\\n\".join(sent_tokenize(pred.strip())) for pred in decoded_preds]\n",
    "#     decoded_labels = [\"\\n\".join(sent_tokenize(label.strip())) for label in decoded_labels]\n",
    "#     # Compute ROUGE scores\n",
    "#     result = rouge_score.compute(\n",
    "#         predictions=decoded_preds, references=decoded_labels, use_stemmer=True\n",
    "#     )\n",
    "#     # Extract the median scores\n",
    "#     result = {key: value.mid.fmeasure * 100 for key, value in result.items()}\n",
    "#     return {k: round(v, 4) for k, v in result.items()}"
   ]
  },
  {
   "cell_type": "code",
   "execution_count": null,
   "id": "990ef930-b1f3-4707-90ac-b1696d95da26",
   "metadata": {
    "is_executing": true
   },
   "outputs": [],
   "source": [
    "# declare trainer\n",
    "trainer = Seq2SeqTrainer(\n",
    "    model=model,\n",
    "    args=training_args,\n",
    "    train_dataset=train_dataset,\n",
    "    eval_dataset=val_dataset,\n",
    "    tokenizer=tokenizer,\n",
    "    data_collator=data_collator,\n",
    "    # compute_metrics=compute_metrics,\n",
    ") # you can evaluate by using compute_metrics function above, but I comment out for the faster training loop"
   ]
  },
  {
   "cell_type": "code",
   "execution_count": null,
   "id": "b774a025-c79d-445c-9c45-30ce0fbab0a2",
   "metadata": {
    "is_executing": true
   },
   "outputs": [],
   "source": [
    "trainer.train()\n",
    "# trainer.train(resume_from_checkpoint=\"./results/checkpoint-13000\")"
   ]
  },
  {
   "cell_type": "markdown",
   "id": "b192edca-1108-40d3-962c-4409ad32ab20",
   "metadata": {},
   "source": [
    "## Upload Model"
   ]
  },
  {
   "cell_type": "code",
   "execution_count": null,
   "id": "8c111f5d-d236-4530-85ef-54372f017ece",
   "metadata": {
    "is_executing": true
   },
   "outputs": [],
   "source": [
    "from huggingface_hub import notebook_login\n",
    "\n",
    "notebook_login()"
   ]
  },
  {
   "cell_type": "code",
   "execution_count": null,
   "id": "61fd1b96-2667-49c6-aa48-a42f939878c6",
   "metadata": {
    "is_executing": true
   },
   "outputs": [],
   "source": [
    "model.push_to_hub(repo_id=\"juierror/flan-t5-text2sql-with-schema-v2\")"
   ]
  },
  {
   "cell_type": "code",
   "execution_count": null,
   "id": "9bd0522d-bfaa-4f9a-b7bc-e7a76033b2ae",
   "metadata": {},
   "outputs": [],
   "source": [
    "tokenizer.push_to_hub(repo_id=\"juierror/flan-t5-text2sql-with-schema-v2\")"
   ]
  }
 ],
 "metadata": {
  "kernelspec": {
   "display_name": "Python 3 (ipykernel)",
   "language": "python",
   "name": "python3"
  },
  "language_info": {
   "codemirror_mode": {
    "name": "ipython",
    "version": 3
   },
   "file_extension": ".py",
   "mimetype": "text/x-python",
   "name": "python",
   "nbconvert_exporter": "python",
   "pygments_lexer": "ipython3",
   "version": "3.8.10"
  }
 },
 "nbformat": 4,
 "nbformat_minor": 5
}
