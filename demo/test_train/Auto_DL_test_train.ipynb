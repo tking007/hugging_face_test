{
 "cells": [
  {
   "cell_type": "code",
   "execution_count": 7,
   "id": "39e8c575-3795-4841-8bb2-8499a7f394b3",
   "metadata": {},
   "outputs": [],
   "source": [
    "import subprocess\n",
    "import os\n",
    "\n",
    "result = subprocess.run('bash -c \"source /etc/network_turbo && env | grep proxy\"', shell=True, capture_output=True, text=True)\n",
    "output = result.stdout\n",
    "for line in output.splitlines():\n",
    "    if '=' in line:\n",
    "        var, value = line.split('=', 1)\n",
    "        os.environ[var] = value"
   ]
  },
  {
   "cell_type": "code",
   "execution_count": 2,
   "id": "a27c7feb-4a27-4a70-8815-901968630ea0",
   "metadata": {},
   "outputs": [
    {
     "name": "stdout",
     "output_type": "stream",
     "text": [
      "fatal: destination path 'LLaMA-Factory' already exists and is not an empty directory.\n"
     ]
    }
   ],
   "source": [
    "!git clone https://github.com/tking007/LLaMA-Factory.git"
   ]
  },
  {
   "cell_type": "code",
   "execution_count": 3,
   "id": "e7ca07e9-d28e-4045-8a15-589ab960999a",
   "metadata": {},
   "outputs": [
    {
     "name": "stdout",
     "output_type": "stream",
     "text": [
      "/root/lora-scripts/LLaMA-Factory\n"
     ]
    }
   ],
   "source": [
    "cd LLaMA-Factory"
   ]
  },
  {
   "cell_type": "code",
   "execution_count": null,
   "id": "95ad2932-dc06-46ca-ae32-7315b4060c8e",
   "metadata": {
    "tags": []
   },
   "outputs": [],
   "source": [
    "!pip install -r requirements.txt"
   ]
  },
  {
   "cell_type": "code",
   "execution_count": 10,
   "id": "409fe46c-177e-467d-a98d-a2f83d8b03b6",
   "metadata": {
    "collapsed": true,
    "jupyter": {
     "outputs_hidden": true
    },
    "tags": []
   },
   "outputs": [
    {
     "name": "stdout",
     "output_type": "stream",
     "text": [
      "--2024-02-19 17:56:28--  https://cdn-media.huggingface.co/frpc-gradio-0.2/frpc_linux_amd64\n",
      "Connecting to 172.31.1.127:12798... connected.\n",
      "Proxy request sent, awaiting response... 200 OK\n",
      "Length: 11374592 (11M) [binary/octet-stream]\n",
      "Saving to: ‘frpc_linux_amd64’\n",
      "\n",
      "frpc_linux_amd64    100%[===================>]  10.85M  3.61MB/s    in 3.0s    \n",
      "\n",
      "2024-02-19 17:56:32 (3.61 MB/s) - ‘frpc_linux_amd64’ saved [11374592/11374592]\n",
      "\n"
     ]
    }
   ],
   "source": [
    "!wget https://cdn-media.huggingface.co/frpc-gradio-0.2/frpc_linux_amd64"
   ]
  },
  {
   "cell_type": "code",
   "execution_count": 11,
   "id": "b2f8ce81-f53b-440b-a038-04d002825174",
   "metadata": {},
   "outputs": [],
   "source": [
    "mv frpc_linux_amd64 frpc_linux_amd64_v0.2"
   ]
  },
  {
   "cell_type": "code",
   "execution_count": 14,
   "id": "a6d199af-0c5c-450f-8a6d-ad2a67c0af73",
   "metadata": {},
   "outputs": [],
   "source": [
    "mv frpc_linux_amd64_v0.2 /root/miniconda3/lib/python3.10/site-packages/gradio"
   ]
  },
  {
   "cell_type": "code",
   "execution_count": 17,
   "id": "ec7ae02d-862e-4e06-b3f8-a531bf8ebf68",
   "metadata": {},
   "outputs": [],
   "source": [
    "!chmod +x /root/miniconda3/lib/python3.10/site-packages/gradio/frpc_linux_amd64_v0.2"
   ]
  },
  {
   "cell_type": "code",
   "execution_count": null,
   "id": "ef6822e6-dd92-4263-8b31-330ec5f2456b",
   "metadata": {
    "tags": []
   },
   "outputs": [
    {
     "name": "stdout",
     "output_type": "stream",
     "text": [
      "Running on local URL:  http://0.0.0.0:6006\n",
      "Running on public URL: https://eac5211c19085ca4fc.gradio.live\n",
      "\n",
      "This share link expires in 72 hours. For free permanent hosting and GPU upgrades, run `gradio deploy` from Terminal to deploy to Spaces (https://huggingface.co/spaces)\n"
     ]
    }
   ],
   "source": [
    "!CUDA_VISIBLE_DEVICES=0 python src/train_web.py"
   ]
  },
  {
   "cell_type": "code",
   "execution_count": null,
   "id": "ab4bd213-cfbc-4624-866a-356d4747deef",
   "metadata": {},
   "outputs": [],
   "source": []
  }
 ],
 "metadata": {
  "kernelspec": {
   "display_name": "Python 3 (ipykernel)",
   "language": "python",
   "name": "python3"
  },
  "language_info": {
   "codemirror_mode": {
    "name": "ipython",
    "version": 3
   },
   "file_extension": ".py",
   "mimetype": "text/x-python",
   "name": "python",
   "nbconvert_exporter": "python",
   "pygments_lexer": "ipython3",
   "version": "3.10.8"
  }
 },
 "nbformat": 4,
 "nbformat_minor": 5
}
