{
  "nbformat": 4,
  "nbformat_minor": 0,
  "metadata": {
    "colab": {
      "provenance": [],
      "machine_shape": "hm"
    },
    "kernelspec": {
      "name": "python3",
      "display_name": "Python 3"
    },
    "language_info": {
      "name": "python"
    },
    "accelerator": "TPU"
  },
  "cells": [
    {
      "cell_type": "code",
      "source": [
        "!pip install modelscope"
      ],
      "metadata": {
        "id": "WKDAtUHp5HQ9"
      },
      "execution_count": null,
      "outputs": []
    },
    {
      "cell_type": "code",
      "execution_count": null,
      "metadata": {
        "id": "E5s1SRe_4ksC"
      },
      "outputs": [],
      "source": [
        "# from transformers import AutoModel, AutoTokenizer\n",
        "from modelscope.hub.api import HubApi\n",
        "\n",
        "# # Specify the model you want to download\n",
        "# model_name = \"jtjt520j/Qwen_1.5_7b_text_to_sql_mrking\"\n",
        "\n",
        "# # Download the model and tokenizer\n",
        "# model = AutoModel.from_pretrained(model_name)\n",
        "# tokenizer = AutoTokenizer.from_pretrained(model_name)\n",
        "\n",
        "# Save the model and tokenizer to a directory\n",
        "model_dir = \"/content/LLaMA-Factory/conten/mrking_Qwen_1.5B\"\n",
        "# model.save_pretrained(model_dir)\n",
        "# tokenizer.save_pretrained(model_dir)\n",
        "\n",
        "# Now, upload the model to ModelScope\n",
        "YOUR_ACCESS_TOKEN = '297bc887-49b3-4335-b95b-23ec301bad8a'\n",
        "api = HubApi()\n",
        "api.login(YOUR_ACCESS_TOKEN)\n",
        "api.push_model(\n",
        "    model_id=\"j869903116/Qwen1.5_7B_text_to_sql_mrking\",\n",
        "    model_dir=model_dir\n",
        ")"
      ]
    },
    {
      "cell_type": "code",
      "source": [
        "!cp -r /content/drive/MyDrive/LLaMA-Factory /content/LLaMA-Factory"
      ],
      "metadata": {
        "id": "tgfK1YpEG_Gl"
      },
      "execution_count": null,
      "outputs": []
    },
    {
      "cell_type": "code",
      "source": [
        "import os\n",
        "print(os.getcwd())\n",
        "os.chdir(\"/content/LLaMA-Factory\")\n",
        "print(os.getcwd())"
      ],
      "metadata": {
        "colab": {
          "base_uri": "https://localhost:8080/"
        },
        "id": "JNMb-APIIDNk",
        "outputId": "f049f5be-bb0e-4ec2-f174-fa01a4b52f6e"
      },
      "execution_count": null,
      "outputs": [
        {
          "output_type": "stream",
          "name": "stdout",
          "text": [
            "/content/LLaMA-Factory/LLaMA-Factory\n",
            "/content/LLaMA-Factory\n"
          ]
        }
      ]
    },
    {
      "cell_type": "code",
      "source": [
        "%rm -rf LLaMA-Factory\n",
        "!git clone https://github.com/tking007/LLaMA-Factory.git\n",
        "%cd LLaMA-Factory\n",
        "%ls\n",
        "!pip install ."
      ],
      "metadata": {
        "id": "uIp1YOS9It5K"
      },
      "execution_count": null,
      "outputs": []
    },
    {
      "cell_type": "code",
      "source": [
        "import torch\n",
        "try:\n",
        "  assert torch.cuda.is_available() is True\n",
        "except AssertionError:\n",
        "  print(\"Please set up a GPU before using LLaMA Factory: https://medium.com/mlearning-ai/training-yolov4-on-google-colab-316f8fff99c6\")"
      ],
      "metadata": {
        "id": "q577CGE8I3cB",
        "colab": {
          "base_uri": "https://localhost:8080/"
        },
        "outputId": "dfce6553-a881-403e-d587-ba91e341afec"
      },
      "execution_count": null,
      "outputs": [
        {
          "output_type": "stream",
          "name": "stdout",
          "text": [
            "Please set up a GPU before using LLaMA Factory: https://medium.com/mlearning-ai/training-yolov4-on-google-colab-316f8fff99c6\n"
          ]
        }
      ]
    },
    {
      "cell_type": "code",
      "source": [
        "from llmtuner import create_ui\n",
        "\n",
        "create_ui().queue().launch(share=True, debug=True)"
      ],
      "metadata": {
        "id": "zKa6ZRQUI8cF"
      },
      "execution_count": null,
      "outputs": []
    }
  ]
}