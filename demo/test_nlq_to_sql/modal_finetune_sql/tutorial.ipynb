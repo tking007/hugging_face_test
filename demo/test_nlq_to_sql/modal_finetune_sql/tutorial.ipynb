{
 "cells": [
  {
   "cell_type": "code",
   "execution_count": 23,
   "id": "83695073acf0b5a2",
   "metadata": {
    "ExecuteTime": {
     "end_time": "2023-12-02T05:11:49.326557900Z",
     "start_time": "2023-12-02T05:11:45.713104700Z"
    },
    "collapsed": false,
    "jupyter": {
     "outputs_hidden": false
    }
   },
   "outputs": [
    {
     "name": "stdout",
     "output_type": "stream",
     "text": [
      "Verifying token against \u001b[4;34mhttps://api.modal.com\u001b[0m\n",
      "\u001b[32mToken verified successfully\u001b[0m\n",
      "Token written to \u001b[35m/home/susu/\u001b[0m\u001b[95m.modal.toml\u001b[0m\n"
     ]
    }
   ],
   "source": [
    "!modal token set --token-id ak-uYihUyljHUMHQvSuKHjxDL --token-secret as-PNcBevbbT2feBCxTHYSjsK"
   ]
  },
  {
   "cell_type": "code",
   "execution_count": null,
   "id": "a93ad6fe5af7629e",
   "metadata": {
    "collapsed": false,
    "jupyter": {
     "outputs_hidden": false
    }
   },
   "outputs": [],
   "source": [
    "# gpu_info = !nvidia-smi\n",
    "# gpu_info = '\\n'.join(gpu_info)\n",
    "# if gpu_info.find('failed') >= 0:\n",
    "#   print('Not connected to a GPU')\n",
    "# else:\n",
    "#   print(gpu_info)"
   ]
  },
  {
   "cell_type": "code",
   "execution_count": null,
   "id": "deb41fd1c4526a6d",
   "metadata": {
    "collapsed": false,
    "jupyter": {
     "outputs_hidden": false
    }
   },
   "outputs": [],
   "source": [
    "# from google.colab import drive\n",
    "# drive.mount('/content/drive')"
   ]
  },
  {
   "cell_type": "code",
   "execution_count": null,
   "id": "80697aeb2fc32ee1",
   "metadata": {
    "collapsed": false,
    "jupyter": {
     "outputs_hidden": false
    }
   },
   "outputs": [],
   "source": [
    "# # 更改当前的工作目录到您的项目目录\n",
    "# import os\n",
    "# os.chdir('/content/drive/MyDrive/modal_finetune_sql')"
   ]
  },
  {
   "cell_type": "markdown",
   "id": "6b21b382c90d6fb9",
   "metadata": {
    "collapsed": false,
    "jupyter": {
     "outputs_hidden": false
    }
   },
   "source": [
    "# Finetuning LLaMa + Text-to-SQL\n",
    "\n",
    "This walkthrough shows you how to fine-tune LLaMa-7B on a Text-to-SQL dataset, and then use it for inference against\n",
    "any database of structured data using LlamaIndex.\n",
    "\n",
    "**NOTE**: This code is taken and adapted from Modal's `doppel-bot` repo: https://github.com/modal-labs/doppel-bot.\n",
    "**NOTE**: A lot of the code is contained in the underlying Python scripts in the `src` directory. We definitely encourage you to go and take a look!"
   ]
  },
  {
   "cell_type": "markdown",
   "id": "7bd351afb864ab12",
   "metadata": {
    "collapsed": false,
    "jupyter": {
     "outputs_hidden": false
    }
   },
   "source": [
    "### Setup\n",
    "\n",
    "NOTE: you will need to setup a Modal account + token in order to use this notebook."
   ]
  },
  {
   "cell_type": "code",
   "execution_count": 1,
   "id": "5b9b3ef15acbb34b",
   "metadata": {
    "ExecuteTime": {
     "end_time": "2023-12-02T04:06:53.883546300Z",
     "start_time": "2023-12-02T04:06:48.704690900Z"
    },
    "collapsed": false,
    "jupyter": {
     "outputs_hidden": false
    }
   },
   "outputs": [
    {
     "name": "stdout",
     "output_type": "stream",
     "text": [
      "Looking in indexes: https://pypi.tuna.tsinghua.edu.cn/simple\n",
      "Collecting modal-client (from -r requirements.txt (line 1))\n",
      "  Using cached https://pypi.tuna.tsinghua.edu.cn/packages/7c/dc/c0674f843af1f5675731a10a2124247796ec0e947c32f90679b355d51783/modal_client-0.55.4174-py3-none-any.whl (1.3 kB)\n",
      "Collecting llama-index==0.8.2.post1 (from -r requirements.txt (line 2))\n",
      "  Using cached https://pypi.tuna.tsinghua.edu.cn/packages/91/ee/590f6f6d5ba81eb8c08c9a98dad290f983d0f609e51723821b3684f468a1/llama_index-0.8.2.post1-py3-none-any.whl (676 kB)\n",
      "Collecting datasets>=2.15.0 (from -r requirements.txt (line 3))\n",
      "  Using cached https://pypi.tuna.tsinghua.edu.cn/packages/e2/cf/db41e572d7ed958e8679018f8190438ef700aeb501b62da9e1eed9e4d69a/datasets-2.15.0-py3-none-any.whl (521 kB)\n",
      "Requirement already satisfied: peft in d:\\python\\lib\\site-packages (from -r requirements.txt (line 4)) (0.5.0)\n",
      "Collecting tiktoken (from llama-index==0.8.2.post1->-r requirements.txt (line 2))\n",
      "  Using cached https://pypi.tuna.tsinghua.edu.cn/packages/16/af/3dfa09ac7486dc9fb23eb5b57425bba6049583a66b319f68e4a3abf80498/tiktoken-0.5.1-cp38-cp38-win_amd64.whl (759 kB)\n",
      "Collecting dataclasses-json (from llama-index==0.8.2.post1->-r requirements.txt (line 2))\n",
      "  Using cached https://pypi.tuna.tsinghua.edu.cn/packages/ae/53/8c006de775834cd4ea64a445402dc195caeebb77dc76b7defb9b3887cb0d/dataclasses_json-0.6.3-py3-none-any.whl (28 kB)\n",
      "INFO: pip is looking at multiple versions of llama-index to determine which version is compatible with other requirements. This could take a while.\n"
     ]
    },
    {
     "name": "stderr",
     "output_type": "stream",
     "text": [
      "ERROR: Ignored the following versions that require a different python version: 0.0.100 Requires-Python >=3.8.1,<4.0; 0.0.101 Requires-Python >=3.8.1,<4.0; 0.0.101rc0 Requires-Python >=3.8.1,<4.0; 0.0.102 Requires-Python >=3.8.1,<4.0; 0.0.102rc0 Requires-Python >=3.8.1,<4.0; 0.0.103 Requires-Python >=3.8.1,<4.0; 0.0.104 Requires-Python >=3.8.1,<4.0; 0.0.105 Requires-Python >=3.8.1,<4.0; 0.0.106 Requires-Python >=3.8.1,<4.0; 0.0.107 Requires-Python >=3.8.1,<4.0; 0.0.108 Requires-Python >=3.8.1,<4.0; 0.0.109 Requires-Python >=3.8.1,<4.0; 0.0.110 Requires-Python >=3.8.1,<4.0; 0.0.111 Requires-Python >=3.8.1,<4.0; 0.0.112 Requires-Python >=3.8.1,<4.0; 0.0.113 Requires-Python >=3.8.1,<4.0; 0.0.114 Requires-Python >=3.8.1,<4.0; 0.0.115 Requires-Python >=3.8.1,<4.0; 0.0.116 Requires-Python >=3.8.1,<4.0; 0.0.117 Requires-Python >=3.8.1,<4.0; 0.0.118 Requires-Python >=3.8.1,<4.0; 0.0.119 Requires-Python >=3.8.1,<4.0; 0.0.120 Requires-Python >=3.8.1,<4.0; 0.0.121 Requires-Python >=3.8.1,<4.0; 0.0.122 Requires-Python >=3.8.1,<4.0; 0.0.123 Requires-Python >=3.8.1,<4.0; 0.0.124 Requires-Python >=3.8.1,<4.0; 0.0.125 Requires-Python >=3.8.1,<4.0; 0.0.126 Requires-Python >=3.8.1,<4.0; 0.0.127 Requires-Python >=3.8.1,<4.0; 0.0.128 Requires-Python >=3.8.1,<4.0; 0.0.129 Requires-Python >=3.8.1,<4.0; 0.0.130 Requires-Python >=3.8.1,<4.0; 0.0.131 Requires-Python >=3.8.1,<4.0; 0.0.132 Requires-Python >=3.8.1,<4.0; 0.0.133 Requires-Python >=3.8.1,<4.0; 0.0.134 Requires-Python >=3.8.1,<4.0; 0.0.135 Requires-Python >=3.8.1,<4.0; 0.0.136 Requires-Python >=3.8.1,<4.0; 0.0.137 Requires-Python >=3.8.1,<4.0; 0.0.138 Requires-Python >=3.8.1,<4.0; 0.0.139 Requires-Python >=3.8.1,<4.0; 0.0.140 Requires-Python >=3.8.1,<4.0; 0.0.141 Requires-Python >=3.8.1,<4.0; 0.0.142 Requires-Python >=3.8.1,<4.0; 0.0.143 Requires-Python >=3.8.1,<4.0; 0.0.144 Requires-Python >=3.8.1,<4.0; 0.0.145 Requires-Python >=3.8.1,<4.0; 0.0.146 Requires-Python >=3.8.1,<4.0; 0.0.147 Requires-Python >=3.8.1,<4.0; 0.0.148 Requires-Python >=3.8.1,<4.0; 0.0.149 Requires-Python >=3.8.1,<4.0; 0.0.150 Requires-Python >=3.8.1,<4.0; 0.0.151 Requires-Python >=3.8.1,<4.0; 0.0.152 Requires-Python >=3.8.1,<4.0; 0.0.153 Requires-Python >=3.8.1,<4.0; 0.0.154 Requires-Python >=3.8.1,<4.0; 0.0.155 Requires-Python >=3.8.1,<4.0; 0.0.156 Requires-Python >=3.8.1,<4.0; 0.0.157 Requires-Python >=3.8.1,<4.0; 0.0.158 Requires-Python >=3.8.1,<4.0; 0.0.159 Requires-Python >=3.8.1,<4.0; 0.0.160 Requires-Python >=3.8.1,<4.0; 0.0.161 Requires-Python >=3.8.1,<4.0; 0.0.162 Requires-Python >=3.8.1,<4.0; 0.0.163 Requires-Python >=3.8.1,<4.0; 0.0.164 Requires-Python >=3.8.1,<4.0; 0.0.165 Requires-Python >=3.8.1,<4.0; 0.0.166 Requires-Python >=3.8.1,<4.0; 0.0.167 Requires-Python >=3.8.1,<4.0; 0.0.168 Requires-Python >=3.8.1,<4.0; 0.0.169 Requires-Python >=3.8.1,<4.0; 0.0.170 Requires-Python >=3.8.1,<4.0; 0.0.171 Requires-Python >=3.8.1,<4.0; 0.0.172 Requires-Python >=3.8.1,<4.0; 0.0.173 Requires-Python >=3.8.1,<4.0; 0.0.174 Requires-Python >=3.8.1,<4.0; 0.0.175 Requires-Python >=3.8.1,<4.0; 0.0.176 Requires-Python >=3.8.1,<4.0; 0.0.177 Requires-Python >=3.8.1,<4.0; 0.0.178 Requires-Python >=3.8.1,<4.0; 0.0.179 Requires-Python >=3.8.1,<4.0; 0.0.180 Requires-Python >=3.8.1,<4.0; 0.0.181 Requires-Python >=3.8.1,<4.0; 0.0.182 Requires-Python >=3.8.1,<4.0; 0.0.183 Requires-Python >=3.8.1,<4.0; 0.0.184 Requires-Python >=3.8.1,<4.0; 0.0.185 Requires-Python >=3.8.1,<4.0; 0.0.186 Requires-Python >=3.8.1,<4.0; 0.0.187 Requires-Python >=3.8.1,<4.0; 0.0.188 Requires-Python >=3.8.1,<4.0; 0.0.189 Requires-Python >=3.8.1,<4.0; 0.0.190 Requires-Python >=3.8.1,<4.0; 0.0.191 Requires-Python >=3.8.1,<4.0; 0.0.192 Requires-Python >=3.8.1,<4.0; 0.0.193 Requires-Python >=3.8.1,<4.0; 0.0.194 Requires-Python >=3.8.1,<4.0; 0.0.195 Requires-Python >=3.8.1,<4.0; 0.0.196 Requires-Python >=3.8.1,<4.0; 0.0.197 Requires-Python >=3.8.1,<4.0; 0.0.198 Requires-Python >=3.8.1,<4.0; 0.0.199 Requires-Python >=3.8.1,<4.0; 0.0.200 Requires-Python >=3.8.1,<4.0; 0.0.201 Requires-Python >=3.8.1,<4.0; 0.0.202 Requires-Python >=3.8.1,<4.0; 0.0.203 Requires-Python >=3.8.1,<4.0; 0.0.204 Requires-Python >=3.8.1,<4.0; 0.0.205 Requires-Python >=3.8.1,<4.0; 0.0.206 Requires-Python >=3.8.1,<4.0; 0.0.207 Requires-Python >=3.8.1,<4.0; 0.0.208 Requires-Python >=3.8.1,<4.0; 0.0.209 Requires-Python >=3.8.1,<4.0; 0.0.210 Requires-Python >=3.8.1,<4.0; 0.0.211 Requires-Python >=3.8.1,<4.0; 0.0.212 Requires-Python >=3.8.1,<4.0; 0.0.213 Requires-Python >=3.8.1,<4.0; 0.0.214 Requires-Python >=3.8.1,<4.0; 0.0.215 Requires-Python >=3.8.1,<4.0; 0.0.216 Requires-Python >=3.8.1,<4.0; 0.0.217 Requires-Python >=3.8.1,<4.0; 0.0.218 Requires-Python >=3.8.1,<4.0; 0.0.219 Requires-Python >=3.8.1,<4.0; 0.0.220 Requires-Python >=3.8.1,<4.0; 0.0.221 Requires-Python >=3.8.1,<4.0; 0.0.222 Requires-Python >=3.8.1,<4.0; 0.0.223 Requires-Python >=3.8.1,<4.0; 0.0.224 Requires-Python >=3.8.1,<4.0; 0.0.225 Requires-Python >=3.8.1,<4.0; 0.0.226 Requires-Python >=3.8.1,<4.0; 0.0.227 Requires-Python >=3.8.1,<4.0; 0.0.228 Requires-Python >=3.8.1,<4.0; 0.0.229 Requires-Python >=3.8.1,<4.0; 0.0.230 Requires-Python >=3.8.1,<4.0; 0.0.231 Requires-Python >=3.8.1,<4.0; 0.0.232 Requires-Python >=3.8.1,<4.0; 0.0.233 Requires-Python >=3.8.1,<4.0; 0.0.234 Requires-Python >=3.8.1,<4.0; 0.0.235 Requires-Python >=3.8.1,<4.0; 0.0.236 Requires-Python >=3.8.1,<4.0; 0.0.237 Requires-Python >=3.8.1,<4.0; 0.0.238 Requires-Python >=3.8.1,<4.0; 0.0.239 Requires-Python >=3.8.1,<4.0; 0.0.240 Requires-Python >=3.8.1,<4.0; 0.0.240rc0 Requires-Python >=3.8.1,<4.0; 0.0.240rc1 Requires-Python >=3.8.1,<4.0; 0.0.240rc4 Requires-Python >=3.8.1,<4.0; 0.0.242 Requires-Python >=3.8.1,<4.0; 0.0.243 Requires-Python >=3.8.1,<4.0; 0.0.244 Requires-Python >=3.8.1,<4.0; 0.0.245 Requires-Python >=3.8.1,<4.0; 0.0.246 Requires-Python >=3.8.1,<4.0; 0.0.247 Requires-Python >=3.8.1,<4.0; 0.0.248 Requires-Python >=3.8.1,<4.0; 0.0.249 Requires-Python >=3.8.1,<4.0; 0.0.250 Requires-Python >=3.8.1,<4.0; 0.0.251 Requires-Python >=3.8.1,<4.0; 0.0.252 Requires-Python >=3.8.1,<4.0; 0.0.253 Requires-Python >=3.8.1,<4.0; 0.0.254 Requires-Python >=3.8.1,<4.0; 0.0.255 Requires-Python >=3.8.1,<4.0; 0.0.256 Requires-Python >=3.8.1,<4.0; 0.0.257 Requires-Python >=3.8.1,<4.0; 0.0.258 Requires-Python >=3.8.1,<4.0; 0.0.259 Requires-Python >=3.8.1,<4.0; 0.0.260 Requires-Python >=3.8.1,<4.0; 0.0.261 Requires-Python >=3.8.1,<4.0; 0.0.262 Requires-Python >=3.8.1,<4.0; 0.0.263 Requires-Python >=3.8.1,<4.0; 0.0.264 Requires-Python >=3.8.1,<4.0; 0.0.265 Requires-Python >=3.8.1,<4.0; 0.0.266 Requires-Python >=3.8.1,<4.0; 0.0.267 Requires-Python >=3.8.1,<4.0; 0.0.268 Requires-Python >=3.8.1,<4.0; 0.0.269 Requires-Python >=3.8.1,<4.0; 0.0.270 Requires-Python >=3.8.1,<4.0; 0.0.271 Requires-Python >=3.8.1,<4.0; 0.0.272 Requires-Python >=3.8.1,<4.0; 0.0.273 Requires-Python >=3.8.1,<4.0; 0.0.274 Requires-Python >=3.8.1,<4.0; 0.0.275 Requires-Python >=3.8.1,<4.0; 0.0.276 Requires-Python >=3.8.1,<4.0; 0.0.277 Requires-Python >=3.8.1,<4.0; 0.0.278 Requires-Python >=3.8.1,<4.0; 0.0.279 Requires-Python >=3.8.1,<4.0; 0.0.28 Requires-Python >=3.8.1,<4.0; 0.0.281 Requires-Python >=3.8.1,<4.0; 0.0.283 Requires-Python >=3.8.1,<4.0; 0.0.284 Requires-Python >=3.8.1,<4.0; 0.0.285 Requires-Python >=3.8.1,<4.0; 0.0.286 Requires-Python >=3.8.1,<4.0; 0.0.287 Requires-Python >=3.8.1,<4.0; 0.0.288 Requires-Python >=3.8.1,<4.0; 0.0.289 Requires-Python >=3.8.1,<4.0; 0.0.29 Requires-Python >=3.8.1,<4.0; 0.0.290 Requires-Python >=3.8.1,<4.0; 0.0.291 Requires-Python >=3.8.1,<4.0; 0.0.292 Requires-Python >=3.8.1,<4.0; 0.0.293 Requires-Python >=3.8.1,<4.0; 0.0.294 Requires-Python >=3.8.1,<4.0; 0.0.295 Requires-Python >=3.8.1,<4.0; 0.0.296 Requires-Python >=3.8.1,<4.0; 0.0.297 Requires-Python >=3.8.1,<4.0; 0.0.298 Requires-Python >=3.8.1,<4.0; 0.0.299 Requires-Python >=3.8.1,<4.0; 0.0.30 Requires-Python >=3.8.1,<4.0; 0.0.300 Requires-Python >=3.8.1,<4.0; 0.0.301 Requires-Python >=3.8.1,<4.0; 0.0.302 Requires-Python >=3.8.1,<4.0; 0.0.303 Requires-Python >=3.8.1,<4.0; 0.0.304 Requires-Python >=3.8.1,<4.0; 0.0.305 Requires-Python >=3.8.1,<4.0; 0.0.306 Requires-Python >=3.8.1,<4.0; 0.0.307 Requires-Python >=3.8.1,<4.0; 0.0.308 Requires-Python >=3.8.1,<4.0; 0.0.309 Requires-Python >=3.8.1,<4.0; 0.0.31 Requires-Python >=3.8.1,<4.0; 0.0.310 Requires-Python >=3.8.1,<4.0; 0.0.311 Requires-Python >=3.8.1,<4.0; 0.0.312 Requires-Python >=3.8.1,<4.0; 0.0.313 Requires-Python >=3.8.1,<4.0; 0.0.314 Requires-Python >=3.8.1,<4.0; 0.0.315 Requires-Python >=3.8.1,<4.0; 0.0.316 Requires-Python >=3.8.1,<4.0; 0.0.317 Requires-Python >=3.8.1,<4.0; 0.0.318 Requires-Python >=3.8.1,<4.0; 0.0.319 Requires-Python >=3.8.1,<4.0; 0.0.32 Requires-Python >=3.8.1,<4.0; 0.0.320 Requires-Python >=3.8.1,<4.0; 0.0.321 Requires-Python >=3.8.1,<4.0; 0.0.322 Requires-Python >=3.8.1,<4.0; 0.0.323 Requires-Python >=3.8.1,<4.0; 0.0.324 Requires-Python >=3.8.1,<4.0; 0.0.325 Requires-Python >=3.8.1,<4.0; 0.0.326 Requires-Python >=3.8.1,<4.0; 0.0.327 Requires-Python >=3.8.1,<4.0; 0.0.329 Requires-Python >=3.8.1,<4.0; 0.0.33 Requires-Python >=3.8.1,<4.0; 0.0.330 Requires-Python >=3.8.1,<4.0; 0.0.331 Requires-Python >=3.8.1,<4.0; 0.0.331rc0 Requires-Python >=3.8.1,<4.0; 0.0.331rc1 Requires-Python >=3.8.1,<4.0; 0.0.331rc2 Requires-Python >=3.8.1,<4.0; 0.0.331rc3 Requires-Python >=3.8.1,<4.0; 0.0.332 Requires-Python >=3.8.1,<4.0; 0.0.333 Requires-Python >=3.8.1,<4.0; 0.0.334 Requires-Python >=3.8.1,<4.0; 0.0.335 Requires-Python >=3.8.1,<4.0; 0.0.336 Requires-Python >=3.8.1,<4.0; 0.0.337 Requires-Python >=3.8.1,<4.0; 0.0.338 Requires-Python >=3.8.1,<4.0; 0.0.339 Requires-Python >=3.8.1,<4.0; 0.0.339rc0 Requires-Python >=3.8.1,<4.0; 0.0.339rc1 Requires-Python >=3.8.1,<4.0; 0.0.339rc2 Requires-Python >=3.8.1,<4.0; 0.0.339rc3 Requires-Python >=3.8.1,<4.0; 0.0.34 Requires-Python >=3.8.1,<4.0; 0.0.340 Requires-Python >=3.8.1,<4.0; 0.0.341 Requires-Python >=3.8.1,<4.0; 0.0.342 Requires-Python >=3.8.1,<4.0; 0.0.343 Requires-Python >=3.8.1,<4.0; 0.0.344 Requires-Python >=3.8.1,<4.0; 0.0.35 Requires-Python >=3.8.1,<4.0; 0.0.36 Requires-Python >=3.8.1,<4.0; 0.0.37 Requires-Python >=3.8.1,<4.0; 0.0.38 Requires-Python >=3.8.1,<4.0; 0.0.39 Requires-Python >=3.8.1,<4.0; 0.0.40 Requires-Python >=3.8.1,<4.0; 0.0.41 Requires-Python >=3.8.1,<4.0; 0.0.42 Requires-Python >=3.8.1,<4.0; 0.0.43 Requires-Python >=3.8.1,<4.0; 0.0.44 Requires-Python >=3.8.1,<4.0; 0.0.45 Requires-Python >=3.8.1,<4.0; 0.0.46 Requires-Python >=3.8.1,<4.0; 0.0.47 Requires-Python >=3.8.1,<4.0; 0.0.48 Requires-Python >=3.8.1,<4.0; 0.0.49 Requires-Python >=3.8.1,<4.0; 0.0.50 Requires-Python >=3.8.1,<4.0; 0.0.51 Requires-Python >=3.8.1,<4.0; 0.0.52 Requires-Python >=3.8.1,<4.0; 0.0.53 Requires-Python >=3.8.1,<4.0; 0.0.54 Requires-Python >=3.8.1,<4.0; 0.0.55 Requires-Python >=3.8.1,<4.0; 0.0.56 Requires-Python >=3.8.1,<4.0; 0.0.57 Requires-Python >=3.8.1,<4.0; 0.0.58 Requires-Python >=3.8.1,<4.0; 0.0.59 Requires-Python >=3.8.1,<4.0; 0.0.60 Requires-Python >=3.8.1,<4.0; 0.0.61 Requires-Python >=3.8.1,<4.0; 0.0.63 Requires-Python >=3.8.1,<4.0; 0.0.64 Requires-Python >=3.8.1,<4.0; 0.0.65 Requires-Python >=3.8.1,<4.0; 0.0.66 Requires-Python >=3.8.1,<4.0; 0.0.67 Requires-Python >=3.8.1,<4.0; 0.0.68 Requires-Python >=3.8.1,<4.0; 0.0.69 Requires-Python >=3.8.1,<4.0; 0.0.70 Requires-Python >=3.8.1,<4.0; 0.0.71 Requires-Python >=3.8.1,<4.0; 0.0.72 Requires-Python >=3.8.1,<4.0; 0.0.73 Requires-Python >=3.8.1,<4.0; 0.0.74 Requires-Python >=3.8.1,<4.0; 0.0.75 Requires-Python >=3.8.1,<4.0; 0.0.76 Requires-Python >=3.8.1,<4.0; 0.0.77 Requires-Python >=3.8.1,<4.0; 0.0.78 Requires-Python >=3.8.1,<4.0; 0.0.79 Requires-Python >=3.8.1,<4.0; 0.0.80 Requires-Python >=3.8.1,<4.0; 0.0.81 Requires-Python >=3.8.1,<4.0; 0.0.82 Requires-Python >=3.8.1,<4.0; 0.0.83 Requires-Python >=3.8.1,<4.0; 0.0.84 Requires-Python >=3.8.1,<4.0; 0.0.85 Requires-Python >=3.8.1,<4.0; 0.0.86 Requires-Python >=3.8.1,<4.0; 0.0.87 Requires-Python >=3.8.1,<4.0; 0.0.88 Requires-Python >=3.8.1,<4.0; 0.0.89 Requires-Python >=3.8.1,<4.0; 0.0.90 Requires-Python >=3.8.1,<4.0; 0.0.91 Requires-Python >=3.8.1,<4.0; 0.0.92 Requires-Python >=3.8.1,<4.0; 0.0.93 Requires-Python >=3.8.1,<4.0; 0.0.94 Requires-Python >=3.8.1,<4.0; 0.0.95 Requires-Python >=3.8.1,<4.0; 0.0.96 Requires-Python >=3.8.1,<4.0; 0.0.97 Requires-Python >=3.8.1,<4.0; 0.0.98 Requires-Python >=3.8.1,<4.0; 0.0.99 Requires-Python >=3.8.1,<4.0; 0.0.99rc0 Requires-Python >=3.8.1,<4.0; 0.1.1 Requires-Python >=3.9; 0.8.43 Requires-Python >=3.8.1,<3.12; 0.8.43.post1 Requires-Python >=3.8.1,<3.12; 0.8.44 Requires-Python >=3.8.1,<3.12; 0.8.45 Requires-Python >=3.8.1,<3.12; 0.8.45.post1 Requires-Python >=3.8.1,<3.12; 0.8.46 Requires-Python >=3.8.1,<3.12; 0.8.47 Requires-Python >=3.8.1,<3.12; 0.8.48 Requires-Python >=3.8.1,<3.12; 0.8.49 Requires-Python >=3.8.1,<3.12; 0.8.50 Requires-Python >=3.8.1,<3.12; 0.8.51 Requires-Python >=3.8.1,<3.12; 0.8.51.post1 Requires-Python >=3.8.1,<3.12; 0.8.52 Requires-Python >=3.8.1,<3.12; 0.8.53 Requires-Python >=3.8.1,<3.12; 0.8.53.post3 Requires-Python >=3.8.1,<3.12; 0.8.54 Requires-Python >=3.8.1,<3.12; 0.8.55 Requires-Python >=3.8.1,<3.12; 0.8.56 Requires-Python >=3.8.1,<3.12; 0.8.57 Requires-Python >=3.8.1,<3.12; 0.8.58 Requires-Python >=3.8.1,<3.12; 0.8.59 Requires-Python >=3.8.1,<3.12; 0.8.61 Requires-Python >=3.8.1,<3.12; 0.8.62 Requires-Python >=3.8.1,<3.12; 0.8.63.post1 Requires-Python >=3.8.1,<3.12; 0.8.63.post2 Requires-Python >=3.8.1,<3.12; 0.8.64 Requires-Python >=3.8.1,<3.12; 0.8.64.post1 Requires-Python >=3.8.1,<3.12; 0.8.65 Requires-Python >=3.8.1,<3.12; 0.8.66 Requires-Python >=3.8.1,<3.12; 0.8.67 Requires-Python >=3.8.1,<3.12; 0.8.68 Requires-Python >=3.8.1,<3.12; 0.8.69 Requires-Python >=3.8.1,<3.12; 0.8.69.post1 Requires-Python >=3.8.1,<3.12; 0.8.69.post2 Requires-Python >=3.8.1,<3.12; 0.9.0 Requires-Python >=3.8.1,<3.12; 0.9.0.post1 Requires-Python >=3.8.1,<3.12; 0.9.0a1 Requires-Python >=3.8.1,<3.12; 0.9.0a2 Requires-Python >=3.8.1,<3.12; 0.9.0a3 Requires-Python >=3.8.1,<3.12; 0.9.1 Requires-Python >=3.8.1,<3.12; 0.9.10 Requires-Python >=3.8.1,<3.12; 0.9.10a1 Requires-Python >=3.8.1,<3.12; 0.9.10a2 Requires-Python >=3.8.1,<3.12; 0.9.2 Requires-Python >=3.8.1,<3.12; 0.9.3 Requires-Python >=3.8.1,<3.12; 0.9.3.post1 Requires-Python >=3.8.1,<3.12; 0.9.4 Requires-Python >=3.8.1,<3.12; 0.9.5 Requires-Python >=3.8.1,<3.12; 0.9.6 Requires-Python >=3.8.1,<3.12; 0.9.6.post1 Requires-Python >=3.8.1,<3.12; 0.9.6.post2 Requires-Python >=3.8.1,<3.12; 0.9.7 Requires-Python >=3.8.1,<3.12; 0.9.8 Requires-Python >=3.8.1,<3.12; 0.9.8.post1 Requires-Python >=3.8.1,<3.12; 0.9.9 Requires-Python >=3.8.1,<3.12\n",
      "ERROR: Could not find a version that satisfies the requirement langchain>=0.0.262 (from llama-index) (from versions: 0.0.1, 0.0.2, 0.0.3, 0.0.4, 0.0.5, 0.0.6, 0.0.7, 0.0.8, 0.0.9, 0.0.10, 0.0.11, 0.0.12, 0.0.13, 0.0.14, 0.0.15, 0.0.16, 0.0.17, 0.0.18, 0.0.19, 0.0.20, 0.0.21, 0.0.22, 0.0.23, 0.0.24, 0.0.25, 0.0.26, 0.0.27)\n",
      "ERROR: No matching distribution found for langchain>=0.0.262\n",
      "WARNING: There was an error checking the latest version of pip.\n"
     ]
    }
   ],
   "source": [
    "!pip install -r requirements.txt"
   ]
  },
  {
   "cell_type": "markdown",
   "id": "ca48bd0f03e6da91",
   "metadata": {
    "collapsed": false,
    "jupyter": {
     "outputs_hidden": false
    }
   },
   "source": [
    "### Load Training Data for Finetuning LLaMa\n",
    "\n",
    "We load data from `b-mc2/sql-create-context` on Hugging Face: https://huggingface.co/datasets/b-mc2/sql-create-context.\n",
    "\n",
    "This dataset consists of tuples of natural language queries, create table statements, and ground-truth SQL queries. This is the dataset that we use to finetune our SQL model."
   ]
  },
  {
   "cell_type": "code",
   "execution_count": null,
   "id": "3130637072fdba2c",
   "metadata": {
    "ExecuteTime": {
     "start_time": "2023-12-02T06:43:57.525728200Z"
    },
    "collapsed": false,
    "is_executing": true,
    "jupyter": {
     "outputs_hidden": false
    }
   },
   "outputs": [],
   "source": [
    "data_dir = \"data_sql\"\n",
    "\n",
    "!modal run src.load_data_sql --data-dir {data_dir}"
   ]
  },
  {
   "cell_type": "markdown",
   "id": "504083566cf863ff",
   "metadata": {
    "collapsed": false,
    "jupyter": {
     "outputs_hidden": false
    }
   },
   "source": [
    "### Run Finetuning Script\n",
    "\n",
    "We run our finetuning script on the loaded dataset.\n",
    "The finetuning script contains the following components:\n",
    "- We split the dataset into training and validation splits.\n",
    "- We format each split into input/output tuples of token id's. This means that the labels are the same as inputs (loss signal is measured on full input, not just on the generated portion).\n",
    "- We use `LoraConfig` from `peft` for efficient fine-tuning.\n",
    "- We use `transformers.Trainer` to actually run the training process.\n",
    "- If a valid `WANDB_PROJECT` is specified, along with the relevant secret in Modal, then we will log results to wandb.\n",
    "\n",
    "We use Modal to spin up an A100 to run our finetuning code."
   ]
  },
  {
   "cell_type": "code",
   "execution_count": 2,
   "id": "73b0775c25a57687",
   "metadata": {
    "collapsed": false,
    "jupyter": {
     "outputs_hidden": false
    }
   },
   "outputs": [
    {
     "name": "stdout",
     "output_type": "stream",
     "text": [
      "^C\n"
     ]
    }
   ],
   "source": [
    "data_dir = \"data_sql\"\n",
    "\n",
    "!modal run src.finetune_sql --data-dir {data_dir}"
   ]
  },
  {
   "cell_type": "markdown",
   "id": "fb8cf0faea68f649",
   "metadata": {
    "collapsed": false,
    "jupyter": {
     "outputs_hidden": false
    }
   },
   "source": [
    "### Evaluation\n",
    "\n",
    "We provide a basic evaluation script over sample data from `sql-create-context` so that you can see for yourself how well the finetuned model performs vs. the baseline model."
   ]
  },
  {
   "cell_type": "code",
   "execution_count": null,
   "id": "d5f532fb51fa3976",
   "metadata": {
    "ExecuteTime": {
     "end_time": "2023-12-02T03:59:28.925893700Z",
     "start_time": "2023-12-02T03:59:28.807721700Z"
    },
    "collapsed": false,
    "jupyter": {
     "outputs_hidden": false
    }
   },
   "outputs": [],
   "source": [
    "!modal run src.eval_sql::main"
   ]
  },
  {
   "cell_type": "markdown",
   "id": "faa5f314a6921d3b",
   "metadata": {
    "collapsed": false,
    "jupyter": {
     "outputs_hidden": false
    }
   },
   "source": [
    "### Integrate Model with LlamaIndex\n",
    "\n",
    "Now that the model is finetuned, the checkpoints and model binary are stored in a model directory (by default it is in `/vol/data_sql`).\n",
    "\n",
    "We can now use this model in LlamaIndex for text-to-SQL applications.\n",
    "\n",
    "Specifically, we provide an interface allowing users to define any `sqlite` data file, and then they can run queries over this data file. We first create and dump a sample `cities.db` file containing (city, population, country) tuples. We then run inference over this file."
   ]
  },
  {
   "cell_type": "markdown",
   "id": "19abfbf240fe826a",
   "metadata": {
    "collapsed": false,
    "jupyter": {
     "outputs_hidden": false
    }
   },
   "source": [
    "#### Create sample db"
   ]
  },
  {
   "cell_type": "code",
   "execution_count": 10,
   "id": "f898289657fbc462",
   "metadata": {
    "collapsed": false,
    "jupyter": {
     "outputs_hidden": false
    }
   },
   "outputs": [],
   "source": [
    "# create sample\n",
    "from sqlalchemy import (\n",
    "    create_engine,\n",
    "    MetaData,\n",
    "    Table,\n",
    "    Column,\n",
    "    String,\n",
    "    Integer,\n",
    "    select,\n",
    "    column,\n",
    ")"
   ]
  },
  {
   "cell_type": "code",
   "execution_count": null,
   "id": "a053c025891a1a9e",
   "metadata": {
    "collapsed": false,
    "jupyter": {
     "outputs_hidden": false
    }
   },
   "outputs": [],
   "source": [
    "db_file = \"cities.db\"\n",
    "engine = create_engine(f\"sqlite:///{db_file}\")\n",
    "metadata_obj = MetaData()"
   ]
  },
  {
   "cell_type": "code",
   "execution_count": null,
   "id": "c27a2cd57dd77783",
   "metadata": {
    "collapsed": false,
    "jupyter": {
     "outputs_hidden": false
    }
   },
   "outputs": [],
   "source": [
    "# create city SQL table\n",
    "table_name = \"city_stats\"\n",
    "city_stats_table = Table(\n",
    "    table_name,\n",
    "    metadata_obj,\n",
    "    Column(\"city_name\", String(16), primary_key=True),\n",
    "    Column(\"population\", Integer),\n",
    "    Column(\"country\", String(16), nullable=False),\n",
    ")\n",
    "metadata_obj.create_all(engine)"
   ]
  },
  {
   "cell_type": "code",
   "execution_count": null,
   "id": "46a73f631f2a16ff",
   "metadata": {
    "collapsed": false,
    "jupyter": {
     "outputs_hidden": false
    }
   },
   "outputs": [],
   "source": [
    "# insert sample rows\n",
    "from sqlalchemy import insert\n",
    "\n",
    "rows = [\n",
    "    {\"city_name\": \"多伦多\", \"population\": 2930000, \"country\": \"加拿大\"},\n",
    "    {\"city_name\": \"东京\", \"population\": 13960000, \"country\": \"日本\"},\n",
    "    {\"city_name\": \"芝加哥\", \"population\": 2679000, \"country\": \"美国\"},\n",
    "    {\"city_name\": \"首尔\", \"population\": 9776000, \"country\": \"韩国\"},\n",
    "]\n",
    "for row in rows:\n",
    "    stmt = insert(city_stats_table).values(**row)\n",
    "    with engine.connect() as connection:\n",
    "        cursor = connection.execute(stmt)\n",
    "        connection.commit()"
   ]
  },
  {
   "cell_type": "markdown",
   "id": "a23645e518f25194",
   "metadata": {
    "collapsed": false,
    "jupyter": {
     "outputs_hidden": false
    }
   },
   "source": [
    "#### Run Inference"
   ]
  },
  {
   "cell_type": "code",
   "execution_count": null,
   "id": "6a3cad7f1ad0c9d0",
   "metadata": {
    "collapsed": false,
    "jupyter": {
     "outputs_hidden": false
    }
   },
   "outputs": [],
   "source": [
    "query = \"哪个城市的人口最多?\"\n",
    "\n",
    "!modal run src.inference_sql_llamaindex::main --query '{query}' --sqlite-file-path {db_file} --model-dir \"data_sql\" --use-finetuned-model True"
   ]
  },
  {
   "cell_type": "code",
   "execution_count": 11,
   "id": "6307bfd88ea8ea91",
   "metadata": {
    "collapsed": false,
    "jupyter": {
     "outputs_hidden": false
    }
   },
   "outputs": [
    {
     "name": "stdout",
     "output_type": "stream",
     "text": [
      "/home/susu/.local/lib/python3.8/site-packages/langchain/__init__.py:34: UserWarning: Importing BasePromptTemplate from langchain root module is no longer supported. Please use langchain.schema.prompt_template.BasePromptTemplate instead.\n",
      "  warnings.warn(\n",
      "/home/susu/.local/lib/python3.8/site-packages/langchain/__init__.py:34: UserWarning: Importing PromptTemplate from langchain root module is no longer supported. Please use langchain.prompts.PromptTemplate instead.\n",
      "  warnings.warn(\n",
      "\u001b[2K\u001b[32m✓\u001b[0m Initialized. \u001b[37mView run at \u001b[0m\u001b[4;37mhttps://modal.com/apps/ap-EQRXSoYsQU8EzpGnweuM3R\u001b[0m\n",
      "\u001b[2K\u001b[34m⠋\u001b[0m Initializing...\n",
      "\u001b[2K\u001b[34m⠦\u001b[0m Creating objects...objects...\n",
      "\u001b[37m└── \u001b[0m\u001b[34m⠋\u001b[0m Creating mount \n",
      "\u001b[37m    \u001b[0m/home/susu/hugging_face_test/demo/test_nlq_to_sql/modal_finetune_sql/src: \n",
      "\u001b[2K\u001b[1A\u001b[2K\u001b[1A\u001b[2K\u001b[1A\u001b[2K\u001b[34m⠏\u001b[0m Creating objects...\n",
      "\u001b[37m└── \u001b[0m\u001b[34m⠸\u001b[0m Creating mount \n",
      "\u001b[37m    \u001b[0m/home/susu/hugging_face_test/demo/test_nlq_to_sql/modal_finetune_sql/src: \n",
      "\u001b[2K\u001b[1A\u001b[2K\u001b[1A\u001b[2K\u001b[1A\u001b[2K\u001b[34m⠹\u001b[0m Creating objects...\n",
      "\u001b[37m└── \u001b[0m\u001b[34m⠦\u001b[0m Creating mount \n",
      "\u001b[37m    \u001b[0m/home/susu/hugging_face_test/demo/test_nlq_to_sql/modal_finetune_sql/src: \n",
      "\u001b[2K\u001b[1A\u001b[2K\u001b[1A\u001b[2K\u001b[1A\u001b[2K\u001b[34m⠴\u001b[0m Creating objects...\n",
      "\u001b[37m└── \u001b[0m\u001b[34m⠏\u001b[0m Creating mount \n",
      "\u001b[37m    \u001b[0m/home/susu/hugging_face_test/demo/test_nlq_to_sql/modal_finetune_sql/src: \n",
      "\u001b[2K\u001b[1A\u001b[2K\u001b[1A\u001b[2K\u001b[1A\u001b[2K\u001b[34m⠇\u001b[0m Creating objects...\n",
      "\u001b[37m└── \u001b[0m\u001b[34m⠹\u001b[0m Creating mount \n",
      "\u001b[37m    \u001b[0m/home/susu/hugging_face_test/demo/test_nlq_to_sql/modal_finetune_sql/src: \n",
      "\u001b[2K\u001b[1A\u001b[2K\u001b[1A\u001b[2K\u001b[1A\u001b[2K\u001b[34m⠹\u001b[0m Creating objects...\n",
      "\u001b[37m└── \u001b[0m🔨 Created mount \n",
      "\u001b[2K\u001b[1A\u001b[2K\u001b[1A\u001b[2K\u001b[34m⠴\u001b[0m Creating objects...t_nlq_to_sql/modal_finetune_sql/src\n",
      "\u001b[37m└── \u001b[0m🔨 Created mount \n",
      "\u001b[2K\u001b[1A\u001b[2K\u001b[1A\u001b[2K\u001b[34m⠇\u001b[0m Creating objects...t_nlq_to_sql/modal_finetune_sql/src\n",
      "\u001b[37m└── \u001b[0m🔨 Created mount \n",
      "\u001b[2K\u001b[1A\u001b[2K\u001b[1A\u001b[2K\u001b[34m⠙\u001b[0m Creating objects...t_nlq_to_sql/modal_finetune_sql/src\n",
      "\u001b[37m└── \u001b[0m🔨 Created mount \n",
      "\u001b[2K\u001b[1A\u001b[2K\u001b[1A\u001b[2K\u001b[34m⠼\u001b[0m Creating objects...t_nlq_to_sql/modal_finetune_sql/src\n",
      "\u001b[37m├── \u001b[0m🔨 Created mount \n",
      "\u001b[37m│   \u001b[0m/home/susu/hugging_face_test/demo/test_nlq_to_sql/modal_finetune_sql/src\n",
      "\u001b[2K\u001b[1A\u001b[2K\u001b[1A\u001b[2K\u001b[1A\u001b[2K\u001b[34m⠧\u001b[0m Creating objects...\n",
      "\u001b[37m├── \u001b[0m🔨 Created mount \n",
      "\u001b[37m│   \u001b[0m/home/susu/hugging_face_test/demo/test_nlq_to_sql/modal_finetune_sql/src\n",
      "\u001b[2K\u001b[1A\u001b[2K\u001b[1A\u001b[2K\u001b[1A\u001b[2K\u001b[34m⠋\u001b[0m Creating objects...\n",
      "\u001b[37m├── \u001b[0m🔨 Created mount \n",
      "\u001b[37m│   \u001b[0m/home/susu/hugging_face_test/demo/test_nlq_to_sql/modal_finetune_sql/src\n",
      "\u001b[2K\u001b[1A\u001b[2K\u001b[1A\u001b[2K\u001b[1A\u001b[2K\u001b[34m⠼\u001b[0m Creating objects...\n",
      "\u001b[37m├── \u001b[0m🔨 Created mount \n",
      "\u001b[37m│   \u001b[0m/home/susu/hugging_face_test/demo/test_nlq_to_sql/modal_finetune_sql/src\n",
      "\u001b[2K\u001b[1A\u001b[2K\u001b[1A\u001b[2K\u001b[1A\u001b[2K\u001b[34m⠧\u001b[0m Creating objects...\n",
      "\u001b[37m├── \u001b[0m🔨 Created mount \n",
      "\u001b[37m│   \u001b[0m/home/susu/hugging_face_test/demo/test_nlq_to_sql/modal_finetune_sql/src\n",
      "\u001b[2K\u001b[1A\u001b[2K\u001b[1A\u001b[2K\u001b[1A\u001b[2K\u001b[34m⠋\u001b[0m Creating objects...\n",
      "\u001b[37m├── \u001b[0m🔨 Created mount \n",
      "\u001b[37m│   \u001b[0m/home/susu/hugging_face_test/demo/test_nlq_to_sql/modal_finetune_sql/src\n",
      "\u001b[2K\u001b[1A\u001b[2K\u001b[1A\u001b[2K\u001b[1A\u001b[2K\u001b[34m⠸\u001b[0m Creating objects...\n",
      "\u001b[37m├── \u001b[0m🔨 Created mount \n",
      "\u001b[37m│   \u001b[0m/home/susu/hugging_face_test/demo/test_nlq_to_sql/modal_finetune_sql/src\n",
      "\u001b[2K\u001b[1A\u001b[2K\u001b[1A\u001b[2K\u001b[1A\u001b[2K\u001b[34m⠦\u001b[0m Creating objects...\n",
      "\u001b[37m├── \u001b[0m🔨 Created mount \n",
      "\u001b[37m│   \u001b[0m/home/susu/hugging_face_test/demo/test_nlq_to_sql/modal_finetune_sql/src\n",
      "\u001b[2K\u001b[1A\u001b[2K\u001b[1A\u001b[2K\u001b[1A\u001b[2K\u001b[34m⠏\u001b[0m Creating objects...\n",
      "\u001b[37m├── \u001b[0m🔨 Created mount \n",
      "\u001b[37m│   \u001b[0m/home/susu/hugging_face_test/demo/test_nlq_to_sql/modal_finetune_sql/src\n",
      "\u001b[37m├── \u001b[0m🔨 Created download_models.\n",
      "\u001b[37m└── \u001b[0m\u001b[34m⠋\u001b[0m Creating mount \n",
      "\u001b[37m    \u001b[0m/home/susu/hugging_face_test/demo/test_nlq_to_sql/modal_finetune_sql/src: \n",
      "\u001b[2K\u001b[1A\u001b[2K\u001b[1A\u001b[2K\u001b[1A\u001b[2K\u001b[1A\u001b[2K\u001b[1A\u001b[2K\u001b[1A\u001b[2K\u001b[34m⠹\u001b[0m Creating objects...\n",
      "\u001b[37m├── \u001b[0m🔨 Created mount \n",
      "\u001b[37m│   \u001b[0m/home/susu/hugging_face_test/demo/test_nlq_to_sql/modal_finetune_sql/src\n",
      "\u001b[37m├── \u001b[0m🔨 Created download_models.\n",
      "\u001b[37m└── \u001b[0m\u001b[34m⠸\u001b[0m Creating mount \n",
      "\u001b[37m    \u001b[0m/home/susu/hugging_face_test/demo/test_nlq_to_sql/modal_finetune_sql/src: \n",
      "\u001b[2K\u001b[1A\u001b[2K\u001b[1A\u001b[2K\u001b[1A\u001b[2K\u001b[1A\u001b[2K\u001b[1A\u001b[2K\u001b[1A\u001b[2K\u001b[34m⠦\u001b[0m Creating objects...\n",
      "\u001b[37m├── \u001b[0m🔨 Created mount \n",
      "\u001b[37m│   \u001b[0m/home/susu/hugging_face_test/demo/test_nlq_to_sql/modal_finetune_sql/src\n",
      "\u001b[37m├── \u001b[0m🔨 Created download_models.\n",
      "\u001b[37m└── \u001b[0m\u001b[34m⠦\u001b[0m Creating mount \n",
      "\u001b[37m    \u001b[0m/home/susu/hugging_face_test/demo/test_nlq_to_sql/modal_finetune_sql/src: \n",
      "\u001b[2K\u001b[1A\u001b[2K\u001b[1A\u001b[2K\u001b[1A\u001b[2K\u001b[1A\u001b[2K\u001b[1A\u001b[2K\u001b[1A\u001b[2K\u001b[34m⠏\u001b[0m Creating objects...\n",
      "\u001b[37m├── \u001b[0m🔨 Created mount \n",
      "\u001b[37m│   \u001b[0m/home/susu/hugging_face_test/demo/test_nlq_to_sql/modal_finetune_sql/src\n",
      "\u001b[37m├── \u001b[0m🔨 Created download_models.\n",
      "\u001b[37m└── \u001b[0m\u001b[34m⠏\u001b[0m Creating mount \n",
      "\u001b[37m    \u001b[0m/home/susu/hugging_face_test/demo/test_nlq_to_sql/modal_finetune_sql/src: \n",
      "\u001b[2K\u001b[1A\u001b[2K\u001b[1A\u001b[2K\u001b[1A\u001b[2K\u001b[1A\u001b[2K\u001b[1A\u001b[2K\u001b[1A\u001b[2K\u001b[34m⠹\u001b[0m Creating objects...\n",
      "\u001b[37m├── \u001b[0m🔨 Created mount \n",
      "\u001b[37m│   \u001b[0m/home/susu/hugging_face_test/demo/test_nlq_to_sql/modal_finetune_sql/src\n",
      "\u001b[37m├── \u001b[0m🔨 Created download_models.\n",
      "\u001b[37m├── \u001b[0m🔨 Created mount \n",
      "\u001b[37m│   \u001b[0m/home/susu/hugging_face_test/demo/test_nlq_to_sql/modal_finetune_sql/src\n",
      "\u001b[2K\u001b[1A\u001b[2K\u001b[1A\u001b[2K\u001b[1A\u001b[2K\u001b[1A\u001b[2K\u001b[1A\u001b[2K\u001b[1A\u001b[2K\u001b[34m⠴\u001b[0m Creating objects...\n",
      "\u001b[37m├── \u001b[0m🔨 Created mount \n",
      "\u001b[37m│   \u001b[0m/home/susu/hugging_face_test/demo/test_nlq_to_sql/modal_finetune_sql/src\n",
      "\u001b[37m├── \u001b[0m🔨 Created download_models.\n",
      "\u001b[37m├── \u001b[0m🔨 Created mount \n",
      "\u001b[37m│   \u001b[0m/home/susu/hugging_face_test/demo/test_nlq_to_sql/modal_finetune_sql/src\n",
      "\u001b[2K\u001b[1A\u001b[2K\u001b[1A\u001b[2K\u001b[1A\u001b[2K\u001b[1A\u001b[2K\u001b[1A\u001b[2K\u001b[1A\u001b[2K\u001b[34m⠦\u001b[0m Creating objects...\n",
      "\u001b[37m├── \u001b[0m🔨 Created mount \n",
      "\u001b[37m│   \u001b[0m/home/susu/hugging_face_test/demo/test_nlq_to_sql/modal_finetune_sql/src\n",
      "\u001b[37m├── \u001b[0m🔨 Created download_models.\n",
      "\u001b[37m├── \u001b[0m🔨 Created mount \n",
      "\u001b[37m│   \u001b[0m/home/susu/hugging_face_test/demo/test_nlq_to_sql/modal_finetune_sql/src\n",
      "\u001b[37m└── \u001b[0m🔨 Created run_query.\n",
      "\u001b[1A\u001b[2K\u001b[1A\u001b[2K\u001b[1A\u001b[2K\u001b[1A\u001b[2K\u001b[1A\u001b[2K\u001b[1A\u001b[2K\u001b[1A\u001b[2K\u001b[32m✓\u001b[0m Created objects.\n",
      "\u001b[37m├── \u001b[0m🔨 Created mount \n",
      "\u001b[37m│   \u001b[0m/home/susu/hugging_face_test/demo/test_nlq_to_sql/modal_finetune_sql/src\n",
      "\u001b[37m├── \u001b[0m🔨 Created download_models.\n",
      "\u001b[37m├── \u001b[0m🔨 Created mount \n",
      "\u001b[37m│   \u001b[0m/home/susu/hugging_face_test/demo/test_nlq_to_sql/modal_finetune_sql/src\n",
      "\u001b[37m└── \u001b[0m🔨 Created run_query.\n",
      "\u001b[2K\u001b[34m⠋\u001b[0m Running app.....\n",
      "\u001b[1A\u001b[2K\u001b[33mStopping app - uncaught exception raised locally: FileNotFoundError(2, 'No such file or directory').\n",
      "\u001b[0m\u001b[31m╭─\u001b[0m\u001b[31m────────────────────\u001b[0m\u001b[31m \u001b[0m\u001b[1;31mTraceback \u001b[0m\u001b[1;2;31m(most recent call last)\u001b[0m\u001b[31m \u001b[0m\u001b[31m─────────────────────\u001b[0m\u001b[31m─╮\u001b[0m\n",
      "\u001b[31m│\u001b[0m \u001b[2;33m/home/susu/.local/bin/\u001b[0m\u001b[1;33mmodal\u001b[0m:\u001b[94m8\u001b[0m in \u001b[92m<module>\u001b[0m                                    \u001b[31m│\u001b[0m\n",
      "\u001b[31m│\u001b[0m                                                                              \u001b[31m│\u001b[0m\n",
      "\u001b[31m│\u001b[0m   \u001b[2m7 \u001b[0m\u001b[2m│   \u001b[0msys.argv[\u001b[94m0\u001b[0m] = re.sub(\u001b[33mr\u001b[0m\u001b[33m'\u001b[0m\u001b[33m(-script\u001b[0m\u001b[33m\\\u001b[0m\u001b[33m.pyw|\u001b[0m\u001b[33m\\\u001b[0m\u001b[33m.exe)?$\u001b[0m\u001b[33m'\u001b[0m, \u001b[33m'\u001b[0m\u001b[33m'\u001b[0m, sys.argv[\u001b[94m0\u001b[0m])     \u001b[31m│\u001b[0m\n",
      "\u001b[31m│\u001b[0m \u001b[31m❱ \u001b[0m8 \u001b[2m│   \u001b[0msys.exit(main())                                                     \u001b[31m│\u001b[0m\n",
      "\u001b[31m│\u001b[0m   \u001b[2m9 \u001b[0m                                                                         \u001b[31m│\u001b[0m\n",
      "\u001b[31m│\u001b[0m                                                                              \u001b[31m│\u001b[0m\n",
      "\u001b[31m│\u001b[0m \u001b[2;33m/home/susu/.local/lib/python3.8/site-packages/modal/\u001b[0m\u001b[1;33m__main__.py\u001b[0m:\u001b[94m9\u001b[0m in \u001b[92mmain\u001b[0m    \u001b[31m│\u001b[0m\n",
      "\u001b[31m│\u001b[0m                                                                              \u001b[31m│\u001b[0m\n",
      "\u001b[31m│\u001b[0m   \u001b[2m 8 \u001b[0m\u001b[2m│   \u001b[0msetup_rich_traceback()                                              \u001b[31m│\u001b[0m\n",
      "\u001b[31m│\u001b[0m \u001b[31m❱ \u001b[0m 9 \u001b[2m│   \u001b[0mentrypoint_cli()                                                    \u001b[31m│\u001b[0m\n",
      "\u001b[31m│\u001b[0m   \u001b[2m10 \u001b[0m                                                                        \u001b[31m│\u001b[0m\n",
      "\u001b[31m│\u001b[0m                                                                              \u001b[31m│\u001b[0m\n",
      "\u001b[31m│\u001b[0m \u001b[2;33m/home/susu/.local/lib/python3.8/site-packages/click/\u001b[0m\u001b[1;33mcore.py\u001b[0m:\u001b[94m1157\u001b[0m in \u001b[92m__call__\u001b[0m \u001b[31m│\u001b[0m\n",
      "\u001b[31m│\u001b[0m                                                                              \u001b[31m│\u001b[0m\n",
      "\u001b[31m│\u001b[0m   \u001b[2m1156 \u001b[0m\u001b[2;90m│   │   \u001b[0m\u001b[33m\"\"\"Alias for :meth:`main`.\"\"\"\u001b[0m                                 \u001b[31m│\u001b[0m\n",
      "\u001b[31m│\u001b[0m \u001b[31m❱ \u001b[0m1157 \u001b[2m│   │   \u001b[0m\u001b[94mreturn\u001b[0m \u001b[96mself\u001b[0m.main(*args, **kwargs)                             \u001b[31m│\u001b[0m\n",
      "\u001b[31m│\u001b[0m   \u001b[2m1158 \u001b[0m                                                                      \u001b[31m│\u001b[0m\n",
      "\u001b[31m│\u001b[0m                                                                              \u001b[31m│\u001b[0m\n",
      "\u001b[31m│\u001b[0m \u001b[2;33m/home/susu/.local/lib/python3.8/site-packages/typer/\u001b[0m\u001b[1;33mcore.py\u001b[0m:\u001b[94m778\u001b[0m in \u001b[92mmain\u001b[0m      \u001b[31m│\u001b[0m\n",
      "\u001b[31m│\u001b[0m                                                                              \u001b[31m│\u001b[0m\n",
      "\u001b[31m│\u001b[0m   \u001b[2m777 \u001b[0m\u001b[2m│   \u001b[0m) -> Any:                                                          \u001b[31m│\u001b[0m\n",
      "\u001b[31m│\u001b[0m \u001b[31m❱ \u001b[0m778 \u001b[2m│   │   \u001b[0m\u001b[94mreturn\u001b[0m _main(                                                  \u001b[31m│\u001b[0m\n",
      "\u001b[31m│\u001b[0m   \u001b[2m779 \u001b[0m\u001b[2m│   │   │   \u001b[0m\u001b[96mself\u001b[0m,                                                      \u001b[31m│\u001b[0m\n",
      "\u001b[31m│\u001b[0m                                                                              \u001b[31m│\u001b[0m\n",
      "\u001b[31m│\u001b[0m \u001b[2;33m/home/susu/.local/lib/python3.8/site-packages/typer/\u001b[0m\u001b[1;33mcore.py\u001b[0m:\u001b[94m216\u001b[0m in \u001b[92m_main\u001b[0m     \u001b[31m│\u001b[0m\n",
      "\u001b[31m│\u001b[0m                                                                              \u001b[31m│\u001b[0m\n",
      "\u001b[31m│\u001b[0m   \u001b[2m215 \u001b[0m\u001b[2m│   │   │   \u001b[0m\u001b[94mwith\u001b[0m \u001b[96mself\u001b[0m.make_context(prog_name, args, **extra) \u001b[94mas\u001b[0m ctx:   \u001b[31m│\u001b[0m\n",
      "\u001b[31m│\u001b[0m \u001b[31m❱ \u001b[0m216 \u001b[2m│   │   │   │   \u001b[0mrv = \u001b[96mself\u001b[0m.invoke(ctx)                                  \u001b[31m│\u001b[0m\n",
      "\u001b[31m│\u001b[0m   \u001b[2m217 \u001b[0m\u001b[2m│   │   │   │   \u001b[0m\u001b[94mif\u001b[0m \u001b[95mnot\u001b[0m standalone_mode:                                \u001b[31m│\u001b[0m\n",
      "\u001b[31m│\u001b[0m                                                                              \u001b[31m│\u001b[0m\n",
      "\u001b[31m│\u001b[0m \u001b[2;33m/home/susu/.local/lib/python3.8/site-packages/click/\u001b[0m\u001b[1;33mcore.py\u001b[0m:\u001b[94m1688\u001b[0m in \u001b[92minvoke\u001b[0m   \u001b[31m│\u001b[0m\n",
      "\u001b[31m│\u001b[0m                                                                              \u001b[31m│\u001b[0m\n",
      "\u001b[31m│\u001b[0m   \u001b[2m1687 \u001b[0m\u001b[2m│   │   │   │   \u001b[0m\u001b[94mwith\u001b[0m sub_ctx:                                         \u001b[31m│\u001b[0m\n",
      "\u001b[31m│\u001b[0m \u001b[31m❱ \u001b[0m1688 \u001b[2m│   │   │   │   │   \u001b[0m\u001b[94mreturn\u001b[0m _process_result(sub_ctx.command.invoke(sub \u001b[31m│\u001b[0m\n",
      "\u001b[31m│\u001b[0m   \u001b[2m1689 \u001b[0m                                                                      \u001b[31m│\u001b[0m\n",
      "\u001b[31m│\u001b[0m                                                                              \u001b[31m│\u001b[0m\n",
      "\u001b[31m│\u001b[0m \u001b[2;33m/home/susu/.local/lib/python3.8/site-packages/click/\u001b[0m\u001b[1;33mcore.py\u001b[0m:\u001b[94m1688\u001b[0m in \u001b[92minvoke\u001b[0m   \u001b[31m│\u001b[0m\n",
      "\u001b[31m│\u001b[0m                                                                              \u001b[31m│\u001b[0m\n",
      "\u001b[31m│\u001b[0m   \u001b[2m1687 \u001b[0m\u001b[2m│   │   │   │   \u001b[0m\u001b[94mwith\u001b[0m sub_ctx:                                         \u001b[31m│\u001b[0m\n",
      "\u001b[31m│\u001b[0m \u001b[31m❱ \u001b[0m1688 \u001b[2m│   │   │   │   │   \u001b[0m\u001b[94mreturn\u001b[0m _process_result(sub_ctx.command.invoke(sub \u001b[31m│\u001b[0m\n",
      "\u001b[31m│\u001b[0m   \u001b[2m1689 \u001b[0m                                                                      \u001b[31m│\u001b[0m\n",
      "\u001b[31m│\u001b[0m                                                                              \u001b[31m│\u001b[0m\n",
      "\u001b[31m│\u001b[0m \u001b[2;33m/home/susu/.local/lib/python3.8/site-packages/click/\u001b[0m\u001b[1;33mcore.py\u001b[0m:\u001b[94m1434\u001b[0m in \u001b[92minvoke\u001b[0m   \u001b[31m│\u001b[0m\n",
      "\u001b[31m│\u001b[0m                                                                              \u001b[31m│\u001b[0m\n",
      "\u001b[31m│\u001b[0m   \u001b[2m1433 \u001b[0m\u001b[2m│   │   \u001b[0m\u001b[94mif\u001b[0m \u001b[96mself\u001b[0m.callback \u001b[95mis\u001b[0m \u001b[95mnot\u001b[0m \u001b[94mNone\u001b[0m:                                 \u001b[31m│\u001b[0m\n",
      "\u001b[31m│\u001b[0m \u001b[31m❱ \u001b[0m1434 \u001b[2m│   │   │   \u001b[0m\u001b[94mreturn\u001b[0m ctx.invoke(\u001b[96mself\u001b[0m.callback, **ctx.params)            \u001b[31m│\u001b[0m\n",
      "\u001b[31m│\u001b[0m   \u001b[2m1435 \u001b[0m                                                                      \u001b[31m│\u001b[0m\n",
      "\u001b[31m│\u001b[0m                                                                              \u001b[31m│\u001b[0m\n",
      "\u001b[31m│\u001b[0m \u001b[2;33m/home/susu/.local/lib/python3.8/site-packages/click/\u001b[0m\u001b[1;33mcore.py\u001b[0m:\u001b[94m783\u001b[0m in \u001b[92minvoke\u001b[0m    \u001b[31m│\u001b[0m\n",
      "\u001b[31m│\u001b[0m                                                                              \u001b[31m│\u001b[0m\n",
      "\u001b[31m│\u001b[0m   \u001b[2m 782 \u001b[0m\u001b[2m│   │   │   \u001b[0m\u001b[94mwith\u001b[0m ctx:                                                 \u001b[31m│\u001b[0m\n",
      "\u001b[31m│\u001b[0m \u001b[31m❱ \u001b[0m 783 \u001b[2m│   │   │   │   \u001b[0m\u001b[94mreturn\u001b[0m __callback(*args, **kwargs)                    \u001b[31m│\u001b[0m\n",
      "\u001b[31m│\u001b[0m   \u001b[2m 784 \u001b[0m                                                                      \u001b[31m│\u001b[0m\n",
      "\u001b[31m│\u001b[0m                                                                              \u001b[31m│\u001b[0m\n",
      "\u001b[31m│\u001b[0m \u001b[2;33m/home/susu/.local/lib/python3.8/site-packages/click/\u001b[0m\u001b[1;33mdecorators.py\u001b[0m:\u001b[94m33\u001b[0m in      \u001b[31m│\u001b[0m\n",
      "\u001b[31m│\u001b[0m \u001b[92mnew_func\u001b[0m                                                                     \u001b[31m│\u001b[0m\n",
      "\u001b[31m│\u001b[0m                                                                              \u001b[31m│\u001b[0m\n",
      "\u001b[31m│\u001b[0m   \u001b[2m 32 \u001b[0m\u001b[2m│   \u001b[0m\u001b[94mdef\u001b[0m \u001b[92mnew_func\u001b[0m(*args: \u001b[33m\"\u001b[0m\u001b[33mP.args\u001b[0m\u001b[33m\"\u001b[0m, **kwargs: \u001b[33m\"\u001b[0m\u001b[33mP.kwargs\u001b[0m\u001b[33m\"\u001b[0m) -> \u001b[33m\"\u001b[0m\u001b[33mR\u001b[0m\u001b[33m\"\u001b[0m:        \u001b[31m│\u001b[0m\n",
      "\u001b[31m│\u001b[0m \u001b[31m❱ \u001b[0m 33 \u001b[2m│   │   \u001b[0m\u001b[94mreturn\u001b[0m f(get_current_context(), *args, **kwargs)               \u001b[31m│\u001b[0m\n",
      "\u001b[31m│\u001b[0m   \u001b[2m 34 \u001b[0m                                                                       \u001b[31m│\u001b[0m\n",
      "\u001b[31m│\u001b[0m                                                                              \u001b[31m│\u001b[0m\n",
      "\u001b[31m│\u001b[0m \u001b[2;33m/home/susu/.local/lib/python3.8/site-packages/modal/cli/\u001b[0m\u001b[1;33mrun.py\u001b[0m:\u001b[94m154\u001b[0m in \u001b[92mf\u001b[0m      \u001b[31m│\u001b[0m\n",
      "\u001b[31m│\u001b[0m                                                                              \u001b[31m│\u001b[0m\n",
      "\u001b[31m│\u001b[0m   \u001b[2m153 \u001b[0m\u001b[2m│   │   │   \u001b[0m\u001b[94melse\u001b[0m:                                                      \u001b[31m│\u001b[0m\n",
      "\u001b[31m│\u001b[0m \u001b[31m❱ \u001b[0m154 \u001b[2m│   │   │   │   \u001b[0mfunc(*args, **kwargs)                                  \u001b[31m│\u001b[0m\n",
      "\u001b[31m│\u001b[0m   \u001b[2m155 \u001b[0m                                                                       \u001b[31m│\u001b[0m\n",
      "\u001b[31m│\u001b[0m                                                                              \u001b[31m│\u001b[0m\n",
      "\u001b[31m│\u001b[0m \u001b[2;33m/home/susu/hugging_face_test/demo/test_nlq_to_sql/modal_finetune_sql/src/\u001b[0m\u001b[1;33minf\u001b[0m \u001b[31m│\u001b[0m\n",
      "\u001b[31m│\u001b[0m \u001b[1;33merence_sql_llamaindex.py\u001b[0m:\u001b[94m91\u001b[0m in \u001b[92mmain\u001b[0m                                          \u001b[31m│\u001b[0m\n",
      "\u001b[31m│\u001b[0m                                                                              \u001b[31m│\u001b[0m\n",
      "\u001b[31m│\u001b[0m   \u001b[2m 90 \u001b[0m\u001b[2m│   \u001b[0m                                                                   \u001b[31m│\u001b[0m\n",
      "\u001b[31m│\u001b[0m \u001b[31m❱ \u001b[0m 91 \u001b[2m│   \u001b[0mfp = \u001b[96mopen\u001b[0m(sqlite_file_path, \u001b[33m\"\u001b[0m\u001b[33mrb\u001b[0m\u001b[33m\"\u001b[0m)                                  \u001b[31m│\u001b[0m\n",
      "\u001b[31m│\u001b[0m   \u001b[2m 92 \u001b[0m\u001b[2m│   \u001b[0mstub.data_dict[\u001b[33m\"\u001b[0m\u001b[33msqlite_data\u001b[0m\u001b[33m\"\u001b[0m] = fp.read()                          \u001b[31m│\u001b[0m\n",
      "\u001b[31m╰──────────────────────────────────────────────────────────────────────────────╯\u001b[0m\n",
      "\u001b[1;91mFileNotFoundError: \u001b[0m\u001b[1m[\u001b[0mErrno \u001b[1;36m2\u001b[0m\u001b[1m]\u001b[0m No such file or directory: \u001b[32m'\u001b[0m\u001b[32m{\u001b[0m\u001b[32mdb_file\u001b[0m\u001b[32m}\u001b[0m\u001b[32m'\u001b[0m\n"
     ]
    }
   ],
   "source": [
    "# you can also choose to run the original (nonfinetuned model) to compare results\n",
    "# note: it throws an error\n",
    "\n",
    "# use non-finetuned model\n",
    "!modal run src.inference_sql_llamaindex::main --query '{query}' --sqlite-file-path {db_file} --model-dir \"data_sql\" --use-finetuned-model False"
   ]
  },
  {
   "cell_type": "markdown",
   "id": "4f03fff861e4f85c",
   "metadata": {
    "collapsed": false,
    "jupyter": {
     "outputs_hidden": false
    }
   },
   "source": [
    "### (Optional) Download Model\n",
    "\n",
    "If you want to download the model weights for your own use, just run the following script."
   ]
  },
  {
   "cell_type": "code",
   "execution_count": 9,
   "id": "9ad7a136a36600ec",
   "metadata": {
    "ExecuteTime": {
     "end_time": "2023-12-02T11:06:08.131355800Z",
     "start_time": "2023-12-02T11:06:06.348789400Z"
    },
    "collapsed": false,
    "jupyter": {
     "outputs_hidden": false
    }
   },
   "outputs": [
    {
     "ename": "ExecutionError",
     "evalue": "Object has not been hydrated and doesn't support lazy hydration. This might happen if an object is defined on a different stub, or if it's on the same stub but it didn't get created because it wasn't defined in global scope.",
     "output_type": "error",
     "traceback": [
      "\u001b[0;31m---------------------------------------------------------------------------\u001b[0m",
      "\u001b[0;31mExecutionError\u001b[0m                            Traceback (most recent call last)",
      "Cell \u001b[0;32mIn[9], line 3\u001b[0m\n\u001b[1;32m      1\u001b[0m \u001b[38;5;28;01mfrom\u001b[39;00m \u001b[38;5;21;01msrc\u001b[39;00m\u001b[38;5;21;01m.\u001b[39;00m\u001b[38;5;21;01mdownload_weights\u001b[39;00m \u001b[38;5;28;01mimport\u001b[39;00m main\n\u001b[0;32m----> 3\u001b[0m \u001b[43mmain\u001b[49m\u001b[43m(\u001b[49m\u001b[38;5;124;43m\"\u001b[39;49m\u001b[38;5;124;43mout_model\u001b[39;49m\u001b[38;5;124;43m\"\u001b[39;49m\u001b[43m,\u001b[49m\u001b[43m \u001b[49m\u001b[43mmodel_dir\u001b[49m\u001b[38;5;241;43m=\u001b[39;49m\u001b[38;5;124;43m\"\u001b[39;49m\u001b[38;5;124;43mdata_sql\u001b[39;49m\u001b[38;5;124;43m\"\u001b[39;49m\u001b[43m)\u001b[49m\n",
      "File \u001b[0;32m~/.local/lib/python3.8/site-packages/synchronicity/synchronizer.py:497\u001b[0m, in \u001b[0;36mSynchronizer._wrap_proxy_method.<locals>.proxy_method\u001b[0;34m(self, *args, **kwargs)\u001b[0m\n\u001b[1;32m    495\u001b[0m instance \u001b[38;5;241m=\u001b[39m \u001b[38;5;28mself\u001b[39m\u001b[38;5;241m.\u001b[39m\u001b[38;5;18m__dict__\u001b[39m[synchronizer_self\u001b[38;5;241m.\u001b[39m_original_attr]\n\u001b[1;32m    496\u001b[0m \u001b[38;5;28;01mtry\u001b[39;00m:\n\u001b[0;32m--> 497\u001b[0m     \u001b[38;5;28;01mreturn\u001b[39;00m \u001b[43mwrapped_method\u001b[49m\u001b[43m(\u001b[49m\u001b[43minstance\u001b[49m\u001b[43m,\u001b[49m\u001b[43m \u001b[49m\u001b[38;5;241;43m*\u001b[39;49m\u001b[43margs\u001b[49m\u001b[43m,\u001b[49m\u001b[43m \u001b[49m\u001b[38;5;241;43m*\u001b[39;49m\u001b[38;5;241;43m*\u001b[39;49m\u001b[43mkwargs\u001b[49m\u001b[43m)\u001b[49m\n\u001b[1;32m    498\u001b[0m \u001b[38;5;28;01mexcept\u001b[39;00m UserCodeException \u001b[38;5;28;01mas\u001b[39;00m uc_exc:\n\u001b[1;32m    499\u001b[0m     \u001b[38;5;28;01mraise\u001b[39;00m uc_exc\u001b[38;5;241m.\u001b[39mexc \u001b[38;5;28;01mfrom\u001b[39;00m \u001b[38;5;28;01mNone\u001b[39;00m\n",
      "File \u001b[0;32m~/.local/lib/python3.8/site-packages/synchronicity/synchronizer.py:398\u001b[0m, in \u001b[0;36mSynchronizer._wrap_callable.<locals>.f_wrapped\u001b[0;34m(*args, **kwargs)\u001b[0m\n\u001b[1;32m    395\u001b[0m kwargs \u001b[38;5;241m=\u001b[39m \u001b[38;5;28mself\u001b[39m\u001b[38;5;241m.\u001b[39m_translate_in(kwargs)\n\u001b[1;32m    397\u001b[0m \u001b[38;5;66;03m# Call the function\u001b[39;00m\n\u001b[0;32m--> 398\u001b[0m res \u001b[38;5;241m=\u001b[39m \u001b[43mf\u001b[49m\u001b[43m(\u001b[49m\u001b[38;5;241;43m*\u001b[39;49m\u001b[43margs\u001b[49m\u001b[43m,\u001b[49m\u001b[43m \u001b[49m\u001b[38;5;241;43m*\u001b[39;49m\u001b[38;5;241;43m*\u001b[39;49m\u001b[43mkwargs\u001b[49m\u001b[43m)\u001b[49m\n\u001b[1;32m    400\u001b[0m \u001b[38;5;66;03m# Figure out if this is a coroutine or something\u001b[39;00m\n\u001b[1;32m    401\u001b[0m is_coroutine \u001b[38;5;241m=\u001b[39m inspect\u001b[38;5;241m.\u001b[39miscoroutine(res)\n",
      "File \u001b[0;32m~/.local/lib/python3.8/site-packages/modal/stub.py:50\u001b[0m, in \u001b[0;36m_LocalEntrypoint.__call__\u001b[0;34m(self, *args, **kwargs)\u001b[0m\n\u001b[1;32m     49\u001b[0m \u001b[38;5;28;01mdef\u001b[39;00m \u001b[38;5;21m__call__\u001b[39m(\u001b[38;5;28mself\u001b[39m, \u001b[38;5;241m*\u001b[39margs, \u001b[38;5;241m*\u001b[39m\u001b[38;5;241m*\u001b[39mkwargs):\n\u001b[0;32m---> 50\u001b[0m     \u001b[38;5;28;01mreturn\u001b[39;00m \u001b[38;5;28;43mself\u001b[39;49m\u001b[38;5;241;43m.\u001b[39;49m\u001b[43m_info\u001b[49m\u001b[38;5;241;43m.\u001b[39;49m\u001b[43mraw_f\u001b[49m\u001b[43m(\u001b[49m\u001b[38;5;241;43m*\u001b[39;49m\u001b[43margs\u001b[49m\u001b[43m,\u001b[49m\u001b[43m \u001b[49m\u001b[38;5;241;43m*\u001b[39;49m\u001b[38;5;241;43m*\u001b[39;49m\u001b[43mkwargs\u001b[49m\u001b[43m)\u001b[49m\n",
      "File \u001b[0;32m~/hugging_face_test/demo/test_nlq_to_sql/modal_finetune_sql/src/download_weights.py:33\u001b[0m, in \u001b[0;36mmain\u001b[0;34m(output_dir, model_dir)\u001b[0m\n\u001b[1;32m     30\u001b[0m \u001b[38;5;129m@stub\u001b[39m\u001b[38;5;241m.\u001b[39mlocal_entrypoint()\n\u001b[1;32m     31\u001b[0m \u001b[38;5;28;01mdef\u001b[39;00m \u001b[38;5;21mmain\u001b[39m(output_dir: \u001b[38;5;28mstr\u001b[39m, model_dir: \u001b[38;5;28mstr\u001b[39m \u001b[38;5;241m=\u001b[39m \u001b[38;5;124m\"\u001b[39m\u001b[38;5;124mdata_sql\u001b[39m\u001b[38;5;124m\"\u001b[39m):\n\u001b[1;32m     32\u001b[0m     \u001b[38;5;66;03m# copy adapter_config.json and adapter_model.bin files into dict\u001b[39;00m\n\u001b[0;32m---> 33\u001b[0m     \u001b[43mload_model\u001b[49m\u001b[38;5;241;43m.\u001b[39;49m\u001b[43mremote\u001b[49m\u001b[43m(\u001b[49m\u001b[43mmodel_dir\u001b[49m\u001b[38;5;241;43m=\u001b[39;49m\u001b[43mmodel_dir\u001b[49m\u001b[43m)\u001b[49m\n\u001b[1;32m     34\u001b[0m     model_data \u001b[38;5;241m=\u001b[39m stub\u001b[38;5;241m.\u001b[39mmodel_dict[\u001b[38;5;124m\"\u001b[39m\u001b[38;5;124mmodel\u001b[39m\u001b[38;5;124m\"\u001b[39m]\n\u001b[1;32m     35\u001b[0m     config_data \u001b[38;5;241m=\u001b[39m stub\u001b[38;5;241m.\u001b[39mmodel_dict[\u001b[38;5;124m\"\u001b[39m\u001b[38;5;124mconfig\u001b[39m\u001b[38;5;124m\"\u001b[39m]\n",
      "File \u001b[0;32m~/.local/lib/python3.8/site-packages/synchronicity/synchronizer.py:497\u001b[0m, in \u001b[0;36mSynchronizer._wrap_proxy_method.<locals>.proxy_method\u001b[0;34m(self, *args, **kwargs)\u001b[0m\n\u001b[1;32m    495\u001b[0m instance \u001b[38;5;241m=\u001b[39m \u001b[38;5;28mself\u001b[39m\u001b[38;5;241m.\u001b[39m\u001b[38;5;18m__dict__\u001b[39m[synchronizer_self\u001b[38;5;241m.\u001b[39m_original_attr]\n\u001b[1;32m    496\u001b[0m \u001b[38;5;28;01mtry\u001b[39;00m:\n\u001b[0;32m--> 497\u001b[0m     \u001b[38;5;28;01mreturn\u001b[39;00m \u001b[43mwrapped_method\u001b[49m\u001b[43m(\u001b[49m\u001b[43minstance\u001b[49m\u001b[43m,\u001b[49m\u001b[43m \u001b[49m\u001b[38;5;241;43m*\u001b[39;49m\u001b[43margs\u001b[49m\u001b[43m,\u001b[49m\u001b[43m \u001b[49m\u001b[38;5;241;43m*\u001b[39;49m\u001b[38;5;241;43m*\u001b[39;49m\u001b[43mkwargs\u001b[49m\u001b[43m)\u001b[49m\n\u001b[1;32m    498\u001b[0m \u001b[38;5;28;01mexcept\u001b[39;00m UserCodeException \u001b[38;5;28;01mas\u001b[39;00m uc_exc:\n\u001b[1;32m    499\u001b[0m     \u001b[38;5;28;01mraise\u001b[39;00m uc_exc\u001b[38;5;241m.\u001b[39mexc \u001b[38;5;28;01mfrom\u001b[39;00m \u001b[38;5;28;01mNone\u001b[39;00m\n",
      "File \u001b[0;32m~/.local/lib/python3.8/site-packages/synchronicity/combined_types.py:26\u001b[0m, in \u001b[0;36mFunctionWithAio.__call__\u001b[0;34m(self, *args, **kwargs)\u001b[0m\n\u001b[1;32m     24\u001b[0m     \u001b[38;5;28;01mreturn\u001b[39;00m \u001b[38;5;28mself\u001b[39m\u001b[38;5;241m.\u001b[39m_func(\u001b[38;5;241m*\u001b[39margs, \u001b[38;5;241m*\u001b[39m\u001b[38;5;241m*\u001b[39mkwargs)\n\u001b[1;32m     25\u001b[0m \u001b[38;5;28;01mexcept\u001b[39;00m UserCodeException \u001b[38;5;28;01mas\u001b[39;00m uc_exc:\n\u001b[0;32m---> 26\u001b[0m     \u001b[38;5;28;01mraise\u001b[39;00m uc_exc\u001b[38;5;241m.\u001b[39mexc \u001b[38;5;28;01mfrom\u001b[39;00m \u001b[38;5;28;01mNone\u001b[39;00m\n",
      "File \u001b[0;32m~/.local/lib/python3.8/site-packages/modal/object.py:379\u001b[0m, in \u001b[0;36mlive_method.<locals>.wrapped\u001b[0;34m(self, *args, **kwargs)\u001b[0m\n\u001b[1;32m    377\u001b[0m \u001b[38;5;129m@wraps\u001b[39m(method)\n\u001b[1;32m    378\u001b[0m \u001b[38;5;28;01masync\u001b[39;00m \u001b[38;5;28;01mdef\u001b[39;00m \u001b[38;5;21mwrapped\u001b[39m(\u001b[38;5;28mself\u001b[39m, \u001b[38;5;241m*\u001b[39margs, \u001b[38;5;241m*\u001b[39m\u001b[38;5;241m*\u001b[39mkwargs):\n\u001b[0;32m--> 379\u001b[0m     \u001b[38;5;28;01mawait\u001b[39;00m \u001b[38;5;28mself\u001b[39m\u001b[38;5;241m.\u001b[39mresolve()\n\u001b[1;32m    380\u001b[0m     \u001b[38;5;28;01mreturn\u001b[39;00m \u001b[38;5;28;01mawait\u001b[39;00m method(\u001b[38;5;28mself\u001b[39m, \u001b[38;5;241m*\u001b[39margs, \u001b[38;5;241m*\u001b[39m\u001b[38;5;241m*\u001b[39mkwargs)\n",
      "File \u001b[0;32m~/.local/lib/python3.8/site-packages/modal/object.py:195\u001b[0m, in \u001b[0;36m_Object.resolve\u001b[0;34m(self)\u001b[0m\n\u001b[1;32m    193\u001b[0m     \u001b[38;5;28;01mreturn\u001b[39;00m\n\u001b[1;32m    194\u001b[0m \u001b[38;5;28;01melif\u001b[39;00m \u001b[38;5;129;01mnot\u001b[39;00m \u001b[38;5;28mself\u001b[39m\u001b[38;5;241m.\u001b[39m_hydrate_lazily:\n\u001b[0;32m--> 195\u001b[0m     \u001b[38;5;28;01mraise\u001b[39;00m ExecutionError(\n\u001b[1;32m    196\u001b[0m         \u001b[38;5;124m\"\u001b[39m\u001b[38;5;124mObject has not been hydrated and doesn\u001b[39m\u001b[38;5;124m'\u001b[39m\u001b[38;5;124mt support lazy hydration.\u001b[39m\u001b[38;5;124m\"\u001b[39m\n\u001b[1;32m    197\u001b[0m         \u001b[38;5;124m\"\u001b[39m\u001b[38;5;124m This might happen if an object is defined on a different stub,\u001b[39m\u001b[38;5;124m\"\u001b[39m\n\u001b[1;32m    198\u001b[0m         \u001b[38;5;124m\"\u001b[39m\u001b[38;5;124m or if it\u001b[39m\u001b[38;5;124m'\u001b[39m\u001b[38;5;124ms on the same stub but it didn\u001b[39m\u001b[38;5;124m'\u001b[39m\u001b[38;5;124mt get created because it\u001b[39m\u001b[38;5;124m\"\u001b[39m\n\u001b[1;32m    199\u001b[0m         \u001b[38;5;124m\"\u001b[39m\u001b[38;5;124m wasn\u001b[39m\u001b[38;5;124m'\u001b[39m\u001b[38;5;124mt defined in global scope.\u001b[39m\u001b[38;5;124m\"\u001b[39m\n\u001b[1;32m    200\u001b[0m     )\n\u001b[1;32m    201\u001b[0m \u001b[38;5;28;01melse\u001b[39;00m:\n\u001b[1;32m    202\u001b[0m     resolver \u001b[38;5;241m=\u001b[39m Resolver()\n",
      "\u001b[0;31mExecutionError\u001b[0m: Object has not been hydrated and doesn't support lazy hydration. This might happen if an object is defined on a different stub, or if it's on the same stub but it didn't get created because it wasn't defined in global scope."
     ]
    }
   ],
   "source": [
    "from src.download_weights import main\n",
    "\n",
    "main(\"out_model\", model_dir=\"data_sql\")"
   ]
  },
  {
   "cell_type": "code",
   "execution_count": 14,
   "id": "16b0712d-f021-46d3-9de2-754b114c695f",
   "metadata": {},
   "outputs": [
    {
     "name": "stdout",
     "output_type": "stream",
     "text": [
      "\u001b[3m                           Shared Volumes                            \u001b[0m\n",
      "┏━━━━━━━━━━━━━━━┳━━━━━━━━━━━━━━━━┳━━━━━━━━━━━━━━━━━━━━━━━━━━━━━━━━━━┓\n",
      "┃\u001b[1m \u001b[0m\u001b[1mName         \u001b[0m\u001b[1m \u001b[0m┃\u001b[1m \u001b[0m\u001b[1mLocation      \u001b[0m\u001b[1m \u001b[0m┃\u001b[1m \u001b[0m\u001b[1mCreated at                      \u001b[0m\u001b[1m \u001b[0m┃\n",
      "┡━━━━━━━━━━━━━━━╇━━━━━━━━━━━━━━━━╇━━━━━━━━━━━━━━━━━━━━━━━━━━━━━━━━━━┩\n",
      "│ doppelbot-vol │ GCP (us-east1) │ 2023-11-27 14:17:46.268469+08:00 │\n",
      "└───────────────┴────────────────┴──────────────────────────────────┘\n"
     ]
    }
   ],
   "source": [
    "!modal nfs list"
   ]
  },
  {
   "cell_type": "code",
   "execution_count": 2,
   "id": "62d2f2e4-bf8a-418c-9776-daf46f24a8d2",
   "metadata": {},
   "outputs": [],
   "source": [
    "from modal import Image, Stub, NetworkFileSystem, Dict\n",
    "from pathlib import Path\n",
    "from typing import Optional\n",
    "\n",
    "def download_models():\n",
    "    from transformers import LlamaForCausalLM, LlamaTokenizer\n",
    "    #\n",
    "    # # model_name = \"openlm-research/open_llama_7b_v2\"\n",
    "    # from transformers import AutoModelForCausalLM, AutoTokenizer\n",
    "    model_name = \"FlagAlpha/Atom-7B\"\n",
    "\n",
    "    # model = LlamaForCausalLM.from_pretrained(model_name)\n",
    "    model = LlamaForCausalLM.from_pretrained(model_name)\n",
    "    model.save_pretrained(MODEL_PATH)\n",
    "\n",
    "    # tokenizer = LlamaTokenizer.from_pretrained(model_name)\n",
    "    tokenizer = LlamaTokenizer.from_pretrained(model_name)\n",
    "    tokenizer.save_pretrained(MODEL_PATH)\n",
    "\n",
    "openllama_image = (\n",
    "    Image.micromamba()\n",
    "    .micromamba_install(\n",
    "        \"cudatoolkit=11.7\",\n",
    "        \"cudnn=8.1.0\",\n",
    "        \"cuda-nvcc\",\n",
    "        channels=[\"conda-forge\", \"nvidia\"],\n",
    "    )\n",
    "    .apt_install(\"git\")\n",
    "    .pip_install(\n",
    "        \"accelerate==0.18.0\",\n",
    "        \"bitsandbytes==0.37.0\",\n",
    "        \"bitsandbytes-cuda117==0.26.0.post2\",\n",
    "        \"datasets==2.15.0\",  # try to fix a bug in datasets\n",
    "        \"fire==0.5.0\",\n",
    "        \"gradio==3.23.0\",\n",
    "        \"peft @ git+https://github.com/huggingface/peft.git@e536616888d51b453ed354a6f1e243fecb02ea08\",\n",
    "        \"transformers @ git+https://github.com/huggingface/transformers.git@a92e0ad2e20ef4ce28410b5e05c5d63a5a304e65\",\n",
    "        \"torch==2.0.0\",\n",
    "        \"torchvision==0.15.1\",\n",
    "        \"sentencepiece==0.1.97\",\n",
    "        \"llama-index\",  # try to fix a bug in llama-index\n",
    "        \"sentence-transformers\",\n",
    "        \"pydantic\",  # replace x.y.z with the correct version\n",
    "        \"openai==0.28.0\",  # add this to fix a bug in llama-index\n",
    "        \"langchain\"  # add this to fix a bug in llama-index\n",
    "    )\n",
    "    .run_function(download_models)\n",
    "    .pip_install(\"wandb==0.15.0\")\n",
    ")\n",
    "\n",
    "stub = Stub(name=\"sql-finetune-bot\", image=openllama_image)\n",
    "stub.model_dict = Dict.new()\n",
    "stub.data_dict = Dict.new()\n",
    "\n",
    "output_vol = NetworkFileSystem.new(cloud=\"gcp\").persisted(\"doppelbot-vol\")\n",
    "VOL_MOUNT_PATH = Path(\"/vol\")\n",
    "\n",
    "def get_model_path(data_dir: str = \"data_sql\", checkpoint: Optional[str] = None) -> Path:\n",
    "    path = VOL_MOUNT_PATH / data_dir\n",
    "    if checkpoint:\n",
    "        path = path / checkpoint\n",
    "    return path\n",
    "\n",
    "@stub.function(\n",
    "    network_file_systems={VOL_MOUNT_PATH.as_posix(): output_vol},\n",
    "    cloud=\"gcp\"\n",
    ")\n",
    "def load_model(model_dir: str = \"data_sql\"):\n",
    "    \"\"\"Load model.\"\"\"\n",
    "    path = get_model_path(model_dir=model_dir)\n",
    "    config_path = path / \"adapter_config.json\"\n",
    "    model_path = path / \"adapter_model.bin\"\n",
    "\n",
    "    config_data = json.load(open(config_path))\n",
    "    with open(model_path, \"rb\") as f:\n",
    "        model_data = f.read()\n",
    "\n",
    "        print(f'loaded config, model data from {path}')\n",
    "\n",
    "        # read data, put this in `model_dict` on stub\n",
    "        stub.model_dict[\"config\"] = config_data\n",
    "        stub.model_dict[\"model\"] = model_data\n",
    "\n",
    "@stub.local_entrypoint()\n",
    "def main(output_dir: str, model_dir: str = \"data_sql\"):\n",
    "    # copy adapter_config.json and adapter_model.bin files into dict\n",
    "    load_model.remote(model_dir=model_dir)\n",
    "    model_data = stub.model_dict[\"model\"]\n",
    "    config_data = stub.model_dict[\"config\"]\n",
    "\n",
    "    print(f\"Loaded model data, storing in {output_dir}\")\n",
    "    \n",
    "    # store locally\n",
    "    if not os.path.exists(output_dir):\n",
    "        os.makedirs(output_dir)\n",
    "    \n",
    "    out_model_path = Path(output_dir) / \"adapter_model.bin\"\n",
    "    out_config_path = Path(output_dir) / \"adapter_config.json\"\n",
    "\n",
    "    with open(out_model_path, \"wb\") as f:\n",
    "        f.write(model_data)\n",
    "    \n",
    "    with open(out_config_path, \"w\") as f:\n",
    "        json.dump(config_data, f)\n",
    "    \n",
    "    print(\"Done!\")"
   ]
  },
  {
   "cell_type": "code",
   "execution_count": null,
   "id": "89579dd4e6def74e",
   "metadata": {
    "collapsed": false,
    "jupyter": {
     "outputs_hidden": false
    }
   },
   "outputs": [],
   "source": [
    "from huggingface_hub import Repository\n",
    "\n",
    "def upload_model_to_huggingface(model_dir: str, model_id: str):\n",
    "    repo = Repository(local_dir=model_dir, clone_from=model_id)\n",
    "    repo.push_to_hub()\n",
    "\n",
    "# 使用您的 Hugging Face 用户名和模型名称替换 \"your-username/your-model-name\"\n",
    "upload_model_to_huggingface(\"data_sql\", \"jtjt520j/test_atom_7B_text_to_sql\")"
   ]
  }
 ],
 "metadata": {
  "accelerator": "GPU",
  "colab": {
   "gpuType": "T4",
   "provenance": []
  },
  "kernelspec": {
   "display_name": "Python 3 (ipykernel)",
   "language": "python",
   "name": "python3"
  },
  "language_info": {
   "codemirror_mode": {
    "name": "ipython",
    "version": 3
   },
   "file_extension": ".py",
   "mimetype": "text/x-python",
   "name": "python",
   "nbconvert_exporter": "python",
   "pygments_lexer": "ipython3",
   "version": "3.8.10"
  }
 },
 "nbformat": 4,
 "nbformat_minor": 5
}
