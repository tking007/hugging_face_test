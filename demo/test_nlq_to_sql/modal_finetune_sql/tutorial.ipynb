{
 "cells": [
  {
   "cell_type": "code",
   "execution_count": 2,
   "id": "83695073acf0b5a2",
   "metadata": {
    "collapsed": false,
    "ExecuteTime": {
     "end_time": "2023-12-01T14:35:47.339906700Z",
     "start_time": "2023-12-01T14:35:43.769589400Z"
    }
   },
   "outputs": [
    {
     "name": "stdout",
     "output_type": "stream",
     "text": [
      "Verifying token against https://api.modal.com\n",
      "Token verified successfully\n",
      "Token written to C:\\Users\\Destiny/.modal.toml\n"
     ]
    }
   ],
   "source": [
    "!modal token set --token-id ak-uYihUyljHUMHQvSuKHjxDL --token-secret as-PNcBevbbT2feBCxTHYSjsK"
   ]
  },
  {
   "cell_type": "code",
   "execution_count": null,
   "id": "a93ad6fe5af7629e",
   "metadata": {
    "collapsed": false
   },
   "outputs": [],
   "source": [
    "# gpu_info = !nvidia-smi\n",
    "# gpu_info = '\\n'.join(gpu_info)\n",
    "# if gpu_info.find('failed') >= 0:\n",
    "#   print('Not connected to a GPU')\n",
    "# else:\n",
    "#   print(gpu_info)"
   ]
  },
  {
   "cell_type": "code",
   "execution_count": null,
   "id": "deb41fd1c4526a6d",
   "metadata": {
    "collapsed": false
   },
   "outputs": [],
   "source": [
    "# from google.colab import drive\n",
    "# drive.mount('/content/drive')"
   ]
  },
  {
   "cell_type": "code",
   "execution_count": null,
   "id": "80697aeb2fc32ee1",
   "metadata": {
    "collapsed": false
   },
   "outputs": [],
   "source": [
    "# # 更改当前的工作目录到您的项目目录\n",
    "# import os\n",
    "# os.chdir('/content/drive/MyDrive/modal_finetune_sql')"
   ]
  },
  {
   "cell_type": "markdown",
   "id": "6b21b382c90d6fb9",
   "metadata": {
    "collapsed": false
   },
   "source": [
    "# Finetuning LLaMa + Text-to-SQL\n",
    "\n",
    "This walkthrough shows you how to fine-tune LLaMa-7B on a Text-to-SQL dataset, and then use it for inference against\n",
    "any database of structured data using LlamaIndex.\n",
    "\n",
    "**NOTE**: This code is taken and adapted from Modal's `doppel-bot` repo: https://github.com/modal-labs/doppel-bot.\n",
    "**NOTE**: A lot of the code is contained in the underlying Python scripts in the `src` directory. We definitely encourage you to go and take a look!"
   ]
  },
  {
   "cell_type": "markdown",
   "id": "7bd351afb864ab12",
   "metadata": {
    "collapsed": false
   },
   "source": [
    "### Setup\n",
    "\n",
    "NOTE: you will need to setup a Modal account + token in order to use this notebook."
   ]
  },
  {
   "cell_type": "code",
   "execution_count": 6,
   "id": "5b9b3ef15acbb34b",
   "metadata": {
    "collapsed": false,
    "ExecuteTime": {
     "end_time": "2023-12-02T03:38:31.697293400Z",
     "start_time": "2023-12-02T03:38:26.083159800Z"
    }
   },
   "outputs": [
    {
     "name": "stdout",
     "output_type": "stream",
     "text": [
      "Looking in indexes: https://pypi.tuna.tsinghua.edu.cn/simple\n",
      "Requirement already satisfied: modal-client in e:\\python\\lib\\site-packages (from -r requirements.txt (line 1)) (0.55.4164)\n",
      "Requirement already satisfied: llama-index==0.8.2.post1 in e:\\python\\lib\\site-packages (from -r requirements.txt (line 2)) (0.8.2.post1)\n",
      "Requirement already satisfied: datasets>=2.15.0 in e:\\python\\lib\\site-packages (from -r requirements.txt (line 3)) (2.15.0)\n",
      "Requirement already satisfied: peft in e:\\python\\lib\\site-packages (from -r requirements.txt (line 4)) (0.6.2)\n",
      "Requirement already satisfied: tiktoken in e:\\python\\lib\\site-packages (from llama-index==0.8.2.post1->-r requirements.txt (line 2)) (0.5.1)\n",
      "Requirement already satisfied: dataclasses-json in e:\\python\\lib\\site-packages (from llama-index==0.8.2.post1->-r requirements.txt (line 2)) (0.6.3)\n",
      "Requirement already satisfied: langchain>=0.0.262 in e:\\python\\lib\\site-packages (from llama-index==0.8.2.post1->-r requirements.txt (line 2)) (0.0.344)\n",
      "Requirement already satisfied: sqlalchemy>=2.0.15 in e:\\python\\lib\\site-packages (from llama-index==0.8.2.post1->-r requirements.txt (line 2)) (2.0.23)\n",
      "Requirement already satisfied: numpy in e:\\python\\lib\\site-packages (from llama-index==0.8.2.post1->-r requirements.txt (line 2)) (1.23.4)\n",
      "Requirement already satisfied: tenacity<9.0.0,>=8.2.0 in e:\\python\\lib\\site-packages (from llama-index==0.8.2.post1->-r requirements.txt (line 2)) (8.2.3)\n",
      "Requirement already satisfied: openai>=0.26.4 in c:\\users\\destiny\\appdata\\roaming\\python\\python310\\site-packages (from llama-index==0.8.2.post1->-r requirements.txt (line 2)) (0.27.2)\n",
      "Requirement already satisfied: pandas in e:\\python\\lib\\site-packages (from llama-index==0.8.2.post1->-r requirements.txt (line 2)) (1.5.1)\n",
      "Requirement already satisfied: urllib3<2 in e:\\python\\lib\\site-packages (from llama-index==0.8.2.post1->-r requirements.txt (line 2)) (1.26.12)\n",
      "Requirement already satisfied: fsspec>=2023.5.0 in e:\\python\\lib\\site-packages (from llama-index==0.8.2.post1->-r requirements.txt (line 2)) (2023.10.0)\n",
      "Requirement already satisfied: typing-inspect>=0.8.0 in e:\\python\\lib\\site-packages (from llama-index==0.8.2.post1->-r requirements.txt (line 2)) (0.9.0)\n",
      "Requirement already satisfied: typing-extensions>=4.5.0 in e:\\python\\lib\\site-packages (from llama-index==0.8.2.post1->-r requirements.txt (line 2)) (4.8.0)\n",
      "Requirement already satisfied: beautifulsoup4 in e:\\python\\lib\\site-packages (from llama-index==0.8.2.post1->-r requirements.txt (line 2)) (4.11.1)\n",
      "Requirement already satisfied: nest-asyncio in e:\\python\\lib\\site-packages (from llama-index==0.8.2.post1->-r requirements.txt (line 2)) (1.5.8)\n",
      "Requirement already satisfied: modal==0.55.4164 in e:\\python\\lib\\site-packages (from modal-client->-r requirements.txt (line 1)) (0.55.4164)\n",
      "Requirement already satisfied: aiohttp in c:\\users\\destiny\\appdata\\roaming\\python\\python310\\site-packages (from modal==0.55.4164->modal-client->-r requirements.txt (line 1)) (3.8.4)\n",
      "Requirement already satisfied: aiostream in e:\\python\\lib\\site-packages (from modal==0.55.4164->modal-client->-r requirements.txt (line 1)) (0.5.2)\n",
      "Requirement already satisfied: asgiref in e:\\python\\lib\\site-packages (from modal==0.55.4164->modal-client->-r requirements.txt (line 1)) (3.7.2)\n",
      "Requirement already satisfied: certifi in e:\\python\\lib\\site-packages (from modal==0.55.4164->modal-client->-r requirements.txt (line 1)) (2022.9.24)\n",
      "Requirement already satisfied: click>=8.1.0 in e:\\python\\lib\\site-packages (from modal==0.55.4164->modal-client->-r requirements.txt (line 1)) (8.1.3)\n",
      "Requirement already satisfied: fastapi in e:\\python\\lib\\site-packages (from modal==0.55.4164->modal-client->-r requirements.txt (line 1)) (0.104.1)\n",
      "Requirement already satisfied: grpclib==0.4.3 in e:\\python\\lib\\site-packages (from modal==0.55.4164->modal-client->-r requirements.txt (line 1)) (0.4.3)\n",
      "Requirement already satisfied: importlib-metadata>=3.6.0 in e:\\python\\lib\\site-packages (from modal==0.55.4164->modal-client->-r requirements.txt (line 1)) (6.8.0)\n",
      "Requirement already satisfied: protobuf!=4.24.0,<5.0,>=3.19 in e:\\python\\lib\\site-packages (from modal==0.55.4164->modal-client->-r requirements.txt (line 1)) (4.25.1)\n",
      "Requirement already satisfied: rich>=12.0.0 in e:\\python\\lib\\site-packages (from modal==0.55.4164->modal-client->-r requirements.txt (line 1)) (13.7.0)\n",
      "Requirement already satisfied: synchronicity~=0.5.3 in e:\\python\\lib\\site-packages (from modal==0.55.4164->modal-client->-r requirements.txt (line 1)) (0.5.3)\n",
      "Requirement already satisfied: tblib>=1.7.0 in e:\\python\\lib\\site-packages (from modal==0.55.4164->modal-client->-r requirements.txt (line 1)) (3.0.0)\n",
      "Requirement already satisfied: toml in e:\\python\\lib\\site-packages (from modal==0.55.4164->modal-client->-r requirements.txt (line 1)) (0.10.2)\n",
      "Requirement already satisfied: typer~=0.9.0 in e:\\python\\lib\\site-packages (from modal==0.55.4164->modal-client->-r requirements.txt (line 1)) (0.9.0)\n",
      "Requirement already satisfied: types-certifi in e:\\python\\lib\\site-packages (from modal==0.55.4164->modal-client->-r requirements.txt (line 1)) (2021.10.8.3)\n",
      "Requirement already satisfied: types-toml in e:\\python\\lib\\site-packages (from modal==0.55.4164->modal-client->-r requirements.txt (line 1)) (0.10.8.7)\n",
      "Requirement already satisfied: watchfiles in e:\\python\\lib\\site-packages (from modal==0.55.4164->modal-client->-r requirements.txt (line 1)) (0.21.0)\n",
      "Requirement already satisfied: cloudpickle<2.1.0,>=2.0.0 in e:\\python\\lib\\site-packages (from modal==0.55.4164->modal-client->-r requirements.txt (line 1)) (2.0.0)\n",
      "Requirement already satisfied: h2<5,>=3.1.0 in e:\\python\\lib\\site-packages (from grpclib==0.4.3->modal==0.55.4164->modal-client->-r requirements.txt (line 1)) (4.1.0)\n",
      "Requirement already satisfied: multidict in c:\\users\\destiny\\appdata\\roaming\\python\\python310\\site-packages (from grpclib==0.4.3->modal==0.55.4164->modal-client->-r requirements.txt (line 1)) (6.0.4)\n",
      "Requirement already satisfied: pyarrow>=8.0.0 in e:\\python\\lib\\site-packages (from datasets>=2.15.0->-r requirements.txt (line 3)) (14.0.1)\n",
      "Requirement already satisfied: pyarrow-hotfix in e:\\python\\lib\\site-packages (from datasets>=2.15.0->-r requirements.txt (line 3)) (0.6)\n",
      "Requirement already satisfied: dill<0.3.8,>=0.3.0 in e:\\python\\lib\\site-packages (from datasets>=2.15.0->-r requirements.txt (line 3)) (0.3.7)\n",
      "Requirement already satisfied: requests>=2.19.0 in e:\\python\\lib\\site-packages (from datasets>=2.15.0->-r requirements.txt (line 3)) (2.31.0)\n",
      "Requirement already satisfied: tqdm>=4.62.1 in e:\\python\\lib\\site-packages (from datasets>=2.15.0->-r requirements.txt (line 3)) (4.66.1)\n",
      "Requirement already satisfied: xxhash in e:\\python\\lib\\site-packages (from datasets>=2.15.0->-r requirements.txt (line 3)) (3.4.1)\n",
      "Requirement already satisfied: multiprocess in e:\\python\\lib\\site-packages (from datasets>=2.15.0->-r requirements.txt (line 3)) (0.70.15)\n",
      "Requirement already satisfied: huggingface-hub>=0.18.0 in e:\\python\\lib\\site-packages (from datasets>=2.15.0->-r requirements.txt (line 3)) (0.19.4)\n",
      "Requirement already satisfied: packaging in e:\\python\\lib\\site-packages (from datasets>=2.15.0->-r requirements.txt (line 3)) (21.3)\n",
      "Requirement already satisfied: pyyaml>=5.1 in e:\\python\\lib\\site-packages (from datasets>=2.15.0->-r requirements.txt (line 3)) (6.0.1)\n",
      "Requirement already satisfied: psutil in e:\\python\\lib\\site-packages (from peft->-r requirements.txt (line 4)) (5.9.6)\n",
      "Requirement already satisfied: torch>=1.13.0 in e:\\python\\lib\\site-packages (from peft->-r requirements.txt (line 4)) (2.0.1)\n",
      "Requirement already satisfied: transformers in e:\\python\\lib\\site-packages (from peft->-r requirements.txt (line 4)) (4.35.2)\n",
      "Requirement already satisfied: accelerate>=0.21.0 in e:\\python\\lib\\site-packages (from peft->-r requirements.txt (line 4)) (0.24.1)\n",
      "Requirement already satisfied: safetensors in e:\\python\\lib\\site-packages (from peft->-r requirements.txt (line 4)) (0.4.0)\n",
      "Requirement already satisfied: attrs>=17.3.0 in e:\\python\\lib\\site-packages (from aiohttp->modal==0.55.4164->modal-client->-r requirements.txt (line 1)) (23.1.0)\n",
      "Requirement already satisfied: charset-normalizer<4.0,>=2.0 in e:\\python\\lib\\site-packages (from aiohttp->modal==0.55.4164->modal-client->-r requirements.txt (line 1)) (2.1.1)\n",
      "Requirement already satisfied: async-timeout<5.0,>=4.0.0a3 in c:\\users\\destiny\\appdata\\roaming\\python\\python310\\site-packages (from aiohttp->modal==0.55.4164->modal-client->-r requirements.txt (line 1)) (4.0.2)\n",
      "Requirement already satisfied: yarl<2.0,>=1.0 in c:\\users\\destiny\\appdata\\roaming\\python\\python310\\site-packages (from aiohttp->modal==0.55.4164->modal-client->-r requirements.txt (line 1)) (1.8.2)\n",
      "Requirement already satisfied: frozenlist>=1.1.1 in c:\\users\\destiny\\appdata\\roaming\\python\\python310\\site-packages (from aiohttp->modal==0.55.4164->modal-client->-r requirements.txt (line 1)) (1.3.3)\n",
      "Requirement already satisfied: aiosignal>=1.1.2 in c:\\users\\destiny\\appdata\\roaming\\python\\python310\\site-packages (from aiohttp->modal==0.55.4164->modal-client->-r requirements.txt (line 1)) (1.3.1)\n",
      "Requirement already satisfied: filelock in e:\\python\\lib\\site-packages (from huggingface-hub>=0.18.0->datasets>=2.15.0->-r requirements.txt (line 3)) (3.8.0)\n",
      "Requirement already satisfied: anyio<4.0 in e:\\python\\lib\\site-packages (from langchain>=0.0.262->llama-index==0.8.2.post1->-r requirements.txt (line 2)) (3.7.1)\n",
      "Requirement already satisfied: jsonpatch<2.0,>=1.33 in e:\\python\\lib\\site-packages (from langchain>=0.0.262->llama-index==0.8.2.post1->-r requirements.txt (line 2)) (1.33)\n",
      "Requirement already satisfied: langchain-core<0.1,>=0.0.8 in e:\\python\\lib\\site-packages (from langchain>=0.0.262->llama-index==0.8.2.post1->-r requirements.txt (line 2)) (0.0.8)\n",
      "Requirement already satisfied: langsmith<0.1.0,>=0.0.63 in e:\\python\\lib\\site-packages (from langchain>=0.0.262->llama-index==0.8.2.post1->-r requirements.txt (line 2)) (0.0.67)\n",
      "Requirement already satisfied: pydantic<3,>=1 in e:\\python\\lib\\site-packages (from langchain>=0.0.262->llama-index==0.8.2.post1->-r requirements.txt (line 2)) (2.3.0)\n",
      "Requirement already satisfied: marshmallow<4.0.0,>=3.18.0 in e:\\python\\lib\\site-packages (from dataclasses-json->llama-index==0.8.2.post1->-r requirements.txt (line 2)) (3.20.1)\n",
      "Requirement already satisfied: pyparsing!=3.0.5,>=2.0.2 in e:\\python\\lib\\site-packages (from packaging->datasets>=2.15.0->-r requirements.txt (line 3)) (3.0.9)\n",
      "Requirement already satisfied: idna<4,>=2.5 in e:\\python\\lib\\site-packages (from requests>=2.19.0->datasets>=2.15.0->-r requirements.txt (line 3)) (3.4)\n",
      "Requirement already satisfied: greenlet!=0.4.17 in e:\\python\\lib\\site-packages (from sqlalchemy>=2.0.15->llama-index==0.8.2.post1->-r requirements.txt (line 2)) (2.0.1)\n",
      "Requirement already satisfied: sympy in e:\\python\\lib\\site-packages (from torch>=1.13.0->peft->-r requirements.txt (line 4)) (1.12)\n",
      "Requirement already satisfied: networkx in c:\\users\\destiny\\appdata\\roaming\\python\\python310\\site-packages (from torch>=1.13.0->peft->-r requirements.txt (line 4)) (3.0)\n",
      "Requirement already satisfied: jinja2 in e:\\python\\lib\\site-packages (from torch>=1.13.0->peft->-r requirements.txt (line 4)) (3.1.2)\n",
      "Requirement already satisfied: colorama in e:\\python\\lib\\site-packages (from tqdm>=4.62.1->datasets>=2.15.0->-r requirements.txt (line 3)) (0.4.6)\n",
      "Requirement already satisfied: mypy-extensions>=0.3.0 in e:\\python\\lib\\site-packages (from typing-inspect>=0.8.0->llama-index==0.8.2.post1->-r requirements.txt (line 2)) (1.0.0)\n",
      "Requirement already satisfied: soupsieve>1.2 in e:\\python\\lib\\site-packages (from beautifulsoup4->llama-index==0.8.2.post1->-r requirements.txt (line 2)) (2.3.2.post1)\n",
      "Requirement already satisfied: python-dateutil>=2.8.1 in e:\\python\\lib\\site-packages (from pandas->llama-index==0.8.2.post1->-r requirements.txt (line 2)) (2.8.2)\n",
      "Requirement already satisfied: pytz>=2020.1 in e:\\python\\lib\\site-packages (from pandas->llama-index==0.8.2.post1->-r requirements.txt (line 2)) (2022.6)\n",
      "Requirement already satisfied: regex>=2022.1.18 in e:\\python\\lib\\site-packages (from tiktoken->llama-index==0.8.2.post1->-r requirements.txt (line 2)) (2022.10.31)\n",
      "Requirement already satisfied: tokenizers<0.19,>=0.14 in e:\\python\\lib\\site-packages (from transformers->peft->-r requirements.txt (line 4)) (0.15.0)\n",
      "Requirement already satisfied: sniffio>=1.1 in e:\\python\\lib\\site-packages (from anyio<4.0->langchain>=0.0.262->llama-index==0.8.2.post1->-r requirements.txt (line 2)) (1.3.0)\n",
      "Requirement already satisfied: exceptiongroup in e:\\python\\lib\\site-packages (from anyio<4.0->langchain>=0.0.262->llama-index==0.8.2.post1->-r requirements.txt (line 2)) (1.0.4)\n",
      "Requirement already satisfied: zipp>=0.5 in e:\\python\\lib\\site-packages (from importlib-metadata>=3.6.0->modal==0.55.4164->modal-client->-r requirements.txt (line 1)) (3.17.0)\n",
      "Requirement already satisfied: jsonpointer>=1.9 in e:\\python\\lib\\site-packages (from jsonpatch<2.0,>=1.33->langchain>=0.0.262->llama-index==0.8.2.post1->-r requirements.txt (line 2)) (2.4)\n",
      "Requirement already satisfied: annotated-types>=0.4.0 in e:\\python\\lib\\site-packages (from pydantic<3,>=1->langchain>=0.0.262->llama-index==0.8.2.post1->-r requirements.txt (line 2)) (0.5.0)\n",
      "Requirement already satisfied: pydantic-core==2.6.3 in e:\\python\\lib\\site-packages (from pydantic<3,>=1->langchain>=0.0.262->llama-index==0.8.2.post1->-r requirements.txt (line 2)) (2.6.3)\n",
      "Requirement already satisfied: six>=1.5 in e:\\python\\lib\\site-packages (from python-dateutil>=2.8.1->pandas->llama-index==0.8.2.post1->-r requirements.txt (line 2)) (1.16.0)\n",
      "Requirement already satisfied: markdown-it-py>=2.2.0 in e:\\python\\lib\\site-packages (from rich>=12.0.0->modal==0.55.4164->modal-client->-r requirements.txt (line 1)) (3.0.0)\n",
      "Requirement already satisfied: pygments<3.0.0,>=2.13.0 in e:\\python\\lib\\site-packages (from rich>=12.0.0->modal==0.55.4164->modal-client->-r requirements.txt (line 1)) (2.13.0)\n",
      "Requirement already satisfied: sigtools==4.0.1 in e:\\python\\lib\\site-packages (from synchronicity~=0.5.3->modal==0.55.4164->modal-client->-r requirements.txt (line 1)) (4.0.1)\n",
      "Requirement already satisfied: starlette<0.28.0,>=0.27.0 in e:\\python\\lib\\site-packages (from fastapi->modal==0.55.4164->modal-client->-r requirements.txt (line 1)) (0.27.0)\n",
      "Requirement already satisfied: MarkupSafe>=2.0 in e:\\python\\lib\\site-packages (from jinja2->torch>=1.13.0->peft->-r requirements.txt (line 4)) (2.1.1)\n",
      "Requirement already satisfied: mpmath>=0.19 in e:\\python\\lib\\site-packages (from sympy->torch>=1.13.0->peft->-r requirements.txt (line 4)) (1.3.0)\n",
      "Requirement already satisfied: hyperframe<7,>=6.0 in e:\\python\\lib\\site-packages (from h2<5,>=3.1.0->grpclib==0.4.3->modal==0.55.4164->modal-client->-r requirements.txt (line 1)) (6.0.1)\n",
      "Requirement already satisfied: hpack<5,>=4.0 in e:\\python\\lib\\site-packages (from h2<5,>=3.1.0->grpclib==0.4.3->modal==0.55.4164->modal-client->-r requirements.txt (line 1)) (4.0.0)\n",
      "Requirement already satisfied: mdurl~=0.1 in e:\\python\\lib\\site-packages (from markdown-it-py>=2.2.0->rich>=12.0.0->modal==0.55.4164->modal-client->-r requirements.txt (line 1)) (0.1.2)\n"
     ]
    },
    {
     "name": "stderr",
     "output_type": "stream",
     "text": [
      "\n",
      "[notice] A new release of pip is available: 23.2.1 -> 23.3.1\n",
      "[notice] To update, run: E:\\python\\python.exe -m pip install --upgrade pip\n"
     ]
    }
   ],
   "source": [
    "!pip install -r requirements.txt"
   ]
  },
  {
   "cell_type": "markdown",
   "id": "ca48bd0f03e6da91",
   "metadata": {
    "collapsed": false
   },
   "source": [
    "### Load Training Data for Finetuning LLaMa\n",
    "\n",
    "We load data from `b-mc2/sql-create-context` on Hugging Face: https://huggingface.co/datasets/b-mc2/sql-create-context.\n",
    "\n",
    "This dataset consists of tuples of natural language queries, create table statements, and ground-truth SQL queries. This is the dataset that we use to finetune our SQL model."
   ]
  },
  {
   "cell_type": "code",
   "execution_count": 5,
   "id": "3130637072fdba2c",
   "metadata": {
    "collapsed": false,
    "ExecuteTime": {
     "end_time": "2023-12-02T03:38:16.274603900Z",
     "start_time": "2023-12-02T03:38:10.924580200Z"
    }
   },
   "outputs": [
    {
     "name": "stdout",
     "output_type": "stream",
     "text": [
      "- Initializing...\n"
     ]
    },
    {
     "name": "stderr",
     "output_type": "stream",
     "text": [
      "+--------------------- Traceback (most recent call last) ---------------------+\n",
      "| E:\\python\\lib\\runpy.py:196 in _run_module_as_main                           |\n",
      "|                                                                             |\n",
      "|   195         sys.argv[0] = mod_spec.origin                                 |\n",
      "| > 196     return _run_code(code, main_globals, None,                        |\n",
      "|   197                      \"__main__\", mod_spec)                            |\n",
      "|                                                                             |\n",
      "| E:\\python\\lib\\runpy.py:86 in _run_code                                      |\n",
      "|                                                                             |\n",
      "|    85                        __spec__ = mod_spec)                           |\n",
      "| >  86     exec(code, run_globals)                                           |\n",
      "|    87     return run_globals                                                |\n",
      "|                                                                             |\n",
      "| E:\\python\\Scripts\\modal.exe\\__main__.py:7 in <module>                       |\n",
      "|                                                                             |\n",
      "|                                                                             |\n",
      "| E:\\python\\lib\\site-packages\\modal\\__main__.py:9 in main                     |\n",
      "|                                                                             |\n",
      "|    8     setup_rich_traceback()                                             |\n",
      "| >  9     entrypoint_cli()                                                   |\n",
      "|   10                                                                        |\n",
      "|                                                                             |\n",
      "| E:\\python\\lib\\site-packages\\click\\core.py:1130 in __call__                  |\n",
      "|                                                                             |\n",
      "|   1129         \"\"\"Alias for :meth:`main`.\"\"\"                                |\n",
      "| > 1130         return self.main(*args, **kwargs)                            |\n",
      "|   1131                                                                      |\n",
      "|                                                                             |\n",
      "| E:\\python\\lib\\site-packages\\typer\\core.py:778 in main                       |\n",
      "|                                                                             |\n",
      "|   777     ) -> Any:                                                         |\n",
      "| > 778         return _main(                                                 |\n",
      "|   779             self,                                                     |\n",
      "|                                                                             |\n",
      "| E:\\python\\lib\\site-packages\\typer\\core.py:216 in _main                      |\n",
      "|                                                                             |\n",
      "|   215             with self.make_context(prog_name, args, **extra) as ctx:  |\n",
      "| > 216                 rv = self.invoke(ctx)                                 |\n",
      "|   217                 if not standalone_mode:                               |\n",
      "|                                                                             |\n",
      "| E:\\python\\lib\\site-packages\\click\\core.py:1657 in invoke                    |\n",
      "|                                                                             |\n",
      "|   1656                 with sub_ctx:                                        |\n",
      "| > 1657                     return _process_result(sub_ctx.command.invoke(su |\n",
      "|   1658                                                                      |\n",
      "|                                                                             |\n",
      "| E:\\python\\lib\\site-packages\\click\\core.py:1657 in invoke                    |\n",
      "|                                                                             |\n",
      "|   1656                 with sub_ctx:                                        |\n",
      "| > 1657                     return _process_result(sub_ctx.command.invoke(su |\n",
      "|   1658                                                                      |\n",
      "|                                                                             |\n",
      "| E:\\python\\lib\\site-packages\\click\\core.py:1404 in invoke                    |\n",
      "|                                                                             |\n",
      "|   1403         if self.callback is not None:                                |\n",
      "| > 1404             return ctx.invoke(self.callback, **ctx.params)           |\n",
      "|   1405                                                                      |\n",
      "|                                                                             |\n",
      "| E:\\python\\lib\\site-packages\\click\\core.py:760 in invoke                     |\n",
      "|                                                                             |\n",
      "|    759             with ctx:                                                |\n",
      "| >  760                 return __callback(*args, **kwargs)                   |\n",
      "|    761                                                                      |\n",
      "|                                                                             |\n",
      "| E:\\python\\lib\\site-packages\\click\\decorators.py:26 in new_func              |\n",
      "|                                                                             |\n",
      "|    25     def new_func(*args, **kwargs):  # type: ignore                    |\n",
      "| >  26         return f(get_current_context(), *args, **kwargs)              |\n",
      "|    27                                                                       |\n",
      "|                                                                             |\n",
      "| E:\\python\\lib\\site-packages\\modal\\cli\\run.py:114 in f                       |\n",
      "|                                                                             |\n",
      "|   113     def f(ctx, **kwargs):                                             |\n",
      "| > 114         with run_stub(                                                |\n",
      "|   115             stub,                                                     |\n",
      "|                                                                             |\n",
      "| E:\\python\\lib\\site-packages\\synchronicity\\synchronizer.py:497 in            |\n",
      "| proxy_method                                                                |\n",
      "|                                                                             |\n",
      "| E:\\python\\lib\\site-packages\\synchronicity\\combined_types.py:26 in __call__  |\n",
      "|                                                                             |\n",
      "| E:\\python\\lib\\contextlib.py:199 in __aenter__                               |\n",
      "|                                                                             |\n",
      "|   198         try:                                                          |\n",
      "| > 199             return await anext(self.gen)                              |\n",
      "|   200         except StopAsyncIteration:                                    |\n",
      "|                                                                             |\n",
      "| E:\\python\\lib\\site-packages\\modal\\runner.py:83 in _run_stub                 |\n",
      "|                                                                             |\n",
      "|    82                                                                       |\n",
      "| >  83         with output_mgr.ctx_if_visible(output_mgr.make_live(step_prog |\n",
      "|    84             initialized_msg = f\"Initialized. [grey70]View run at [und |\n",
      "|                                                                             |\n",
      "| E:\\python\\lib\\site-packages\\rich\\live.py:175 in __exit__                    |\n",
      "|                                                                             |\n",
      "|   174     ) -> None:                                                        |\n",
      "| > 175         self.stop()                                                   |\n",
      "|   176                                                                       |\n",
      "|                                                                             |\n",
      "| E:\\python\\lib\\site-packages\\rich\\live.py:147 in stop                        |\n",
      "|                                                                             |\n",
      "|   146             self.vertical_overflow = \"visible\"                        |\n",
      "| > 147             with self.console:                                        |\n",
      "|   148                 try:                                                  |\n",
      "|                                                                             |\n",
      "| E:\\python\\lib\\site-packages\\rich\\console.py:865 in __exit__                 |\n",
      "|                                                                             |\n",
      "|    864         \"\"\"Exit buffer context.\"\"\"                                   |\n",
      "| >  865         self._exit_buffer()                                          |\n",
      "|    866                                                                      |\n",
      "|                                                                             |\n",
      "| E:\\python\\lib\\site-packages\\rich\\console.py:823 in _exit_buffer             |\n",
      "|                                                                             |\n",
      "|    822         self._buffer_index -= 1                                      |\n",
      "| >  823         self._check_buffer()                                         |\n",
      "|    824                                                                      |\n",
      "|                                                                             |\n",
      "| E:\\python\\lib\\site-packages\\rich\\console.py:2027 in _check_buffer           |\n",
      "|                                                                             |\n",
      "|   2026                                                                      |\n",
      "| > 2027                             legacy_windows_render(buffer, LegacyWind |\n",
      "|   2028                         else:                                        |\n",
      "|                                                                             |\n",
      "| E:\\python\\lib\\site-packages\\rich\\_windows_renderer.py:17 in                 |\n",
      "| legacy_windows_render                                                       |\n",
      "|                                                                             |\n",
      "|   16             if style:                                                  |\n",
      "| > 17                 term.write_styled(text, style)                         |\n",
      "|   18             else:                                                      |\n",
      "|                                                                             |\n",
      "| E:\\python\\lib\\site-packages\\rich\\_win32_console.py:442 in write_styled      |\n",
      "|                                                                             |\n",
      "|   441         )                                                             |\n",
      "| > 442         self.write_text(text)                                         |\n",
      "|   443         SetConsoleTextAttribute(self._handle, attributes=self._defaul |\n",
      "|                                                                             |\n",
      "| E:\\python\\lib\\site-packages\\rich\\_win32_console.py:403 in write_text        |\n",
      "|                                                                             |\n",
      "|   402         \"\"\"                                                           |\n",
      "| > 403         self.write(text)                                              |\n",
      "|   404         self.flush()                                                  |\n",
      "+-----------------------------------------------------------------------------+\n",
      "UnicodeEncodeError: 'gbk' codec can't encode character '\\u2713' in position 0: \n",
      "illegal multibyte sequence\n"
     ]
    }
   ],
   "source": [
    "data_dir = \"data_sql\"\n",
    "\n",
    "!modal run src.load_data_sql --data-dir {data_dir}"
   ]
  },
  {
   "cell_type": "markdown",
   "id": "504083566cf863ff",
   "metadata": {
    "collapsed": false
   },
   "source": [
    "### Run Finetuning Script\n",
    "\n",
    "We run our finetuning script on the loaded dataset.\n",
    "The finetuning script contains the following components:\n",
    "- We split the dataset into training and validation splits.\n",
    "- We format each split into input/output tuples of token id's. This means that the labels are the same as inputs (loss signal is measured on full input, not just on the generated portion).\n",
    "- We use `LoraConfig` from `peft` for efficient fine-tuning.\n",
    "- We use `transformers.Trainer` to actually run the training process.\n",
    "- If a valid `WANDB_PROJECT` is specified, along with the relevant secret in Modal, then we will log results to wandb.\n",
    "\n",
    "We use Modal to spin up an A100 to run our finetuning code."
   ]
  },
  {
   "cell_type": "code",
   "execution_count": 4,
   "id": "73b0775c25a57687",
   "metadata": {
    "collapsed": false,
    "ExecuteTime": {
     "end_time": "2023-12-02T03:25:36.722864800Z",
     "start_time": "2023-12-02T03:25:31.970679400Z"
    }
   },
   "outputs": [
    {
     "name": "stdout",
     "output_type": "stream",
     "text": [
      "- Initializing...\n"
     ]
    },
    {
     "name": "stderr",
     "output_type": "stream",
     "text": [
      "+--------------------- Traceback (most recent call last) ---------------------+\n",
      "| E:\\python\\lib\\runpy.py:196 in _run_module_as_main                           |\n",
      "|                                                                             |\n",
      "|   195         sys.argv[0] = mod_spec.origin                                 |\n",
      "| > 196     return _run_code(code, main_globals, None,                        |\n",
      "|   197                      \"__main__\", mod_spec)                            |\n",
      "|                                                                             |\n",
      "| E:\\python\\lib\\runpy.py:86 in _run_code                                      |\n",
      "|                                                                             |\n",
      "|    85                        __spec__ = mod_spec)                           |\n",
      "| >  86     exec(code, run_globals)                                           |\n",
      "|    87     return run_globals                                                |\n",
      "|                                                                             |\n",
      "| E:\\python\\Scripts\\modal.exe\\__main__.py:7 in <module>                       |\n",
      "|                                                                             |\n",
      "|                                                                             |\n",
      "| E:\\python\\lib\\site-packages\\modal\\__main__.py:9 in main                     |\n",
      "|                                                                             |\n",
      "|    8     setup_rich_traceback()                                             |\n",
      "| >  9     entrypoint_cli()                                                   |\n",
      "|   10                                                                        |\n",
      "|                                                                             |\n",
      "| E:\\python\\lib\\site-packages\\click\\core.py:1130 in __call__                  |\n",
      "|                                                                             |\n",
      "|   1129         \"\"\"Alias for :meth:`main`.\"\"\"                                |\n",
      "| > 1130         return self.main(*args, **kwargs)                            |\n",
      "|   1131                                                                      |\n",
      "|                                                                             |\n",
      "| E:\\python\\lib\\site-packages\\typer\\core.py:778 in main                       |\n",
      "|                                                                             |\n",
      "|   777     ) -> Any:                                                         |\n",
      "| > 778         return _main(                                                 |\n",
      "|   779             self,                                                     |\n",
      "|                                                                             |\n",
      "| E:\\python\\lib\\site-packages\\typer\\core.py:216 in _main                      |\n",
      "|                                                                             |\n",
      "|   215             with self.make_context(prog_name, args, **extra) as ctx:  |\n",
      "| > 216                 rv = self.invoke(ctx)                                 |\n",
      "|   217                 if not standalone_mode:                               |\n",
      "|                                                                             |\n",
      "| E:\\python\\lib\\site-packages\\click\\core.py:1657 in invoke                    |\n",
      "|                                                                             |\n",
      "|   1656                 with sub_ctx:                                        |\n",
      "| > 1657                     return _process_result(sub_ctx.command.invoke(su |\n",
      "|   1658                                                                      |\n",
      "|                                                                             |\n",
      "| E:\\python\\lib\\site-packages\\click\\core.py:1657 in invoke                    |\n",
      "|                                                                             |\n",
      "|   1656                 with sub_ctx:                                        |\n",
      "| > 1657                     return _process_result(sub_ctx.command.invoke(su |\n",
      "|   1658                                                                      |\n",
      "|                                                                             |\n",
      "| E:\\python\\lib\\site-packages\\click\\core.py:1404 in invoke                    |\n",
      "|                                                                             |\n",
      "|   1403         if self.callback is not None:                                |\n",
      "| > 1404             return ctx.invoke(self.callback, **ctx.params)           |\n",
      "|   1405                                                                      |\n",
      "|                                                                             |\n",
      "| E:\\python\\lib\\site-packages\\click\\core.py:760 in invoke                     |\n",
      "|                                                                             |\n",
      "|    759             with ctx:                                                |\n",
      "| >  760                 return __callback(*args, **kwargs)                   |\n",
      "|    761                                                                      |\n",
      "|                                                                             |\n",
      "| E:\\python\\lib\\site-packages\\click\\decorators.py:26 in new_func              |\n",
      "|                                                                             |\n",
      "|    25     def new_func(*args, **kwargs):  # type: ignore                    |\n",
      "| >  26         return f(get_current_context(), *args, **kwargs)              |\n",
      "|    27                                                                       |\n",
      "|                                                                             |\n",
      "| E:\\python\\lib\\site-packages\\modal\\cli\\run.py:114 in f                       |\n",
      "|                                                                             |\n",
      "|   113     def f(ctx, **kwargs):                                             |\n",
      "| > 114         with run_stub(                                                |\n",
      "|   115             stub,                                                     |\n",
      "|                                                                             |\n",
      "| E:\\python\\lib\\site-packages\\synchronicity\\synchronizer.py:497 in            |\n",
      "| proxy_method                                                                |\n",
      "|                                                                             |\n",
      "| E:\\python\\lib\\site-packages\\synchronicity\\combined_types.py:26 in __call__  |\n",
      "|                                                                             |\n",
      "| E:\\python\\lib\\contextlib.py:199 in __aenter__                               |\n",
      "|                                                                             |\n",
      "|   198         try:                                                          |\n",
      "| > 199             return await anext(self.gen)                              |\n",
      "|   200         except StopAsyncIteration:                                    |\n",
      "|                                                                             |\n",
      "| E:\\python\\lib\\site-packages\\modal\\runner.py:83 in _run_stub                 |\n",
      "|                                                                             |\n",
      "|    82                                                                       |\n",
      "| >  83         with output_mgr.ctx_if_visible(output_mgr.make_live(step_prog |\n",
      "|    84             initialized_msg = f\"Initialized. [grey70]View run at [und |\n",
      "|                                                                             |\n",
      "| E:\\python\\lib\\site-packages\\rich\\live.py:175 in __exit__                    |\n",
      "|                                                                             |\n",
      "|   174     ) -> None:                                                        |\n",
      "| > 175         self.stop()                                                   |\n",
      "|   176                                                                       |\n",
      "|                                                                             |\n",
      "| E:\\python\\lib\\site-packages\\rich\\live.py:147 in stop                        |\n",
      "|                                                                             |\n",
      "|   146             self.vertical_overflow = \"visible\"                        |\n",
      "| > 147             with self.console:                                        |\n",
      "|   148                 try:                                                  |\n",
      "|                                                                             |\n",
      "| E:\\python\\lib\\site-packages\\rich\\console.py:865 in __exit__                 |\n",
      "|                                                                             |\n",
      "|    864         \"\"\"Exit buffer context.\"\"\"                                   |\n",
      "| >  865         self._exit_buffer()                                          |\n",
      "|    866                                                                      |\n",
      "|                                                                             |\n",
      "| E:\\python\\lib\\site-packages\\rich\\console.py:823 in _exit_buffer             |\n",
      "|                                                                             |\n",
      "|    822         self._buffer_index -= 1                                      |\n",
      "| >  823         self._check_buffer()                                         |\n",
      "|    824                                                                      |\n",
      "|                                                                             |\n",
      "| E:\\python\\lib\\site-packages\\rich\\console.py:2027 in _check_buffer           |\n",
      "|                                                                             |\n",
      "|   2026                                                                      |\n",
      "| > 2027                             legacy_windows_render(buffer, LegacyWind |\n",
      "|   2028                         else:                                        |\n",
      "|                                                                             |\n",
      "| E:\\python\\lib\\site-packages\\rich\\_windows_renderer.py:17 in                 |\n",
      "| legacy_windows_render                                                       |\n",
      "|                                                                             |\n",
      "|   16             if style:                                                  |\n",
      "| > 17                 term.write_styled(text, style)                         |\n",
      "|   18             else:                                                      |\n",
      "|                                                                             |\n",
      "| E:\\python\\lib\\site-packages\\rich\\_win32_console.py:442 in write_styled      |\n",
      "|                                                                             |\n",
      "|   441         )                                                             |\n",
      "| > 442         self.write_text(text)                                         |\n",
      "|   443         SetConsoleTextAttribute(self._handle, attributes=self._defaul |\n",
      "|                                                                             |\n",
      "| E:\\python\\lib\\site-packages\\rich\\_win32_console.py:403 in write_text        |\n",
      "|                                                                             |\n",
      "|   402         \"\"\"                                                           |\n",
      "| > 403         self.write(text)                                              |\n",
      "|   404         self.flush()                                                  |\n",
      "+-----------------------------------------------------------------------------+\n",
      "UnicodeEncodeError: 'gbk' codec can't encode character '\\u2713' in position 0: \n",
      "illegal multibyte sequence\n"
     ]
    }
   ],
   "source": [
    "data_dir = \"data_sql\"\n",
    "\n",
    "!modal run src.finetune_sql --data-dir {data_dir}"
   ]
  },
  {
   "cell_type": "markdown",
   "id": "fb8cf0faea68f649",
   "metadata": {
    "collapsed": false
   },
   "source": [
    "### Evaluation\n",
    "\n",
    "We provide a basic evaluation script over sample data from `sql-create-context` so that you can see for yourself how well the finetuned model performs vs. the baseline model."
   ]
  },
  {
   "cell_type": "code",
   "execution_count": 3,
   "id": "d5f532fb51fa3976",
   "metadata": {
    "collapsed": false,
    "ExecuteTime": {
     "end_time": "2023-12-02T03:20:37.936605900Z",
     "start_time": "2023-12-02T03:20:32.465043900Z"
    }
   },
   "outputs": [
    {
     "name": "stderr",
     "output_type": "stream",
     "text": [
      "E:\\python\\lib\\site-packages\\langchain\\__init__.py:34: UserWarning: Importing BasePromptTemplate from langchain root module is no longer supported. Please use langchain.schema.prompt_template.BasePromptTemplate instead.\n",
      "  warnings.warn(\n",
      "E:\\python\\lib\\site-packages\\langchain\\__init__.py:34: UserWarning: Importing PromptTemplate from langchain root module is no longer supported. Please use langchain.prompts.PromptTemplate instead.\n",
      "  warnings.warn(\n",
      "E:\\python\\lib\\site-packages\\pydantic\\_internal\\_config.py:269: UserWarning: Valid config keys have changed in V2:\n",
      "* 'allow_population_by_field_name' has been renamed to 'populate_by_name'\n",
      "  warnings.warn(message, UserWarning)\n",
      "+--------------------- Traceback (most recent call last) ---------------------+\n",
      "| E:\\python\\lib\\runpy.py:196 in _run_module_as_main                           |\n",
      "|                                                                             |\n",
      "|   195         sys.argv[0] = mod_spec.origin                                 |\n",
      "| > 196     return _run_code(code, main_globals, None,                        |\n",
      "|   197                      \"__main__\", mod_spec)                            |\n",
      "|                                                                             |\n",
      "| E:\\python\\lib\\runpy.py:86 in _run_code                                      |\n",
      "|                                                                             |\n",
      "|    85                        __spec__ = mod_spec)                           |\n",
      "| >  86     exec(code, run_globals)                                           |\n",
      "|    87     return run_globals                                                |\n",
      "|                                                                             |\n",
      "| E:\\python\\Scripts\\modal.exe\\__main__.py:7 in <module>                       |\n",
      "|                                                                             |\n",
      "|                                                                             |\n",
      "| E:\\python\\lib\\site-packages\\modal\\__main__.py:9 in main                     |\n",
      "|                                                                             |\n",
      "|    8     setup_rich_traceback()                                             |\n",
      "| >  9     entrypoint_cli()                                                   |\n",
      "|   10                                                                        |\n",
      "|                                                                             |\n",
      "| E:\\python\\lib\\site-packages\\click\\core.py:1130 in __call__                  |\n",
      "|                                                                             |\n",
      "|   1129         \"\"\"Alias for :meth:`main`.\"\"\"                                |\n",
      "| > 1130         return self.main(*args, **kwargs)                            |\n",
      "|   1131                                                                      |\n",
      "|                                                                             |\n",
      "| E:\\python\\lib\\site-packages\\typer\\core.py:778 in main                       |\n",
      "|                                                                             |\n",
      "|   777     ) -> Any:                                                         |\n",
      "| > 778         return _main(                                                 |\n",
      "|   779             self,                                                     |\n",
      "|                                                                             |\n",
      "| E:\\python\\lib\\site-packages\\typer\\core.py:216 in _main                      |\n",
      "|                                                                             |\n",
      "|   215             with self.make_context(prog_name, args, **extra) as ctx:  |\n",
      "| > 216                 rv = self.invoke(ctx)                                 |\n",
      "|   217                 if not standalone_mode:                               |\n",
      "|                                                                             |\n",
      "| E:\\python\\lib\\site-packages\\click\\core.py:1657 in invoke                    |\n",
      "|                                                                             |\n",
      "|   1656                 with sub_ctx:                                        |\n",
      "| > 1657                     return _process_result(sub_ctx.command.invoke(su |\n",
      "|   1658                                                                      |\n",
      "|                                                                             |\n",
      "| E:\\python\\lib\\site-packages\\click\\core.py:1651 in invoke                    |\n",
      "|                                                                             |\n",
      "|   1650             with ctx:                                                |\n",
      "| > 1651                 cmd_name, cmd, args = self.resolve_command(ctx, args |\n",
      "|   1652                 assert cmd is not None                               |\n",
      "|                                                                             |\n",
      "| E:\\python\\lib\\site-packages\\click\\core.py:1698 in resolve_command           |\n",
      "|                                                                             |\n",
      "|   1697         # Get the command                                            |\n",
      "| > 1698         cmd = self.get_command(ctx, cmd_name)                        |\n",
      "|   1699                                                                      |\n",
      "|                                                                             |\n",
      "| E:\\python\\lib\\site-packages\\modal\\cli\\run.py:162 in get_command             |\n",
      "|                                                                             |\n",
      "|   161     def get_command(self, ctx, func_ref):                             |\n",
      "| > 162         function_or_entrypoint = import_function(func_ref, accept_loc |\n",
      "|   163         stub: Stub = function_or_entrypoint.stub                      |\n",
      "|                                                                             |\n",
      "| E:\\python\\lib\\site-packages\\modal\\cli\\import_refs.py:227 in import_function |\n",
      "|                                                                             |\n",
      "|   226     try:                                                              |\n",
      "| > 227         module = import_file_or_module(import_ref.file_or_module)     |\n",
      "|   228         obj_path = import_ref.object_path or DEFAULT_STUB_NAME  # get |\n",
      "|                                                                             |\n",
      "| E:\\python\\lib\\site-packages\\modal\\cli\\import_refs.py:77 in                  |\n",
      "| import_file_or_module                                                       |\n",
      "|                                                                             |\n",
      "|    76     else:                                                             |\n",
      "| >  77         module = importlib.import_module(file_or_module)              |\n",
      "|    78                                                                       |\n",
      "|                                                                             |\n",
      "| E:\\python\\lib\\importlib\\__init__.py:126 in import_module                    |\n",
      "|                                                                             |\n",
      "|   125             level += 1                                                |\n",
      "| > 126     return _bootstrap._gcd_import(name[level:], package, level)       |\n",
      "|   127                                                                       |\n",
      "| <frozen importlib._bootstrap>:1050 in _gcd_import                           |\n",
      "|                                                                             |\n",
      "| <frozen importlib._bootstrap>:1027 in _find_and_load                        |\n",
      "|                                                                             |\n",
      "| <frozen importlib._bootstrap>:1006 in _find_and_load_unlocked               |\n",
      "|                                                                             |\n",
      "| <frozen importlib._bootstrap>:688 in _load_unlocked                         |\n",
      "|                                                                             |\n",
      "| <frozen importlib._bootstrap_external>:883 in exec_module                   |\n",
      "|                                                                             |\n",
      "| <frozen importlib._bootstrap>:241 in _call_with_frames_removed              |\n",
      "|                                                                             |\n",
      "|                                                                             |\n",
      "| G:\\graduation                                                               |\n",
      "| project\\hugging_face_test\\demo\\test_nlq_to_sql\\modal_finetune_sql\\src\\eval_ |\n",
      "| sql.py:10 in <module>                                                       |\n",
      "|                                                                             |\n",
      "|     9 )                                                                     |\n",
      "| >  10 from .inference_utils import OpenLlamaLLM                             |\n",
      "|    11                                                                       |\n",
      "|                                                                             |\n",
      "| G:\\graduation                                                               |\n",
      "| project\\hugging_face_test\\demo\\test_nlq_to_sql\\modal_finetune_sql\\src\\infer |\n",
      "| ence_utils.py:16 in <module>                                                |\n",
      "|                                                                             |\n",
      "|    15                                                                       |\n",
      "| >  16 from llama_index.callbacks import CallbackManager                     |\n",
      "|    17 from llama_index.llms import (                                        |\n",
      "|                                                                             |\n",
      "| E:\\python\\lib\\site-packages\\llama_index\\__init__.py:12 in <module>          |\n",
      "|                                                                             |\n",
      "|    11                                                                       |\n",
      "| >  12 from llama_index.data_structs.struct_type import IndexStructType      |\n",
      "|    13                                                                       |\n",
      "|                                                                             |\n",
      "| E:\\python\\lib\\site-packages\\llama_index\\data_structs\\__init__.py:3 in       |\n",
      "| <module>                                                                    |\n",
      "|                                                                             |\n",
      "|    2                                                                        |\n",
      "| >  3 from llama_index.data_structs.data_structs import (                    |\n",
      "|    4     IndexDict,                                                         |\n",
      "|                                                                             |\n",
      "| E:\\python\\lib\\site-packages\\llama_index\\data_structs\\data_structs.py:14 in  |\n",
      "| <module>                                                                    |\n",
      "|                                                                             |\n",
      "|    13                                                                       |\n",
      "| >  14 from llama_index.schema import BaseNode, TextNode                     |\n",
      "|    15 from llama_index.data_structs.struct_type import IndexStructType      |\n",
      "|                                                                             |\n",
      "| E:\\python\\lib\\site-packages\\llama_index\\schema.py:215 in <module>           |\n",
      "|                                                                             |\n",
      "|   214                                                                       |\n",
      "| > 215 class TextNode(BaseNode):                                             |\n",
      "|   216     text: str = Field(default=\"\", description=\"Text content of the no |\n",
      "|                                                                             |\n",
      "| E:\\python\\lib\\site-packages\\llama_index\\schema.py:243 in TextNode           |\n",
      "|                                                                             |\n",
      "|   242     @root_validator                                                   |\n",
      "| > 243     def _check_hash(cls, values: dict) -> dict:                       |\n",
      "|   244         \"\"\"Generate a hash to represent the node.\"\"\"                  |\n",
      "|                                                                             |\n",
      "| E:\\python\\lib\\site-packages\\pydantic\\deprecated\\class_validators.py:222 in  |\n",
      "| root_validator                                                              |\n",
      "|                                                                             |\n",
      "|   221         # Ensure a nice error is raised if someone attempts to use th |\n",
      "| > 222         return root_validator()(*__args)  # type: ignore              |\n",
      "|   223                                                                       |\n",
      "|                                                                             |\n",
      "| E:\\python\\lib\\site-packages\\pydantic\\deprecated\\class_validators.py:228 in  |\n",
      "| root_validator                                                              |\n",
      "|                                                                             |\n",
      "|   227     if pre is False and skip_on_failure is not True:                  |\n",
      "| > 228         raise PydanticUserError(                                      |\n",
      "|   229             'If you use `@root_validator` with pre=False (the default |\n",
      "+-----------------------------------------------------------------------------+\n",
      "PydanticUserError: If you use `@root_validator` with pre=False (the default) \n",
      "you MUST specify `skip_on_failure=True`. Note that `@root_validator` is \n",
      "deprecated and should be replaced with `@model_validator`.\n",
      "\n",
      "For further information visit \n",
      "https://errors.pydantic.dev/2.3/u/root-validator-pre-skip\n"
     ]
    }
   ],
   "source": [
    "!modal run src.eval_sql::main"
   ]
  },
  {
   "cell_type": "markdown",
   "id": "faa5f314a6921d3b",
   "metadata": {
    "collapsed": false
   },
   "source": [
    "### Integrate Model with LlamaIndex\n",
    "\n",
    "Now that the model is finetuned, the checkpoints and model binary are stored in a model directory (by default it is in `/vol/data_sql`).\n",
    "\n",
    "We can now use this model in LlamaIndex for text-to-SQL applications.\n",
    "\n",
    "Specifically, we provide an interface allowing users to define any `sqlite` data file, and then they can run queries over this data file. We first create and dump a sample `cities.db` file containing (city, population, country) tuples. We then run inference over this file."
   ]
  },
  {
   "cell_type": "markdown",
   "id": "19abfbf240fe826a",
   "metadata": {
    "collapsed": false
   },
   "source": [
    "#### Create sample db"
   ]
  },
  {
   "cell_type": "code",
   "execution_count": null,
   "id": "f898289657fbc462",
   "metadata": {
    "collapsed": false
   },
   "outputs": [],
   "source": [
    "# create sample\n",
    "from sqlalchemy import (\n",
    "    create_engine,\n",
    "    MetaData,\n",
    "    Table,\n",
    "    Column,\n",
    "    String,\n",
    "    Integer,\n",
    "    select,\n",
    "    column,\n",
    ")"
   ]
  },
  {
   "cell_type": "code",
   "execution_count": null,
   "id": "a053c025891a1a9e",
   "metadata": {
    "collapsed": false
   },
   "outputs": [],
   "source": [
    "db_file = \"cities.db\"\n",
    "engine = create_engine(f\"sqlite:///{db_file}\")\n",
    "metadata_obj = MetaData()"
   ]
  },
  {
   "cell_type": "code",
   "execution_count": null,
   "id": "c27a2cd57dd77783",
   "metadata": {
    "collapsed": false
   },
   "outputs": [],
   "source": [
    "# create city SQL table\n",
    "table_name = \"city_stats\"\n",
    "city_stats_table = Table(\n",
    "    table_name,\n",
    "    metadata_obj,\n",
    "    Column(\"city_name\", String(16), primary_key=True),\n",
    "    Column(\"population\", Integer),\n",
    "    Column(\"country\", String(16), nullable=False),\n",
    ")\n",
    "metadata_obj.create_all(engine)"
   ]
  },
  {
   "cell_type": "code",
   "execution_count": null,
   "id": "46a73f631f2a16ff",
   "metadata": {
    "collapsed": false
   },
   "outputs": [],
   "source": [
    "# insert sample rows\n",
    "from sqlalchemy import insert\n",
    "\n",
    "rows = [\n",
    "    {\"city_name\": \"多伦多\", \"population\": 2930000, \"country\": \"加拿大\"},\n",
    "    {\"city_name\": \"东京\", \"population\": 13960000, \"country\": \"日本\"},\n",
    "    {\"city_name\": \"芝加哥\", \"population\": 2679000, \"country\": \"美国\"},\n",
    "    {\"city_name\": \"首尔\", \"population\": 9776000, \"country\": \"韩国\"},\n",
    "]\n",
    "for row in rows:\n",
    "    stmt = insert(city_stats_table).values(**row)\n",
    "    with engine.connect() as connection:\n",
    "        cursor = connection.execute(stmt)\n",
    "        connection.commit()"
   ]
  },
  {
   "cell_type": "markdown",
   "id": "a23645e518f25194",
   "metadata": {
    "collapsed": false
   },
   "source": [
    "#### Run Inference"
   ]
  },
  {
   "cell_type": "code",
   "execution_count": null,
   "id": "6a3cad7f1ad0c9d0",
   "metadata": {
    "collapsed": false
   },
   "outputs": [],
   "source": [
    "query = \"哪个城市的人口最多?\"\n",
    "\n",
    "!modal run src.inference_sql_llamaindex::main --query '{query}' --sqlite-file-path {db_file} --model-dir \"data_sql\" --use-finetuned-model True"
   ]
  },
  {
   "cell_type": "code",
   "execution_count": null,
   "id": "6307bfd88ea8ea91",
   "metadata": {
    "collapsed": false
   },
   "outputs": [],
   "source": [
    "# you can also choose to run the original (nonfinetuned model) to compare results\n",
    "# note: it throws an error\n",
    "\n",
    "# use non-finetuned model\n",
    "!modal run src.inference_sql_llamaindex::main --query '{query}' --sqlite-file-path {db_file} --model-dir \"data_sql\" --use-finetuned-model False"
   ]
  },
  {
   "cell_type": "markdown",
   "id": "4f03fff861e4f85c",
   "metadata": {
    "collapsed": false
   },
   "source": [
    "### (Optional) Download Model\n",
    "\n",
    "If you want to download the model weights for your own use, just run the following script."
   ]
  },
  {
   "cell_type": "code",
   "execution_count": null,
   "id": "9ad7a136a36600ec",
   "metadata": {
    "collapsed": false
   },
   "outputs": [],
   "source": [
    "from src.download_weights import main\n",
    "\n",
    "main(\"out_model\", model_dir=\"data_sql\")"
   ]
  },
  {
   "cell_type": "code",
   "execution_count": null,
   "id": "89579dd4e6def74e",
   "metadata": {
    "collapsed": false
   },
   "outputs": [],
   "source": [
    "from huggingface_hub import Repository\n",
    "\n",
    "def upload_model_to_huggingface(model_dir: str, model_id: str):\n",
    "    repo = Repository(local_dir=model_dir, clone_from=model_id)\n",
    "    repo.push_to_hub()\n",
    "\n",
    "# 使用您的 Hugging Face 用户名和模型名称替换 \"your-username/your-model-name\"\n",
    "upload_model_to_huggingface(\"data_sql\", \"jtjt520j/test_atom_7B_text_to_sql\")"
   ]
  }
 ],
 "metadata": {
  "accelerator": "GPU",
  "colab": {
   "gpuType": "T4",
   "provenance": []
  },
  "kernelspec": {
   "display_name": "Python 3 (ipykernel)",
   "language": "python",
   "name": "python3"
  },
  "language_info": {
   "codemirror_mode": {
    "name": "ipython",
    "version": 3
   },
   "file_extension": ".py",
   "mimetype": "text/x-python",
   "name": "python",
   "nbconvert_exporter": "python",
   "pygments_lexer": "ipython3",
   "version": "3.8.10"
  }
 },
 "nbformat": 4,
 "nbformat_minor": 5
}
